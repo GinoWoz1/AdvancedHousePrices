{
 "cells": [
  {
   "cell_type": "code",
   "execution_count": 1,
   "metadata": {
    "scrolled": true
   },
   "outputs": [
    {
     "name": "stderr",
     "output_type": "stream",
     "text": [
      "C:\\Users\\jjonus\\Anaconda3\\lib\\site-packages\\h5py\\__init__.py:36: FutureWarning: Conversion of the second argument of issubdtype from `float` to `np.floating` is deprecated. In future, it will be treated as `np.float64 == np.dtype(float).type`.\n",
      "  from ._conv import register_converters as _register_converters\n",
      "Using TensorFlow backend.\n"
     ]
    }
   ],
   "source": [
    "from sklearn.model_selection import train_test_split,RepeatedKFold\n",
    "from fancyimpute import MICE # imputation\n",
    "import pandas as pd\n",
    "import numpy as np\n",
    "import matplotlib.pyplot as plt\n",
    "from sklearn.model_selection import learning_curve,cross_val_score,GridSearchCV\n",
    "from sklearn.metrics import make_scorer\n",
    "from sklearn.linear_model import RidgeCV\n",
    "import seaborn as sns\n",
    "import warnings\n",
    "warnings.filterwarnings('ignore')"
   ]
  },
  {
   "cell_type": "code",
   "execution_count": 2,
   "metadata": {},
   "outputs": [
    {
     "name": "stdout",
     "output_type": "stream",
     "text": [
      "[MICE] Completing matrix with shape (1460, 36)\n",
      "[MICE] Starting imputation round 1/110, elapsed time 0.001\n",
      "[MICE] Starting imputation round 2/110, elapsed time 0.066\n",
      "[MICE] Starting imputation round 3/110, elapsed time 0.067\n",
      "[MICE] Starting imputation round 4/110, elapsed time 0.068\n",
      "[MICE] Starting imputation round 5/110, elapsed time 0.069\n",
      "[MICE] Starting imputation round 6/110, elapsed time 0.070\n",
      "[MICE] Starting imputation round 7/110, elapsed time 0.071\n",
      "[MICE] Starting imputation round 8/110, elapsed time 0.072\n",
      "[MICE] Starting imputation round 9/110, elapsed time 0.073\n",
      "[MICE] Starting imputation round 10/110, elapsed time 0.074\n",
      "[MICE] Starting imputation round 11/110, elapsed time 0.074\n",
      "[MICE] Starting imputation round 12/110, elapsed time 0.075\n",
      "[MICE] Starting imputation round 13/110, elapsed time 0.076\n",
      "[MICE] Starting imputation round 14/110, elapsed time 0.077\n",
      "[MICE] Starting imputation round 15/110, elapsed time 0.078\n",
      "[MICE] Starting imputation round 16/110, elapsed time 0.079\n",
      "[MICE] Starting imputation round 17/110, elapsed time 0.080\n",
      "[MICE] Starting imputation round 18/110, elapsed time 0.081\n",
      "[MICE] Starting imputation round 19/110, elapsed time 0.082\n",
      "[MICE] Starting imputation round 20/110, elapsed time 0.083\n",
      "[MICE] Starting imputation round 21/110, elapsed time 0.084\n",
      "[MICE] Starting imputation round 22/110, elapsed time 0.085\n",
      "[MICE] Starting imputation round 23/110, elapsed time 0.086\n",
      "[MICE] Starting imputation round 24/110, elapsed time 0.087\n",
      "[MICE] Starting imputation round 25/110, elapsed time 0.088\n",
      "[MICE] Starting imputation round 26/110, elapsed time 0.089\n",
      "[MICE] Starting imputation round 27/110, elapsed time 0.090\n",
      "[MICE] Starting imputation round 28/110, elapsed time 0.091\n",
      "[MICE] Starting imputation round 29/110, elapsed time 0.092\n",
      "[MICE] Starting imputation round 30/110, elapsed time 0.093\n",
      "[MICE] Starting imputation round 31/110, elapsed time 0.094\n",
      "[MICE] Starting imputation round 32/110, elapsed time 0.095\n",
      "[MICE] Starting imputation round 33/110, elapsed time 0.096\n",
      "[MICE] Starting imputation round 34/110, elapsed time 0.097\n",
      "[MICE] Starting imputation round 35/110, elapsed time 0.098\n",
      "[MICE] Starting imputation round 36/110, elapsed time 0.099\n",
      "[MICE] Starting imputation round 37/110, elapsed time 0.100\n",
      "[MICE] Starting imputation round 38/110, elapsed time 0.101\n",
      "[MICE] Starting imputation round 39/110, elapsed time 0.102\n",
      "[MICE] Starting imputation round 40/110, elapsed time 0.103\n",
      "[MICE] Starting imputation round 41/110, elapsed time 0.104\n",
      "[MICE] Starting imputation round 42/110, elapsed time 0.105\n",
      "[MICE] Starting imputation round 43/110, elapsed time 0.106\n",
      "[MICE] Starting imputation round 44/110, elapsed time 0.107\n",
      "[MICE] Starting imputation round 45/110, elapsed time 0.108\n",
      "[MICE] Starting imputation round 46/110, elapsed time 0.109\n",
      "[MICE] Starting imputation round 47/110, elapsed time 0.110\n",
      "[MICE] Starting imputation round 48/110, elapsed time 0.111\n",
      "[MICE] Starting imputation round 49/110, elapsed time 0.112\n",
      "[MICE] Starting imputation round 50/110, elapsed time 0.113\n",
      "[MICE] Starting imputation round 51/110, elapsed time 0.114\n",
      "[MICE] Starting imputation round 52/110, elapsed time 0.115\n",
      "[MICE] Starting imputation round 53/110, elapsed time 0.116\n",
      "[MICE] Starting imputation round 54/110, elapsed time 0.117\n",
      "[MICE] Starting imputation round 55/110, elapsed time 0.118\n",
      "[MICE] Starting imputation round 56/110, elapsed time 0.119\n",
      "[MICE] Starting imputation round 57/110, elapsed time 0.120\n",
      "[MICE] Starting imputation round 58/110, elapsed time 0.121\n",
      "[MICE] Starting imputation round 59/110, elapsed time 0.122\n",
      "[MICE] Starting imputation round 60/110, elapsed time 0.123\n",
      "[MICE] Starting imputation round 61/110, elapsed time 0.124\n",
      "[MICE] Starting imputation round 62/110, elapsed time 0.125\n",
      "[MICE] Starting imputation round 63/110, elapsed time 0.126\n",
      "[MICE] Starting imputation round 64/110, elapsed time 0.127\n",
      "[MICE] Starting imputation round 65/110, elapsed time 0.128\n",
      "[MICE] Starting imputation round 66/110, elapsed time 0.129\n",
      "[MICE] Starting imputation round 67/110, elapsed time 0.130\n",
      "[MICE] Starting imputation round 68/110, elapsed time 0.131\n",
      "[MICE] Starting imputation round 69/110, elapsed time 0.132\n",
      "[MICE] Starting imputation round 70/110, elapsed time 0.133\n",
      "[MICE] Starting imputation round 71/110, elapsed time 0.134\n",
      "[MICE] Starting imputation round 72/110, elapsed time 0.135\n",
      "[MICE] Starting imputation round 73/110, elapsed time 0.136\n",
      "[MICE] Starting imputation round 74/110, elapsed time 0.137\n",
      "[MICE] Starting imputation round 75/110, elapsed time 0.137\n",
      "[MICE] Starting imputation round 76/110, elapsed time 0.138\n",
      "[MICE] Starting imputation round 77/110, elapsed time 0.139\n",
      "[MICE] Starting imputation round 78/110, elapsed time 0.140\n",
      "[MICE] Starting imputation round 79/110, elapsed time 0.142\n",
      "[MICE] Starting imputation round 80/110, elapsed time 0.142\n",
      "[MICE] Starting imputation round 81/110, elapsed time 0.144\n",
      "[MICE] Starting imputation round 82/110, elapsed time 0.145\n",
      "[MICE] Starting imputation round 83/110, elapsed time 0.146\n",
      "[MICE] Starting imputation round 84/110, elapsed time 0.147\n",
      "[MICE] Starting imputation round 85/110, elapsed time 0.147\n",
      "[MICE] Starting imputation round 86/110, elapsed time 0.149\n",
      "[MICE] Starting imputation round 87/110, elapsed time 0.150\n",
      "[MICE] Starting imputation round 88/110, elapsed time 0.151\n",
      "[MICE] Starting imputation round 89/110, elapsed time 0.152\n",
      "[MICE] Starting imputation round 90/110, elapsed time 0.153\n",
      "[MICE] Starting imputation round 91/110, elapsed time 0.154\n",
      "[MICE] Starting imputation round 92/110, elapsed time 0.155\n",
      "[MICE] Starting imputation round 93/110, elapsed time 0.156\n",
      "[MICE] Starting imputation round 94/110, elapsed time 0.157\n",
      "[MICE] Starting imputation round 95/110, elapsed time 0.158\n",
      "[MICE] Starting imputation round 96/110, elapsed time 0.159\n",
      "[MICE] Starting imputation round 97/110, elapsed time 0.160\n",
      "[MICE] Starting imputation round 98/110, elapsed time 0.161\n",
      "[MICE] Starting imputation round 99/110, elapsed time 0.162\n",
      "[MICE] Starting imputation round 100/110, elapsed time 0.163\n",
      "[MICE] Starting imputation round 101/110, elapsed time 0.164\n",
      "[MICE] Starting imputation round 102/110, elapsed time 0.165\n",
      "[MICE] Starting imputation round 103/110, elapsed time 0.166\n",
      "[MICE] Starting imputation round 104/110, elapsed time 0.167\n",
      "[MICE] Starting imputation round 105/110, elapsed time 0.168\n",
      "[MICE] Starting imputation round 106/110, elapsed time 0.168\n",
      "[MICE] Starting imputation round 107/110, elapsed time 0.169\n",
      "[MICE] Starting imputation round 108/110, elapsed time 0.170\n",
      "[MICE] Starting imputation round 109/110, elapsed time 0.171\n",
      "[MICE] Starting imputation round 110/110, elapsed time 0.172\n",
      "[MICE] Completing matrix with shape (1459, 36)\n",
      "[MICE] Starting imputation round 1/110, elapsed time 0.001\n",
      "[MICE] Starting imputation round 2/110, elapsed time 0.003\n",
      "[MICE] Starting imputation round 3/110, elapsed time 0.004\n",
      "[MICE] Starting imputation round 4/110, elapsed time 0.005\n",
      "[MICE] Starting imputation round 5/110, elapsed time 0.006\n",
      "[MICE] Starting imputation round 6/110, elapsed time 0.007\n",
      "[MICE] Starting imputation round 7/110, elapsed time 0.008\n",
      "[MICE] Starting imputation round 8/110, elapsed time 0.009\n",
      "[MICE] Starting imputation round 9/110, elapsed time 0.010\n",
      "[MICE] Starting imputation round 10/110, elapsed time 0.011\n",
      "[MICE] Starting imputation round 11/110, elapsed time 0.012\n",
      "[MICE] Starting imputation round 12/110, elapsed time 0.014\n",
      "[MICE] Starting imputation round 13/110, elapsed time 0.015\n",
      "[MICE] Starting imputation round 14/110, elapsed time 0.016\n",
      "[MICE] Starting imputation round 15/110, elapsed time 0.017\n",
      "[MICE] Starting imputation round 16/110, elapsed time 0.018\n",
      "[MICE] Starting imputation round 17/110, elapsed time 0.019\n",
      "[MICE] Starting imputation round 18/110, elapsed time 0.021\n",
      "[MICE] Starting imputation round 19/110, elapsed time 0.022\n",
      "[MICE] Starting imputation round 20/110, elapsed time 0.024\n",
      "[MICE] Starting imputation round 21/110, elapsed time 0.025\n",
      "[MICE] Starting imputation round 22/110, elapsed time 0.027\n",
      "[MICE] Starting imputation round 23/110, elapsed time 0.029\n",
      "[MICE] Starting imputation round 24/110, elapsed time 0.030\n",
      "[MICE] Starting imputation round 25/110, elapsed time 0.031\n",
      "[MICE] Starting imputation round 26/110, elapsed time 0.033\n",
      "[MICE] Starting imputation round 27/110, elapsed time 0.034\n",
      "[MICE] Starting imputation round 28/110, elapsed time 0.035\n",
      "[MICE] Starting imputation round 29/110, elapsed time 0.037\n",
      "[MICE] Starting imputation round 30/110, elapsed time 0.038\n",
      "[MICE] Starting imputation round 31/110, elapsed time 0.040\n",
      "[MICE] Starting imputation round 32/110, elapsed time 0.041\n",
      "[MICE] Starting imputation round 33/110, elapsed time 0.042\n",
      "[MICE] Starting imputation round 34/110, elapsed time 0.044\n",
      "[MICE] Starting imputation round 35/110, elapsed time 0.045\n",
      "[MICE] Starting imputation round 36/110, elapsed time 0.046\n",
      "[MICE] Starting imputation round 37/110, elapsed time 0.047\n",
      "[MICE] Starting imputation round 38/110, elapsed time 0.049\n",
      "[MICE] Starting imputation round 39/110, elapsed time 0.050\n",
      "[MICE] Starting imputation round 40/110, elapsed time 0.051\n",
      "[MICE] Starting imputation round 41/110, elapsed time 0.053\n",
      "[MICE] Starting imputation round 42/110, elapsed time 0.054\n",
      "[MICE] Starting imputation round 43/110, elapsed time 0.055\n",
      "[MICE] Starting imputation round 44/110, elapsed time 0.057\n",
      "[MICE] Starting imputation round 45/110, elapsed time 0.058\n",
      "[MICE] Starting imputation round 46/110, elapsed time 0.059\n",
      "[MICE] Starting imputation round 47/110, elapsed time 0.061\n",
      "[MICE] Starting imputation round 48/110, elapsed time 0.062\n",
      "[MICE] Starting imputation round 49/110, elapsed time 0.063\n",
      "[MICE] Starting imputation round 50/110, elapsed time 0.064\n",
      "[MICE] Starting imputation round 51/110, elapsed time 0.065\n",
      "[MICE] Starting imputation round 52/110, elapsed time 0.066\n",
      "[MICE] Starting imputation round 53/110, elapsed time 0.067\n",
      "[MICE] Starting imputation round 54/110, elapsed time 0.068\n",
      "[MICE] Starting imputation round 55/110, elapsed time 0.070\n",
      "[MICE] Starting imputation round 56/110, elapsed time 0.072\n",
      "[MICE] Starting imputation round 57/110, elapsed time 0.073\n",
      "[MICE] Starting imputation round 58/110, elapsed time 0.074\n",
      "[MICE] Starting imputation round 59/110, elapsed time 0.076\n",
      "[MICE] Starting imputation round 60/110, elapsed time 0.077\n",
      "[MICE] Starting imputation round 61/110, elapsed time 0.079\n",
      "[MICE] Starting imputation round 62/110, elapsed time 0.080\n",
      "[MICE] Starting imputation round 63/110, elapsed time 0.081\n",
      "[MICE] Starting imputation round 64/110, elapsed time 0.082\n",
      "[MICE] Starting imputation round 65/110, elapsed time 0.083\n",
      "[MICE] Starting imputation round 66/110, elapsed time 0.085\n",
      "[MICE] Starting imputation round 67/110, elapsed time 0.086\n",
      "[MICE] Starting imputation round 68/110, elapsed time 0.087\n",
      "[MICE] Starting imputation round 69/110, elapsed time 0.088\n",
      "[MICE] Starting imputation round 70/110, elapsed time 0.089\n",
      "[MICE] Starting imputation round 71/110, elapsed time 0.090\n",
      "[MICE] Starting imputation round 72/110, elapsed time 0.093\n",
      "[MICE] Starting imputation round 73/110, elapsed time 0.094\n",
      "[MICE] Starting imputation round 74/110, elapsed time 0.096\n",
      "[MICE] Starting imputation round 75/110, elapsed time 0.098\n",
      "[MICE] Starting imputation round 76/110, elapsed time 0.099\n",
      "[MICE] Starting imputation round 77/110, elapsed time 0.100\n",
      "[MICE] Starting imputation round 78/110, elapsed time 0.101\n",
      "[MICE] Starting imputation round 79/110, elapsed time 0.102\n",
      "[MICE] Starting imputation round 80/110, elapsed time 0.103\n",
      "[MICE] Starting imputation round 81/110, elapsed time 0.104\n",
      "[MICE] Starting imputation round 82/110, elapsed time 0.105\n",
      "[MICE] Starting imputation round 83/110, elapsed time 0.106\n",
      "[MICE] Starting imputation round 84/110, elapsed time 0.107\n",
      "[MICE] Starting imputation round 85/110, elapsed time 0.108\n",
      "[MICE] Starting imputation round 86/110, elapsed time 0.109\n",
      "[MICE] Starting imputation round 87/110, elapsed time 0.110\n",
      "[MICE] Starting imputation round 88/110, elapsed time 0.112\n",
      "[MICE] Starting imputation round 89/110, elapsed time 0.113\n",
      "[MICE] Starting imputation round 90/110, elapsed time 0.114\n",
      "[MICE] Starting imputation round 91/110, elapsed time 0.115\n",
      "[MICE] Starting imputation round 92/110, elapsed time 0.116\n",
      "[MICE] Starting imputation round 93/110, elapsed time 0.117\n",
      "[MICE] Starting imputation round 94/110, elapsed time 0.118\n",
      "[MICE] Starting imputation round 95/110, elapsed time 0.119\n",
      "[MICE] Starting imputation round 96/110, elapsed time 0.120\n",
      "[MICE] Starting imputation round 97/110, elapsed time 0.121\n",
      "[MICE] Starting imputation round 98/110, elapsed time 0.122\n",
      "[MICE] Starting imputation round 99/110, elapsed time 0.123\n",
      "[MICE] Starting imputation round 100/110, elapsed time 0.125\n",
      "[MICE] Starting imputation round 101/110, elapsed time 0.126\n",
      "[MICE] Starting imputation round 102/110, elapsed time 0.127\n",
      "[MICE] Starting imputation round 103/110, elapsed time 0.128\n",
      "[MICE] Starting imputation round 104/110, elapsed time 0.129\n",
      "[MICE] Starting imputation round 105/110, elapsed time 0.130\n",
      "[MICE] Starting imputation round 106/110, elapsed time 0.131\n",
      "[MICE] Starting imputation round 107/110, elapsed time 0.132\n",
      "[MICE] Starting imputation round 108/110, elapsed time 0.133\n",
      "[MICE] Starting imputation round 109/110, elapsed time 0.134\n",
      "[MICE] Starting imputation round 110/110, elapsed time 0.135\n"
     ]
    }
   ],
   "source": [
    "# download data and scrub\n",
    "\n",
    "url = 'https://github.com/GinoWoz1/AdvancedHousePrices/raw/master/'\n",
    " \n",
    "df_train = pd.read_csv(url + 'train.csv')\n",
    "df_test = pd.read_csv(url +'test.csv')\n",
    "df_train.columns.to_series().groupby(df_train.dtypes).groups\n",
    "\n",
    "# Split data set into test and train\n",
    "ntrain = df_train.shape[0]\n",
    "ntest = df_test.shape[0]\n",
    "y_train = df_train.SalePrice.values\n",
    "all_data = pd.concat((df_train, df_test)).reset_index(drop=True)\n",
    "all_data.drop(['SalePrice'], axis=1, inplace=True)\n",
    "\n",
    "\n",
    "# fill in missing data\n",
    "\n",
    "all_data['PoolQC'] = all_data['PoolQC'].fillna(\"None\")\n",
    "all_data[\"MiscFeature\"] = all_data[\"MiscFeature\"].fillna(\"None\")\n",
    "all_data[\"Alley\"] = all_data[\"Alley\"].fillna(\"None\")\n",
    "all_data[\"Fence\"] = all_data[\"Fence\"].fillna(\"None\")\n",
    "all_data[\"FireplaceQu\"] = all_data[\"FireplaceQu\"].fillna(\"None\")\n",
    "\n",
    "#fill in missing data for garage, basement and mason area\n",
    "\n",
    "for col in ('GarageType', 'GarageFinish', 'GarageQual', 'GarageCond'):\n",
    "    all_data[col] = all_data[col].fillna('None')\n",
    "\n",
    "for col in ( 'GarageArea', 'GarageCars'):\n",
    "    all_data[col] = all_data[col].fillna(0)\n",
    "    \n",
    "for col in ('BsmtQual', 'BsmtCond', 'BsmtExposure', 'BsmtFinType1', 'BsmtFinType2'):\n",
    "    all_data[col] = all_data[col].fillna('None')\n",
    "    \n",
    "for col in ('BsmtHalfBath', 'BsmtFullBath', 'TotalBsmtSF', 'BsmtUnfSF', 'BsmtFinSF1','BsmtFinSF2'):\n",
    "    all_data[col] = all_data[col].fillna(0)\n",
    "\n",
    "\n",
    "all_data[\"MasVnrType\"] = all_data[\"MasVnrType\"].fillna(\"None\")\n",
    "all_data[\"MasVnrArea\"] = all_data[\"MasVnrArea\"].fillna(0)\n",
    "all_data[\"GarageYrBlt\"] = all_data.groupby(\"Neighborhood\")[\"GarageYrBlt\"].transform( lambda x: x.fillna(x.mean()))\n",
    "\n",
    "# fill in MSzoning values based on knowlege of data\n",
    "    \n",
    "all_data.loc[2216,'MSZoning'] = 'RM'\n",
    "all_data.loc[2904,'MSZoning'] = 'RM'\n",
    "all_data.loc[1915,'MSZoning'] = 'RM'\n",
    "all_data.loc[2250,'MSZoning'] = 'RM'\n",
    "all_data.loc[1915,'Utilities'] = 'AllPub'\n",
    "all_data.loc[1945,'Utilities'] = 'AllPub'\n",
    "all_data.loc[2473,'Functional'] = 'Typ'\n",
    "all_data.loc[2216,'Functional'] = 'Typ'\n",
    "all_data.loc[2489,'SaleType'] = 'WD'\n",
    "all_data.loc[2151,'Exterior1st'] = 'Plywood'\n",
    "all_data.loc[2151,'Exterior2nd'] = 'Plywood'\n",
    "all_data.loc[1379,'Electrical'] = 'SBrkr'\n",
    "\n",
    "all_data['MSSubClass'] = all_data['MSSubClass'].apply(str)\n",
    "\n",
    "# analyze which neighborhoods have null data\n",
    "\n",
    "all_data[pd.isna(all_data['LotFrontage'])].groupby(\"Neighborhood\").size().sort_values(ascending = False)\n",
    "\n",
    "# evaluation metrics and model vetting function\n",
    "\n",
    "train = all_data[:ntrain]\n",
    "test = all_data[ntrain:]\n",
    "y_train = df_train.SalePrice\n",
    "\n",
    "numeric_data_train = train.select_dtypes(include = ['float64','int64'])\n",
    "solver=MICE()\n",
    "Imputed_dataframe_train= pd.DataFrame(data = solver.complete(numeric_data_train),columns = numeric_data_train.columns,index = numeric_data_train.index)\n",
    "numeric_data_test = test.select_dtypes(include = ['float64','int64'])\n",
    "solver=MICE()\n",
    "Imputed_dataframe_test= pd.DataFrame(data = solver.complete(numeric_data_test),columns = numeric_data_test.columns,index = numeric_data_test.index)\n",
    "\n",
    "train['LotFrontage'] = Imputed_dataframe_train['LotFrontage']\n",
    "test['LotFrontage'] = Imputed_dataframe_test['LotFrontage']\n",
    "\n",
    "X_train= pd.get_dummies(train,drop_first=True)\n",
    "X_test = pd.get_dummies(test,drop_first=True)"
   ]
  },
  {
   "cell_type": "code",
   "execution_count": 3,
   "metadata": {
    "scrolled": true
   },
   "outputs": [],
   "source": [
    "# get dummies, select columns with above 0 mutual information\n",
    "\n",
    "X_train= pd.get_dummies(train,drop_first=True)\n",
    "X_test = pd.get_dummies(test,drop_first=True)\n",
    "\n",
    "X_train = X_train[['OverallQual'\t,'GarageCars'\t,'TotalBsmtSF'\t,'GrLivArea'\t,'GarageArea'\t,'FullBath'\t,'YearBuilt'\t,'GarageYrBlt'\t,'ExterQual_TA'\t,'1stFlrSF'\t,'KitchenQual_TA'\t,'LotFrontage'\t,'ExterQual_Gd'\t,'Foundation_PConc'\t,'TotRmsAbvGrd'\t,'KitchenQual_Gd'\t,'YearRemodAdd'\t,'BsmtQual_Gd'\t,'Fireplaces'\t,'BsmtFinSF1'\t,'BsmtQual_TA'\t,'FireplaceQu_None'\t,'GarageFinish_Unf'\t,'GarageType_Attchd'\t,'BsmtUnfSF'\t,'GarageType_Detchd'\t,'MSSubClass_60'\t,'2ndFlrSF'\t,'OverallCond'\t,'BsmtFinType1_GLQ'\t,'Foundation_CBlock'\t,'Exterior1st_VinylSd'\t,'LotShape_Reg'\t,'MSSubClass_30'\t,'HeatingQC_TA'\t,'LotArea'\t,'MasVnrArea'\t,'MasVnrType_None'\t,'Neighborhood_NAmes'\t,'MSZoning_RM'\t,'CentralAir_Y'\t,'SaleCondition_Partial'\t,'GarageQual_None'\t,'HalfBath'\t,'GarageFinish_RFn'\t,'FireplaceQu_Gd'\t,'Neighborhood_NridgHt'\t,'GarageQual_TA'\t,'HouseStyle_2Story'\t,'FireplaceQu_TA'\t,'WoodDeckSF'\t,'PavedDrive_Y'\t,'GarageCond_TA'\t,'Neighborhood_NoRidge'\t,'MSZoning_RL'\t,'SaleType_WD'\t,'BedroomAbvGr'\t,'Electrical_SBrkr'\t,'MasVnrType_Stone'\t,'Neighborhood_Somerst'\t,'Neighborhood_CollgCr'\t,'OpenPorchSF'\t,'PoolQC_None'\t,'BsmtExposure_Gd'\t,'Neighborhood_Gilbert'\t,'Street_Pave'\t,'Neighborhood_OldTown'\t,'KitchenAbvGr'\t,'BsmtExposure_No'\t,'YrSold'\t,'Fence_MnPrv'\t,'MSZoning_FV'\t,'MasVnrType_BrkFace'\t,'Neighborhood_MeadowV'\t,'Exterior1st_Wd Sdng'\t,'EnclosedPorch'\t,'BsmtCond_Gd'\t,'Exterior2nd_Wd Sdng'\t,'KitchenQual_Fa'\t,'BsmtFinType1_Rec'\t,'BsmtFinSF2'\t,'MSSubClass_160'\t,'Exterior1st_CemntBd'\t,'Neighborhood_ClearCr'\t,'Neighborhood_BrkSide'\t,'RoofStyle_Hip'\t,'Neighborhood_IDOTRR'\t,'GarageType_BuiltIn'\t,'MSSubClass_50'\t,'Neighborhood_StoneBr'\t,'HeatingQC_Gd'\t,'Neighborhood_Sawyer'\t,'PavedDrive_P'\t,'Fence_None'\t,'HouseStyle_SFoyer'\t,'GarageCond_Fa'\t,'SaleCondition_Normal'\t,'MSSubClass_45'\t,'Functional_Typ'\t,'LotConfig_Inside'\t,'Exterior1st_MetalSd'\t,'Electrical_FuseF'\t,'Exterior1st_HdBoard'\t,'BsmtQual_Fa'\t,'HeatingQC_Fa'\t,'Exterior2nd_Plywood'\t,'ExterCond_TA'\t,'BldgType_Duplex'\t,'LotConfig_CulDSac'\t,'Alley_None'\t,'LotShape_IR2'\t,'Neighborhood_Edwards'\t,'BsmtFinType2_BLQ'\t,'RoofStyle_Gable'\t,'GarageCond_Po'\t,'Functional_Min2'\t,'LandSlope_Mod'\t,'ScreenPorch'\t,'ExterQual_Fa'\t,'Neighborhood_SawyerW'\t,'FireplaceQu_Po'\t,'LandContour_Lvl'\t,'MSSubClass_40'\t,'LandContour_HLS'\t,'RoofMatl_Tar&Grv'\t,'SaleType_ConLw'\t,'BsmtExposure_None'\t,'Neighborhood_BrDale'\t,'RoofStyle_Mansard'\t,'MiscVal'\t,'BldgType_TwnhsE'\t,'Alley_Pave'\t,'Exterior1st_WdShing'\t,'GarageType_CarPort'\t,'Fence_GdWo'\t,'Exterior1st_BrkFace'\t,'Condition2_Norm'\t,'BsmtFinType1_Unf'\t,'Heating_Grav'\t,'HouseStyle_SLvl'\t,'Foundation_Slab'\t,'BsmtExposure_Mn'\t,'MSSubClass_70'\t,'BsmtFinType2_Rec'\t,'Condition1_RRAe'\t,'Exterior2nd_BrkFace'\t,'HouseStyle_1.5Unf'\t,'Neighborhood_Mitchel'\t,'Electrical_FuseP'\t,'Neighborhood_NWAmes'\t,'MSSubClass_180'\t,'HouseStyle_2.5Unf'\t,'RoofStyle_Shed'\t,'BsmtFinType2_GLQ'\t,'LandSlope_Sev'\t,'MSSubClass_85'\t,'LotConfig_FR3'\t,'LotConfig_FR2'\t,'RoofMatl_WdShngl'\t,'BsmtHalfBath'\t,'Neighborhood_Blueste'\t,'Exterior1st_BrkComm'\t,'Neighborhood_Timber'\t,'Condition1_Norm'\t,'Neighborhood_SWISU'\t,'BldgType_2fmCon'\t,'Neighborhood_Veenker'\t,'Condition1_PosA'\t,'SaleCondition_Alloca'\t,'SaleType_ConLD'\t,'3SsnPorch'\t,'LotShape_IR3'\t,'Condition1_PosN'\t,'BsmtFinType1_LwQ'\t,'BsmtFinType1_BLQ'\t,'MSZoning_RH'\t,'Neighborhood_NPkVill'\t,'FireplaceQu_Fa']]\n",
    "X_test = X_test[['OverallQual'\t,'GarageCars'\t,'TotalBsmtSF'\t,'GrLivArea'\t,'GarageArea'\t,'FullBath'\t,'YearBuilt'\t,'GarageYrBlt'\t,'ExterQual_TA'\t,'1stFlrSF'\t,'KitchenQual_TA'\t,'LotFrontage'\t,'ExterQual_Gd'\t,'Foundation_PConc'\t,'TotRmsAbvGrd'\t,'KitchenQual_Gd'\t,'YearRemodAdd'\t,'BsmtQual_Gd'\t,'Fireplaces'\t,'BsmtFinSF1'\t,'BsmtQual_TA'\t,'FireplaceQu_None'\t,'GarageFinish_Unf'\t,'GarageType_Attchd'\t,'BsmtUnfSF'\t,'GarageType_Detchd'\t,'MSSubClass_60'\t,'2ndFlrSF'\t,'OverallCond'\t,'BsmtFinType1_GLQ'\t,'Foundation_CBlock'\t,'Exterior1st_VinylSd'\t,'LotShape_Reg'\t,'MSSubClass_30'\t,'HeatingQC_TA'\t,'LotArea'\t,'MasVnrArea'\t,'MasVnrType_None'\t,'Neighborhood_NAmes'\t,'MSZoning_RM'\t,'CentralAir_Y'\t,'SaleCondition_Partial'\t,'GarageQual_None'\t,'HalfBath'\t,'GarageFinish_RFn'\t,'FireplaceQu_Gd'\t,'Neighborhood_NridgHt'\t,'GarageQual_TA'\t,'HouseStyle_2Story'\t,'FireplaceQu_TA'\t,'WoodDeckSF'\t,'PavedDrive_Y'\t,'GarageCond_TA'\t,'Neighborhood_NoRidge'\t,'MSZoning_RL'\t,'SaleType_WD'\t,'BedroomAbvGr'\t,'Electrical_SBrkr'\t,'MasVnrType_Stone'\t,'Neighborhood_Somerst'\t,'Neighborhood_CollgCr'\t,'OpenPorchSF'\t,'PoolQC_None'\t,'BsmtExposure_Gd'\t,'Neighborhood_Gilbert'\t,'Street_Pave'\t,'Neighborhood_OldTown'\t,'KitchenAbvGr'\t,'BsmtExposure_No'\t,'YrSold'\t,'Fence_MnPrv'\t,'MSZoning_FV'\t,'MasVnrType_BrkFace'\t,'Neighborhood_MeadowV'\t,'Exterior1st_Wd Sdng'\t,'EnclosedPorch'\t,'BsmtCond_Gd'\t,'Exterior2nd_Wd Sdng'\t,'KitchenQual_Fa'\t,'BsmtFinType1_Rec'\t,'BsmtFinSF2'\t,'MSSubClass_160'\t,'Exterior1st_CemntBd'\t,'Neighborhood_ClearCr'\t,'Neighborhood_BrkSide'\t,'RoofStyle_Hip'\t,'Neighborhood_IDOTRR'\t,'GarageType_BuiltIn'\t,'MSSubClass_50'\t,'Neighborhood_StoneBr'\t,'HeatingQC_Gd'\t,'Neighborhood_Sawyer'\t,'PavedDrive_P'\t,'Fence_None'\t,'HouseStyle_SFoyer'\t,'GarageCond_Fa'\t,'SaleCondition_Normal'\t,'MSSubClass_45'\t,'Functional_Typ'\t,'LotConfig_Inside'\t,'Exterior1st_MetalSd'\t,'Electrical_FuseF'\t,'Exterior1st_HdBoard'\t,'BsmtQual_Fa'\t,'HeatingQC_Fa'\t,'Exterior2nd_Plywood'\t,'ExterCond_TA'\t,'BldgType_Duplex'\t,'LotConfig_CulDSac'\t,'Alley_None'\t,'LotShape_IR2'\t,'Neighborhood_Edwards'\t,'BsmtFinType2_BLQ'\t,'RoofStyle_Gable'\t,'GarageCond_Po'\t,'Functional_Min2'\t,'LandSlope_Mod'\t,'ScreenPorch'\t,'ExterQual_Fa'\t,'Neighborhood_SawyerW'\t,'FireplaceQu_Po'\t,'LandContour_Lvl'\t,'MSSubClass_40'\t,'LandContour_HLS'\t,'RoofMatl_Tar&Grv'\t,'SaleType_ConLw'\t,'BsmtExposure_None'\t,'Neighborhood_BrDale'\t,'RoofStyle_Mansard'\t,'MiscVal'\t,'BldgType_TwnhsE'\t,'Alley_Pave'\t,'Exterior1st_WdShing'\t,'GarageType_CarPort'\t,'Fence_GdWo'\t,'Exterior1st_BrkFace'\t,'Condition2_Norm'\t,'BsmtFinType1_Unf'\t,'Heating_Grav'\t,'HouseStyle_SLvl'\t,'Foundation_Slab'\t,'BsmtExposure_Mn'\t,'MSSubClass_70'\t,'BsmtFinType2_Rec'\t,'Condition1_RRAe'\t,'Exterior2nd_BrkFace'\t,'HouseStyle_1.5Unf'\t,'Neighborhood_Mitchel'\t,'Electrical_FuseP'\t,'Neighborhood_NWAmes'\t,'MSSubClass_180'\t,'HouseStyle_2.5Unf'\t,'RoofStyle_Shed'\t,'BsmtFinType2_GLQ'\t,'LandSlope_Sev'\t,'MSSubClass_85'\t,'LotConfig_FR3'\t,'LotConfig_FR2'\t,'RoofMatl_WdShngl'\t,'BsmtHalfBath'\t,'Neighborhood_Blueste'\t,'Exterior1st_BrkComm'\t,'Neighborhood_Timber'\t,'Condition1_Norm'\t,'Neighborhood_SWISU'\t,'BldgType_2fmCon'\t,'Neighborhood_Veenker'\t,'Condition1_PosA'\t,'SaleCondition_Alloca'\t,'SaleType_ConLD'\t,'3SsnPorch'\t,'LotShape_IR3'\t,'Condition1_PosN'\t,'BsmtFinType1_LwQ'\t,'BsmtFinType1_BLQ'\t,'MSZoning_RH'\t,'Neighborhood_NPkVill'\t,'FireplaceQu_Fa']]\n",
    "\n",
    "remove = ['BsmtQual_None','Exterior2nd_MetalSd','BsmtFinType1_None','MSSubClass_90','BsmtCond_None','BsmtEpoxsure_None','BsmtFinType2_None','GarageFinish_None','GarageCond_None','GarageType_None','MSSubClass_190','MSSubClass_80','Exterior2nd_CmentBd','SaleType_New','Exterior2nd_VinylSd']\n",
    "\n",
    "def drop_cols(dataframe,columns_remove):\n",
    "    cols =list(dataframe.columns.values)\n",
    "    for col in columns_remove:\n",
    "        for c in cols:\n",
    "            if c == col:\n",
    "                cols.remove(c)\n",
    "            elif c != col:\n",
    "                continue\n",
    "    dataframe = dataframe[cols]\n",
    "    return dataframe\n",
    "\n",
    "\n",
    "X_train = drop_cols(X_train,remove)\n",
    "X_test = drop_cols(X_test,remove)\n",
    "\n"
   ]
  },
  {
   "cell_type": "code",
   "execution_count": 11,
   "metadata": {},
   "outputs": [
    {
     "name": "stdout",
     "output_type": "stream",
     "text": [
      "population size: 500\n",
      "dtypes\t=\tNone\n",
      "names\t=\tNone\n",
      "normalize\t=\tTrue\n",
      "lex_size\t=\tFalse\n",
      "operators\t=\tNone\n",
      "weight_parents\t=\tTrue\n",
      "c\t=\tTrue\n",
      "otype\t=\tf\n",
      "mdr\t=\tFalse\n",
      "track_diversity\t=\tFalse\n",
      "clean\t=\tFalse\n",
      "classification\t=\tFalse\n",
      "boolean\t=\tFalse\n",
      "elitism\t=\tTrue\n",
      "disable_update_check\t=\tFalse\n",
      "scoring_function\t=\t<function rmsle_cv at 0x000000E35891FE18>\n",
      "verbosity\t=\t2\n",
      "random_state\t=\tNone\n",
      "erc\t=\tFalse\n",
      "seed_with_ml\t=\tTrue\n",
      "max_stall\t=\t100\n",
      "op_weight\t=\tFalse\n",
      "fit_choice\t=\tNone\n",
      "tourn_size\t=\t2\n",
      "sel\t=\tepsilon_lexicase\n",
      "max_depth_init\t=\t2\n",
      "max_depth\t=\t2\n",
      "min_depth\t=\t1\n",
      "ml\t=\tGradientBoostingRegressor(alpha=0.9, criterion='friedman_mse', init=None,\n",
      "             learning_rate=0.1, loss='ls', max_depth=3, max_features=None,\n",
      "             max_leaf_nodes=None, min_impurity_decrease=0.0,\n",
      "             min_impurity_split=None, min_samples_leaf=1,\n",
      "             min_samples_split=2, min_weight_fraction_leaf=0.0,\n",
      "             n_estimators=100, n_iter_no_change=None, presort='auto',\n",
      "             random_state=None, subsample=1.0, tol=0.0001,\n",
      "             validation_fraction=0.1, verbose=0, warm_start=False)\n",
      "crossover_rate\t=\t0.5\n",
      "mutation_rate\t=\t0.5\n",
      "generations\t=\t100\n",
      "population_size\t=\t500\n",
      "\n",
      "initial ML CV: -0.134\n"
     ]
    },
    {
     "name": "stderr",
     "output_type": "stream",
     "text": [
      "\n",
      "\n",
      "\n",
      "\n",
      "\n",
      "Internal CV: -0.134:   0%|                             | 0/100 [00:00<?, ?it/s]"
     ]
    },
    {
     "name": "stdout",
     "output_type": "stream",
     "text": [
      "generation 0\n",
      "median fitness pop: 27037.90\n",
      "best fitness pop: 6991.68\n",
      "ml fitting...\n",
      "current ml validation score: -0.1366884213691134\n"
     ]
    },
    {
     "name": "stderr",
     "output_type": "stream",
     "text": [
      "\n",
      "\n",
      "\n",
      "\n",
      "\n",
      "Internal CV: -0.134:   0%|                             | 0/100 [00:03<?, ?it/s]\n",
      "\n",
      "\n",
      "\n",
      "\n",
      "Internal CV: -0.134:   1%|▏                    | 1/100 [00:03<06:27,  3.91s/it]"
     ]
    },
    {
     "name": "stdout",
     "output_type": "stream",
     "text": [
      "generation 1\n",
      "median fitness pop: 27037.74\n",
      "best fitness pop: 6991.68\n",
      "ml fitting...\n",
      "current ml validation score: -0.13907079635019612\n"
     ]
    },
    {
     "name": "stderr",
     "output_type": "stream",
     "text": [
      "\n",
      "\n",
      "\n",
      "\n",
      "\n",
      "Internal CV: -0.134:   1%|▏                    | 1/100 [00:08<06:27,  3.91s/it]\n",
      "\n",
      "\n",
      "\n",
      "\n",
      "Internal CV: -0.134:   2%|▍                    | 2/100 [00:08<06:30,  3.98s/it]"
     ]
    },
    {
     "name": "stdout",
     "output_type": "stream",
     "text": [
      "generation 2\n",
      "median fitness pop: 27037.73\n",
      "best fitness pop: 6991.68\n",
      "ml fitting...\n",
      "current ml validation score: -0.1391605968058732\n"
     ]
    },
    {
     "name": "stderr",
     "output_type": "stream",
     "text": [
      "\n",
      "\n",
      "\n",
      "\n",
      "\n",
      "Internal CV: -0.134:   2%|▍                    | 2/100 [00:12<06:30,  3.98s/it]\n",
      "\n",
      "\n",
      "\n",
      "\n",
      "Internal CV: -0.134:   3%|▋                    | 3/100 [00:12<06:37,  4.10s/it]"
     ]
    },
    {
     "name": "stdout",
     "output_type": "stream",
     "text": [
      "generation 3\n",
      "median fitness pop: 27037.38\n",
      "best fitness pop: 6991.68\n",
      "ml fitting...\n",
      "current ml validation score: -0.1364826215916541\n"
     ]
    },
    {
     "name": "stderr",
     "output_type": "stream",
     "text": [
      "\n",
      "\n",
      "\n",
      "\n",
      "\n",
      "Internal CV: -0.134:   3%|▋                    | 3/100 [00:17<06:37,  4.10s/it]\n",
      "\n",
      "\n",
      "\n",
      "\n",
      "Internal CV: -0.134:   4%|▊                    | 4/100 [00:17<06:53,  4.31s/it]"
     ]
    },
    {
     "name": "stdout",
     "output_type": "stream",
     "text": [
      "generation 4\n",
      "median fitness pop: 27031.92\n",
      "best fitness pop: 6991.68\n",
      "ml fitting...\n",
      "current ml validation score: -0.13950766125584435\n"
     ]
    },
    {
     "name": "stderr",
     "output_type": "stream",
     "text": [
      "\n",
      "\n",
      "\n",
      "\n",
      "\n",
      "Internal CV: -0.134:   4%|▊                    | 4/100 [00:22<06:53,  4.31s/it]\n",
      "\n",
      "\n",
      "\n",
      "\n",
      "Internal CV: -0.134:   5%|█                    | 5/100 [00:22<07:25,  4.69s/it]"
     ]
    },
    {
     "name": "stdout",
     "output_type": "stream",
     "text": [
      "generation 5\n",
      "median fitness pop: 26993.45\n",
      "best fitness pop: 6991.68\n",
      "ml fitting...\n",
      "current ml validation score: -0.15237123154802248\n"
     ]
    },
    {
     "name": "stderr",
     "output_type": "stream",
     "text": [
      "\n",
      "\n",
      "\n",
      "\n",
      "\n",
      "Internal CV: -0.134:   5%|█                    | 5/100 [00:29<07:25,  4.69s/it]\n",
      "\n",
      "\n",
      "\n",
      "\n",
      "Internal CV: -0.134:   6%|█▎                   | 6/100 [00:29<08:06,  5.18s/it]"
     ]
    },
    {
     "name": "stdout",
     "output_type": "stream",
     "text": [
      "generation 6\n",
      "median fitness pop: 26742.45\n",
      "best fitness pop: 6991.68\n",
      "ml fitting...\n",
      "current ml validation score: -0.15304205093128517\n"
     ]
    },
    {
     "name": "stderr",
     "output_type": "stream",
     "text": [
      "\n",
      "\n",
      "\n",
      "\n",
      "\n",
      "Internal CV: -0.134:   6%|█▎                   | 6/100 [00:35<08:06,  5.18s/it]\n",
      "\n",
      "\n",
      "\n",
      "\n",
      "Internal CV: -0.134:   7%|█▍                   | 7/100 [00:35<08:43,  5.63s/it]"
     ]
    },
    {
     "name": "stdout",
     "output_type": "stream",
     "text": [
      "generation 7\n",
      "median fitness pop: 26675.61\n",
      "best fitness pop: 6991.68\n",
      "ml fitting...\n",
      "current ml validation score: -0.15088211522702055\n"
     ]
    },
    {
     "name": "stderr",
     "output_type": "stream",
     "text": [
      "\n",
      "\n",
      "\n",
      "\n",
      "\n",
      "Internal CV: -0.134:   7%|█▍                   | 7/100 [00:42<08:43,  5.63s/it]\n",
      "\n",
      "\n",
      "\n",
      "\n",
      "Internal CV: -0.134:   8%|█▋                   | 8/100 [00:42<09:08,  5.96s/it]"
     ]
    },
    {
     "name": "stdout",
     "output_type": "stream",
     "text": [
      "generation 8\n",
      "median fitness pop: 26445.93\n",
      "best fitness pop: 6991.68\n",
      "ml fitting...\n",
      "current ml validation score: -0.1422208188955208\n"
     ]
    },
    {
     "name": "stderr",
     "output_type": "stream",
     "text": [
      "\n",
      "\n",
      "\n",
      "\n",
      "\n",
      "Internal CV: -0.134:   8%|█▋                   | 8/100 [00:48<09:08,  5.96s/it]\n",
      "\n",
      "\n",
      "\n",
      "\n",
      "Internal CV: -0.134:   9%|█▉                   | 9/100 [00:48<09:13,  6.09s/it]"
     ]
    },
    {
     "name": "stdout",
     "output_type": "stream",
     "text": [
      "generation 9\n",
      "median fitness pop: 26443.99\n",
      "best fitness pop: 6991.68\n",
      "ml fitting...\n",
      "current ml validation score: -0.1502961721397953\n"
     ]
    },
    {
     "name": "stderr",
     "output_type": "stream",
     "text": [
      "\n",
      "\n",
      "\n",
      "\n",
      "\n",
      "Internal CV: -0.134:   9%|█▉                   | 9/100 [00:54<09:13,  6.09s/it]\n",
      "\n",
      "\n",
      "\n",
      "\n",
      "Internal CV: -0.134:  10%|██                  | 10/100 [00:54<09:04,  6.05s/it]"
     ]
    },
    {
     "name": "stdout",
     "output_type": "stream",
     "text": [
      "generation 10\n",
      "median fitness pop: 26443.39\n",
      "best fitness pop: 6991.68\n",
      "ml fitting...\n",
      "current ml validation score: -0.15350158306260017\n"
     ]
    },
    {
     "name": "stderr",
     "output_type": "stream",
     "text": [
      "\n",
      "\n",
      "\n",
      "\n",
      "\n",
      "Internal CV: -0.134:  10%|██                  | 10/100 [01:00<09:04,  6.05s/it]\n",
      "\n",
      "\n",
      "\n",
      "\n",
      "Internal CV: -0.134:  11%|██▏                 | 11/100 [01:00<08:50,  5.97s/it]"
     ]
    },
    {
     "name": "stdout",
     "output_type": "stream",
     "text": [
      "generation 11\n",
      "median fitness pop: 26441.37\n",
      "best fitness pop: 6991.68\n",
      "ml fitting...\n",
      "current ml validation score: -0.15298537614015617\n"
     ]
    },
    {
     "name": "stderr",
     "output_type": "stream",
     "text": [
      "\n",
      "\n",
      "\n",
      "\n",
      "\n",
      "Internal CV: -0.134:  11%|██▏                 | 11/100 [01:06<08:50,  5.97s/it]\n",
      "\n",
      "\n",
      "\n",
      "\n",
      "Internal CV: -0.134:  12%|██▍                 | 12/100 [01:06<08:41,  5.92s/it]"
     ]
    },
    {
     "name": "stdout",
     "output_type": "stream",
     "text": [
      "generation 12\n",
      "median fitness pop: 26441.37\n",
      "best fitness pop: 6991.68\n",
      "ml fitting...\n",
      "current ml validation score: -0.1525113701115939\n"
     ]
    },
    {
     "name": "stderr",
     "output_type": "stream",
     "text": [
      "\n",
      "\n",
      "\n",
      "\n",
      "\n",
      "Internal CV: -0.134:  12%|██▍                 | 12/100 [01:12<08:41,  5.92s/it]\n",
      "\n",
      "\n",
      "\n",
      "\n",
      "Internal CV: -0.134:  13%|██▌                 | 13/100 [01:12<08:42,  6.00s/it]"
     ]
    },
    {
     "name": "stdout",
     "output_type": "stream",
     "text": [
      "generation 13\n",
      "median fitness pop: 26438.37\n",
      "best fitness pop: 6991.68\n",
      "ml fitting...\n",
      "current ml validation score: -0.15104673936647336\n"
     ]
    },
    {
     "name": "stderr",
     "output_type": "stream",
     "text": [
      "\n",
      "\n",
      "\n",
      "\n",
      "\n",
      "Internal CV: -0.134:  13%|██▌                 | 13/100 [01:18<08:42,  6.00s/it]\n",
      "\n",
      "\n",
      "\n",
      "\n",
      "Internal CV: -0.134:  14%|██▊                 | 14/100 [01:18<08:39,  6.04s/it]"
     ]
    },
    {
     "name": "stdout",
     "output_type": "stream",
     "text": [
      "generation 14\n",
      "median fitness pop: 26087.51\n",
      "best fitness pop: 2822.06\n",
      "ml fitting...\n",
      "current ml validation score: -0.15017344711046612\n"
     ]
    },
    {
     "name": "stderr",
     "output_type": "stream",
     "text": [
      "\n",
      "\n",
      "\n",
      "\n",
      "\n",
      "Internal CV: -0.134:  14%|██▊                 | 14/100 [01:25<08:39,  6.04s/it]\n",
      "\n",
      "\n",
      "\n",
      "\n",
      "Internal CV: -0.134:  15%|███                 | 15/100 [01:25<08:45,  6.18s/it]"
     ]
    },
    {
     "name": "stdout",
     "output_type": "stream",
     "text": [
      "generation 15\n",
      "median fitness pop: 23857.31\n",
      "best fitness pop: 2822.06\n",
      "ml fitting...\n",
      "current ml validation score: -0.15222781496553836\n"
     ]
    },
    {
     "name": "stderr",
     "output_type": "stream",
     "text": [
      "\n",
      "\n",
      "\n",
      "\n",
      "\n",
      "Internal CV: -0.134:  15%|███                 | 15/100 [01:32<08:45,  6.18s/it]\n",
      "\n",
      "\n",
      "\n",
      "\n",
      "Internal CV: -0.134:  16%|███▏                | 16/100 [01:32<08:58,  6.41s/it]"
     ]
    },
    {
     "name": "stdout",
     "output_type": "stream",
     "text": [
      "generation 16\n",
      "median fitness pop: 23857.31\n",
      "best fitness pop: 2822.06\n",
      "ml fitting...\n",
      "current ml validation score: -0.15860886092204082\n"
     ]
    },
    {
     "name": "stderr",
     "output_type": "stream",
     "text": [
      "\n",
      "\n",
      "\n",
      "\n",
      "\n",
      "Internal CV: -0.134:  16%|███▏                | 16/100 [01:39<08:58,  6.41s/it]\n",
      "\n",
      "\n",
      "\n",
      "\n",
      "Internal CV: -0.134:  17%|███▍                | 17/100 [01:39<09:10,  6.63s/it]"
     ]
    },
    {
     "name": "stdout",
     "output_type": "stream",
     "text": [
      "generation 17\n",
      "median fitness pop: 23857.31\n",
      "best fitness pop: 2822.06\n",
      "ml fitting...\n",
      "current ml validation score: -0.16357935471522425\n"
     ]
    },
    {
     "name": "stderr",
     "output_type": "stream",
     "text": [
      "\n",
      "\n",
      "\n",
      "\n",
      "\n",
      "Internal CV: -0.134:  17%|███▍                | 17/100 [01:46<09:10,  6.63s/it]\n",
      "\n",
      "\n",
      "\n",
      "\n",
      "Internal CV: -0.134:  18%|███▌                | 18/100 [01:46<09:19,  6.83s/it]"
     ]
    },
    {
     "name": "stdout",
     "output_type": "stream",
     "text": [
      "generation 18\n",
      "median fitness pop: 23857.31\n",
      "best fitness pop: 2822.06\n",
      "ml fitting...\n",
      "current ml validation score: -0.1637875407939369\n"
     ]
    },
    {
     "name": "stderr",
     "output_type": "stream",
     "text": [
      "\n",
      "\n",
      "\n",
      "\n",
      "\n",
      "Internal CV: -0.134:  18%|███▌                | 18/100 [01:53<09:19,  6.83s/it]\n",
      "\n",
      "\n",
      "\n",
      "\n",
      "Internal CV: -0.134:  19%|███▊                | 19/100 [01:53<09:15,  6.86s/it]"
     ]
    },
    {
     "name": "stdout",
     "output_type": "stream",
     "text": [
      "generation 19\n",
      "median fitness pop: 23857.31\n",
      "best fitness pop: 2822.06\n",
      "ml fitting...\n",
      "current ml validation score: -0.16661332781729946\n"
     ]
    },
    {
     "name": "stderr",
     "output_type": "stream",
     "text": [
      "\n",
      "\n",
      "\n",
      "\n",
      "\n",
      "Internal CV: -0.134:  19%|███▊                | 19/100 [02:00<09:15,  6.86s/it]\n",
      "\n",
      "\n",
      "\n",
      "\n",
      "Internal CV: -0.134:  20%|████                | 20/100 [02:00<09:13,  6.92s/it]"
     ]
    },
    {
     "name": "stdout",
     "output_type": "stream",
     "text": [
      "generation 20\n",
      "median fitness pop: 23857.08\n",
      "best fitness pop: 2504.23\n",
      "ml fitting...\n",
      "current ml validation score: -0.16353304053819506\n"
     ]
    },
    {
     "name": "stderr",
     "output_type": "stream",
     "text": [
      "\n",
      "\n",
      "\n",
      "\n",
      "\n",
      "Internal CV: -0.134:  20%|████                | 20/100 [02:07<09:13,  6.92s/it]\n",
      "\n",
      "\n",
      "\n",
      "\n",
      "Internal CV: -0.134:  21%|████▏               | 21/100 [02:07<09:01,  6.85s/it]"
     ]
    },
    {
     "name": "stdout",
     "output_type": "stream",
     "text": [
      "generation 21\n",
      "median fitness pop: 23856.59\n",
      "best fitness pop: 2504.23\n",
      "ml fitting...\n",
      "current ml validation score: -0.16496997782288506\n"
     ]
    },
    {
     "name": "stderr",
     "output_type": "stream",
     "text": [
      "\n",
      "\n",
      "\n",
      "\n",
      "\n",
      "Internal CV: -0.134:  21%|████▏               | 21/100 [02:13<09:01,  6.85s/it]\n",
      "\n",
      "\n",
      "\n",
      "\n",
      "Internal CV: -0.134:  22%|████▍               | 22/100 [02:13<08:48,  6.77s/it]"
     ]
    },
    {
     "name": "stdout",
     "output_type": "stream",
     "text": [
      "generation 22\n",
      "median fitness pop: 24040.81\n",
      "best fitness pop: 2504.23\n",
      "ml fitting...\n",
      "current ml validation score: -0.16478044438132408\n"
     ]
    },
    {
     "name": "stderr",
     "output_type": "stream",
     "text": [
      "\n",
      "\n",
      "\n",
      "\n",
      "\n",
      "Internal CV: -0.134:  22%|████▍               | 22/100 [02:20<08:48,  6.77s/it]\n",
      "\n",
      "\n",
      "\n",
      "\n",
      "Internal CV: -0.134:  23%|████▌               | 23/100 [02:20<08:33,  6.67s/it]"
     ]
    },
    {
     "name": "stdout",
     "output_type": "stream",
     "text": [
      "generation 23\n",
      "median fitness pop: 24040.81\n",
      "best fitness pop: 2504.23\n",
      "ml fitting...\n",
      "current ml validation score: -0.1630727136806482\n"
     ]
    },
    {
     "name": "stderr",
     "output_type": "stream",
     "text": [
      "\n",
      "\n",
      "\n",
      "\n",
      "\n",
      "Internal CV: -0.134:  23%|████▌               | 23/100 [02:26<08:33,  6.67s/it]\n",
      "\n",
      "\n",
      "\n",
      "\n",
      "Internal CV: -0.134:  24%|████▊               | 24/100 [02:26<08:22,  6.61s/it]"
     ]
    },
    {
     "name": "stdout",
     "output_type": "stream",
     "text": [
      "generation 24\n",
      "median fitness pop: 24040.81\n",
      "best fitness pop: 2504.23\n",
      "ml fitting...\n",
      "current ml validation score: -0.16285003964324393\n"
     ]
    },
    {
     "name": "stderr",
     "output_type": "stream",
     "text": [
      "\n",
      "\n",
      "\n",
      "\n",
      "\n",
      "Internal CV: -0.134:  24%|████▊               | 24/100 [02:33<08:22,  6.61s/it]\n",
      "\n",
      "\n",
      "\n",
      "\n",
      "Internal CV: -0.134:  25%|█████               | 25/100 [02:33<08:14,  6.59s/it]"
     ]
    },
    {
     "name": "stdout",
     "output_type": "stream",
     "text": [
      "generation 25\n",
      "median fitness pop: 23603.31\n",
      "best fitness pop: 2504.23\n",
      "ml fitting...\n",
      "current ml validation score: -0.1525819794803807\n"
     ]
    },
    {
     "name": "stderr",
     "output_type": "stream",
     "text": [
      "\n",
      "\n",
      "\n",
      "\n",
      "\n",
      "Internal CV: -0.134:  25%|█████               | 25/100 [02:39<08:14,  6.59s/it]\n",
      "\n",
      "\n",
      "\n",
      "\n",
      "Internal CV: -0.134:  26%|█████▏              | 26/100 [02:39<08:04,  6.55s/it]"
     ]
    },
    {
     "name": "stdout",
     "output_type": "stream",
     "text": [
      "generation 26\n",
      "median fitness pop: 23593.90\n",
      "best fitness pop: 2462.52\n",
      "ml fitting...\n",
      "current ml validation score: -0.16174462600259956\n"
     ]
    },
    {
     "name": "stderr",
     "output_type": "stream",
     "text": [
      "\n",
      "\n",
      "\n",
      "\n",
      "\n",
      "Internal CV: -0.134:  26%|█████▏              | 26/100 [02:46<08:04,  6.55s/it]\n",
      "\n",
      "\n",
      "\n",
      "\n",
      "Internal CV: -0.134:  27%|█████▍              | 27/100 [02:46<07:55,  6.51s/it]"
     ]
    },
    {
     "name": "stdout",
     "output_type": "stream",
     "text": [
      "generation 27\n",
      "median fitness pop: 23525.94\n",
      "best fitness pop: 2462.52\n",
      "ml fitting...\n",
      "current ml validation score: -0.1569688375016878\n"
     ]
    },
    {
     "name": "stderr",
     "output_type": "stream",
     "text": [
      "\n",
      "\n",
      "\n",
      "\n",
      "\n",
      "Internal CV: -0.134:  27%|█████▍              | 27/100 [02:52<07:55,  6.51s/it]\n",
      "\n",
      "\n",
      "\n",
      "\n",
      "Internal CV: -0.134:  28%|█████▌              | 28/100 [02:52<07:50,  6.53s/it]"
     ]
    },
    {
     "name": "stdout",
     "output_type": "stream",
     "text": [
      "generation 28\n",
      "median fitness pop: 23259.16\n",
      "best fitness pop: 2462.52\n",
      "ml fitting...\n",
      "current ml validation score: -0.15926472643805248\n"
     ]
    },
    {
     "name": "stderr",
     "output_type": "stream",
     "text": [
      "\n",
      "\n",
      "\n",
      "\n",
      "\n",
      "Internal CV: -0.134:  28%|█████▌              | 28/100 [02:59<07:50,  6.53s/it]\n",
      "\n",
      "\n",
      "\n",
      "\n",
      "Internal CV: -0.134:  29%|█████▊              | 29/100 [02:59<07:44,  6.54s/it]"
     ]
    },
    {
     "name": "stdout",
     "output_type": "stream",
     "text": [
      "generation 29\n",
      "median fitness pop: 22239.93\n",
      "best fitness pop: 2462.52\n",
      "ml fitting...\n",
      "current ml validation score: -0.16191113206049226\n"
     ]
    },
    {
     "name": "stderr",
     "output_type": "stream",
     "text": [
      "\n",
      "\n",
      "\n",
      "\n",
      "\n",
      "Internal CV: -0.134:  29%|█████▊              | 29/100 [03:06<07:44,  6.54s/it]\n",
      "\n",
      "\n",
      "\n",
      "\n",
      "Internal CV: -0.134:  30%|██████              | 30/100 [03:06<07:46,  6.66s/it]"
     ]
    },
    {
     "name": "stdout",
     "output_type": "stream",
     "text": [
      "generation 30\n",
      "median fitness pop: 18327.41\n",
      "best fitness pop: 2462.52\n",
      "ml fitting...\n",
      "current ml validation score: -0.16188608286222694\n"
     ]
    },
    {
     "name": "stderr",
     "output_type": "stream",
     "text": [
      "\n",
      "\n",
      "\n",
      "\n",
      "\n",
      "Internal CV: -0.134:  30%|██████              | 30/100 [03:13<07:46,  6.66s/it]\n",
      "\n",
      "\n",
      "\n",
      "\n",
      "Internal CV: -0.134:  31%|██████▏             | 31/100 [03:13<07:39,  6.66s/it]"
     ]
    },
    {
     "name": "stdout",
     "output_type": "stream",
     "text": [
      "generation 31\n",
      "median fitness pop: 14367.52\n",
      "best fitness pop: 2462.52\n",
      "ml fitting...\n",
      "current ml validation score: -0.16050962691949397\n"
     ]
    },
    {
     "name": "stderr",
     "output_type": "stream",
     "text": [
      "\n",
      "\n",
      "\n",
      "\n",
      "\n",
      "Internal CV: -0.134:  31%|██████▏             | 31/100 [03:19<07:39,  6.66s/it]\n",
      "\n",
      "\n",
      "\n",
      "\n",
      "Internal CV: -0.134:  32%|██████▍             | 32/100 [03:19<07:37,  6.72s/it]"
     ]
    },
    {
     "name": "stdout",
     "output_type": "stream",
     "text": [
      "generation 32\n",
      "median fitness pop: 11012.73\n",
      "best fitness pop: 2462.52\n",
      "ml fitting...\n",
      "current ml validation score: -0.17300252005199446\n"
     ]
    },
    {
     "name": "stderr",
     "output_type": "stream",
     "text": [
      "\n",
      "\n",
      "\n",
      "\n",
      "\n",
      "Internal CV: -0.134:  32%|██████▍             | 32/100 [03:27<07:37,  6.72s/it]\n",
      "\n",
      "\n",
      "\n",
      "\n",
      "Internal CV: -0.134:  33%|██████▌             | 33/100 [03:27<07:39,  6.86s/it]"
     ]
    },
    {
     "name": "stdout",
     "output_type": "stream",
     "text": [
      "generation 33\n",
      "median fitness pop: 6835.90\n",
      "best fitness pop: 2017.03\n",
      "ml fitting...\n",
      "current ml validation score: -0.1751322988782873\n"
     ]
    },
    {
     "name": "stderr",
     "output_type": "stream",
     "text": [
      "\n",
      "\n",
      "\n",
      "\n",
      "\n",
      "Internal CV: -0.134:  33%|██████▌             | 33/100 [03:34<07:39,  6.86s/it]\n",
      "\n",
      "\n",
      "\n",
      "\n",
      "Internal CV: -0.134:  34%|██████▊             | 34/100 [03:34<07:44,  7.04s/it]"
     ]
    },
    {
     "name": "stdout",
     "output_type": "stream",
     "text": [
      "generation 34\n",
      "median fitness pop: 3697.61\n",
      "best fitness pop: 2017.03\n",
      "ml fitting...\n",
      "current ml validation score: -0.1669150727728089\n"
     ]
    },
    {
     "name": "stderr",
     "output_type": "stream",
     "text": [
      "\n",
      "\n",
      "\n",
      "\n",
      "\n",
      "Internal CV: -0.134:  34%|██████▊             | 34/100 [03:42<07:44,  7.04s/it]\n",
      "\n",
      "\n",
      "\n",
      "\n",
      "Internal CV: -0.134:  35%|███████             | 35/100 [03:42<07:57,  7.34s/it]"
     ]
    },
    {
     "name": "stdout",
     "output_type": "stream",
     "text": [
      "generation 35\n",
      "median fitness pop: 3697.61\n",
      "best fitness pop: 2017.03\n",
      "ml fitting...\n",
      "current ml validation score: -0.17108715919578285\n"
     ]
    },
    {
     "name": "stderr",
     "output_type": "stream",
     "text": [
      "\n",
      "\n",
      "\n",
      "\n",
      "\n",
      "Internal CV: -0.134:  35%|███████             | 35/100 [03:51<07:57,  7.34s/it]\n",
      "\n",
      "\n",
      "\n",
      "\n",
      "Internal CV: -0.134:  36%|███████▏            | 36/100 [03:51<08:16,  7.76s/it]"
     ]
    },
    {
     "name": "stdout",
     "output_type": "stream",
     "text": [
      "generation 36\n",
      "median fitness pop: 3697.61\n",
      "best fitness pop: 2017.03\n",
      "ml fitting...\n",
      "current ml validation score: -0.1687451902890161\n"
     ]
    },
    {
     "name": "stderr",
     "output_type": "stream",
     "text": [
      "\n",
      "\n",
      "\n",
      "\n",
      "\n",
      "Internal CV: -0.134:  36%|███████▏            | 36/100 [03:59<08:16,  7.76s/it]\n",
      "\n",
      "\n",
      "\n",
      "\n",
      "Internal CV: -0.134:  37%|███████▍            | 37/100 [03:59<08:26,  8.04s/it]"
     ]
    },
    {
     "name": "stdout",
     "output_type": "stream",
     "text": [
      "generation 37\n",
      "median fitness pop: 3697.61\n",
      "best fitness pop: 2017.03\n",
      "ml fitting...\n",
      "current ml validation score: -0.17059130796939917\n"
     ]
    },
    {
     "name": "stderr",
     "output_type": "stream",
     "text": [
      "\n",
      "\n",
      "\n",
      "\n",
      "\n",
      "Internal CV: -0.134:  37%|███████▍            | 37/100 [04:08<08:26,  8.04s/it]\n",
      "\n",
      "\n",
      "\n",
      "\n",
      "Internal CV: -0.134:  38%|███████▌            | 38/100 [04:08<08:26,  8.17s/it]"
     ]
    },
    {
     "name": "stdout",
     "output_type": "stream",
     "text": [
      "generation 38\n",
      "median fitness pop: 3697.61\n",
      "best fitness pop: 2017.03\n",
      "ml fitting...\n",
      "current ml validation score: -0.1684701434747473\n"
     ]
    },
    {
     "name": "stderr",
     "output_type": "stream",
     "text": [
      "\n",
      "\n",
      "\n",
      "\n",
      "\n",
      "Internal CV: -0.134:  38%|███████▌            | 38/100 [04:17<08:26,  8.17s/it]\n",
      "\n",
      "\n",
      "\n",
      "\n",
      "Internal CV: -0.134:  39%|███████▊            | 39/100 [04:17<08:25,  8.29s/it]"
     ]
    },
    {
     "name": "stdout",
     "output_type": "stream",
     "text": [
      "generation 39\n",
      "median fitness pop: 3697.61\n",
      "best fitness pop: 2017.03\n",
      "ml fitting...\n",
      "current ml validation score: -0.16760093154816444\n"
     ]
    },
    {
     "name": "stderr",
     "output_type": "stream",
     "text": [
      "\n",
      "\n",
      "\n",
      "\n",
      "\n",
      "Internal CV: -0.134:  39%|███████▊            | 39/100 [04:25<08:25,  8.29s/it]\n",
      "\n",
      "\n",
      "\n",
      "\n",
      "Internal CV: -0.134:  40%|████████            | 40/100 [04:25<08:22,  8.37s/it]"
     ]
    },
    {
     "name": "stdout",
     "output_type": "stream",
     "text": [
      "generation 40\n",
      "median fitness pop: 3697.61\n",
      "best fitness pop: 2017.03\n",
      "ml fitting...\n",
      "current ml validation score: -0.16764902706096244\n"
     ]
    },
    {
     "name": "stderr",
     "output_type": "stream",
     "text": [
      "\n",
      "\n",
      "\n",
      "\n",
      "\n",
      "Internal CV: -0.134:  40%|████████            | 40/100 [04:33<08:22,  8.37s/it]\n",
      "\n",
      "\n",
      "\n",
      "\n",
      "Internal CV: -0.134:  41%|████████▏           | 41/100 [04:33<08:14,  8.38s/it]"
     ]
    },
    {
     "name": "stdout",
     "output_type": "stream",
     "text": [
      "generation 41\n",
      "median fitness pop: 3697.61\n",
      "best fitness pop: 2017.03\n",
      "ml fitting...\n",
      "current ml validation score: -0.17122690610111904\n"
     ]
    },
    {
     "name": "stderr",
     "output_type": "stream",
     "text": [
      "\n",
      "\n",
      "\n",
      "\n",
      "\n",
      "Internal CV: -0.134:  41%|████████▏           | 41/100 [04:42<08:14,  8.38s/it]\n",
      "\n",
      "\n",
      "\n",
      "\n",
      "Internal CV: -0.134:  42%|████████▍           | 42/100 [04:42<08:10,  8.45s/it]"
     ]
    },
    {
     "name": "stdout",
     "output_type": "stream",
     "text": [
      "generation 42\n",
      "median fitness pop: 3697.61\n",
      "best fitness pop: 2017.03\n",
      "ml fitting...\n",
      "current ml validation score: -0.17077386153832816\n"
     ]
    },
    {
     "name": "stderr",
     "output_type": "stream",
     "text": [
      "\n",
      "\n",
      "\n",
      "\n",
      "\n",
      "Internal CV: -0.134:  42%|████████▍           | 42/100 [04:51<08:10,  8.45s/it]\n",
      "\n",
      "\n",
      "\n",
      "\n",
      "Internal CV: -0.134:  43%|████████▌           | 43/100 [04:51<08:02,  8.47s/it]"
     ]
    },
    {
     "name": "stdout",
     "output_type": "stream",
     "text": [
      "generation 43\n",
      "median fitness pop: 3697.61\n",
      "best fitness pop: 2017.03\n",
      "ml fitting...\n",
      "current ml validation score: -0.1718382517082134\n"
     ]
    },
    {
     "name": "stderr",
     "output_type": "stream",
     "text": [
      "\n",
      "\n",
      "\n",
      "\n",
      "\n",
      "Internal CV: -0.134:  43%|████████▌           | 43/100 [04:59<08:02,  8.47s/it]\n",
      "\n",
      "\n",
      "\n",
      "\n",
      "Internal CV: -0.134:  44%|████████▊           | 44/100 [04:59<07:52,  8.44s/it]"
     ]
    },
    {
     "name": "stdout",
     "output_type": "stream",
     "text": [
      "generation 44\n",
      "median fitness pop: 3697.61\n",
      "best fitness pop: 2017.03\n",
      "ml fitting...\n",
      "current ml validation score: -0.171058504771973\n"
     ]
    },
    {
     "name": "stderr",
     "output_type": "stream",
     "text": [
      "\n",
      "\n",
      "\n",
      "\n",
      "\n",
      "Internal CV: -0.134:  44%|████████▊           | 44/100 [05:08<07:52,  8.44s/it]\n",
      "\n",
      "\n",
      "\n",
      "\n",
      "Internal CV: -0.134:  45%|█████████           | 45/100 [05:08<07:50,  8.55s/it]"
     ]
    },
    {
     "name": "stdout",
     "output_type": "stream",
     "text": [
      "generation 45\n",
      "median fitness pop: 3697.61\n",
      "best fitness pop: 2017.03\n",
      "ml fitting...\n",
      "current ml validation score: -0.17107565610924658\n"
     ]
    },
    {
     "name": "stderr",
     "output_type": "stream",
     "text": [
      "\n",
      "\n",
      "\n",
      "\n",
      "\n",
      "Internal CV: -0.134:  45%|█████████           | 45/100 [05:17<07:50,  8.55s/it]\n",
      "\n",
      "\n",
      "\n",
      "\n",
      "Internal CV: -0.134:  46%|█████████▏          | 46/100 [05:17<07:44,  8.60s/it]"
     ]
    },
    {
     "name": "stdout",
     "output_type": "stream",
     "text": [
      "generation 46\n",
      "median fitness pop: 3697.61\n",
      "best fitness pop: 2017.03\n",
      "ml fitting...\n",
      "current ml validation score: -0.17503591822838396\n"
     ]
    },
    {
     "name": "stderr",
     "output_type": "stream",
     "text": [
      "\n",
      "\n",
      "\n",
      "\n",
      "\n",
      "Internal CV: -0.134:  46%|█████████▏          | 46/100 [05:25<07:44,  8.60s/it]\n",
      "\n",
      "\n",
      "\n",
      "\n",
      "Internal CV: -0.134:  47%|█████████▍          | 47/100 [05:25<07:34,  8.57s/it]"
     ]
    },
    {
     "name": "stdout",
     "output_type": "stream",
     "text": [
      "generation 47\n",
      "median fitness pop: 3697.62\n",
      "best fitness pop: 2017.03\n",
      "ml fitting...\n",
      "current ml validation score: -0.1827467433135116\n"
     ]
    },
    {
     "name": "stderr",
     "output_type": "stream",
     "text": [
      "\n",
      "\n",
      "\n",
      "\n",
      "\n",
      "Internal CV: -0.134:  47%|█████████▍          | 47/100 [05:34<07:34,  8.57s/it]\n",
      "\n",
      "\n",
      "\n",
      "\n",
      "Internal CV: -0.134:  48%|█████████▌          | 48/100 [05:34<07:28,  8.62s/it]"
     ]
    },
    {
     "name": "stdout",
     "output_type": "stream",
     "text": [
      "generation 48\n",
      "median fitness pop: 3697.62\n",
      "best fitness pop: 2017.03\n",
      "ml fitting...\n",
      "current ml validation score: -0.18466563155039317\n"
     ]
    },
    {
     "name": "stderr",
     "output_type": "stream",
     "text": [
      "\n",
      "\n",
      "\n",
      "\n",
      "\n",
      "Internal CV: -0.134:  48%|█████████▌          | 48/100 [05:42<07:28,  8.62s/it]\n",
      "\n",
      "\n",
      "\n",
      "\n",
      "Internal CV: -0.134:  49%|█████████▊          | 49/100 [05:42<07:21,  8.65s/it]"
     ]
    },
    {
     "name": "stdout",
     "output_type": "stream",
     "text": [
      "generation 49\n",
      "median fitness pop: 3697.62\n",
      "best fitness pop: 2017.03\n",
      "ml fitting...\n",
      "current ml validation score: -0.1809387172144404\n"
     ]
    },
    {
     "name": "stderr",
     "output_type": "stream",
     "text": [
      "\n",
      "\n",
      "\n",
      "\n",
      "\n",
      "Internal CV: -0.134:  49%|█████████▊          | 49/100 [05:51<07:21,  8.65s/it]\n",
      "\n",
      "\n",
      "\n",
      "\n",
      "Internal CV: -0.134:  50%|██████████          | 50/100 [05:51<07:13,  8.68s/it]"
     ]
    },
    {
     "name": "stdout",
     "output_type": "stream",
     "text": [
      "generation 50\n",
      "median fitness pop: 3697.69\n",
      "best fitness pop: 2017.03\n",
      "ml fitting...\n",
      "current ml validation score: -0.17868611786455801\n"
     ]
    },
    {
     "name": "stderr",
     "output_type": "stream",
     "text": [
      "\n",
      "\n",
      "\n",
      "\n",
      "\n",
      "Internal CV: -0.134:  50%|██████████          | 50/100 [06:00<07:13,  8.68s/it]\n",
      "\n",
      "\n",
      "\n",
      "\n",
      "Internal CV: -0.134:  51%|██████████▏         | 51/100 [06:00<07:07,  8.72s/it]"
     ]
    },
    {
     "name": "stdout",
     "output_type": "stream",
     "text": [
      "generation 51\n",
      "median fitness pop: 3697.69\n",
      "best fitness pop: 2017.03\n",
      "ml fitting...\n",
      "current ml validation score: -0.17949977843609277\n"
     ]
    },
    {
     "name": "stderr",
     "output_type": "stream",
     "text": [
      "\n",
      "\n",
      "\n",
      "\n",
      "\n",
      "Internal CV: -0.134:  51%|██████████▏         | 51/100 [06:09<07:07,  8.72s/it]\n",
      "\n",
      "\n",
      "\n",
      "\n",
      "Internal CV: -0.134:  52%|██████████▍         | 52/100 [06:09<07:00,  8.76s/it]"
     ]
    },
    {
     "name": "stdout",
     "output_type": "stream",
     "text": [
      "generation 52\n",
      "median fitness pop: 3697.69\n",
      "best fitness pop: 2017.03\n",
      "ml fitting...\n",
      "current ml validation score: -0.1828378156538231\n"
     ]
    },
    {
     "name": "stderr",
     "output_type": "stream",
     "text": [
      "\n",
      "\n",
      "\n",
      "\n",
      "\n",
      "Internal CV: -0.134:  52%|██████████▍         | 52/100 [06:18<07:00,  8.76s/it]\n",
      "\n",
      "\n",
      "\n",
      "\n",
      "Internal CV: -0.134:  53%|██████████▌         | 53/100 [06:18<06:55,  8.84s/it]"
     ]
    },
    {
     "name": "stdout",
     "output_type": "stream",
     "text": [
      "generation 53\n",
      "median fitness pop: 3718.84\n",
      "best fitness pop: 2017.03\n",
      "ml fitting...\n",
      "current ml validation score: -0.18201382270124078\n"
     ]
    },
    {
     "name": "stderr",
     "output_type": "stream",
     "text": [
      "\n",
      "\n",
      "\n",
      "\n",
      "\n",
      "Internal CV: -0.134:  53%|██████████▌         | 53/100 [06:27<06:55,  8.84s/it]\n",
      "\n",
      "\n",
      "\n",
      "\n",
      "Internal CV: -0.134:  54%|██████████▊         | 54/100 [06:27<06:47,  8.86s/it]"
     ]
    },
    {
     "name": "stdout",
     "output_type": "stream",
     "text": [
      "generation 54\n",
      "median fitness pop: 3699.09\n",
      "best fitness pop: 2017.03\n",
      "ml fitting...\n",
      "current ml validation score: -0.18835485756718776\n"
     ]
    },
    {
     "name": "stderr",
     "output_type": "stream",
     "text": [
      "\n",
      "\n",
      "\n",
      "\n",
      "\n",
      "Internal CV: -0.134:  54%|██████████▊         | 54/100 [06:36<06:47,  8.86s/it]\n",
      "\n",
      "\n",
      "\n",
      "\n",
      "Internal CV: -0.134:  55%|███████████         | 55/100 [06:36<06:41,  8.92s/it]"
     ]
    },
    {
     "name": "stdout",
     "output_type": "stream",
     "text": [
      "generation 55\n",
      "median fitness pop: 4557.92\n",
      "best fitness pop: 2017.03\n",
      "ml fitting...\n",
      "current ml validation score: -0.17843164556499014\n"
     ]
    },
    {
     "name": "stderr",
     "output_type": "stream",
     "text": [
      "\n",
      "\n",
      "\n",
      "\n",
      "\n",
      "Internal CV: -0.134:  55%|███████████         | 55/100 [06:45<06:41,  8.92s/it]\n",
      "\n",
      "\n",
      "\n",
      "\n",
      "Internal CV: -0.134:  56%|███████████▏        | 56/100 [06:45<06:33,  8.94s/it]"
     ]
    },
    {
     "name": "stdout",
     "output_type": "stream",
     "text": [
      "generation 56\n",
      "median fitness pop: 3867.04\n",
      "best fitness pop: 2017.03\n",
      "ml fitting...\n",
      "current ml validation score: -0.18057050651314924\n"
     ]
    },
    {
     "name": "stderr",
     "output_type": "stream",
     "text": [
      "\n",
      "\n",
      "\n",
      "\n",
      "\n",
      "Internal CV: -0.134:  56%|███████████▏        | 56/100 [06:54<06:33,  8.94s/it]\n",
      "\n",
      "\n",
      "\n",
      "\n",
      "Internal CV: -0.134:  57%|███████████▍        | 57/100 [06:54<06:26,  8.99s/it]"
     ]
    },
    {
     "name": "stdout",
     "output_type": "stream",
     "text": [
      "generation 57\n",
      "median fitness pop: 4540.34\n",
      "best fitness pop: 2017.03\n",
      "ml fitting...\n",
      "current ml validation score: -0.18100052506476225\n"
     ]
    },
    {
     "name": "stderr",
     "output_type": "stream",
     "text": [
      "\n",
      "\n",
      "\n",
      "\n",
      "\n",
      "Internal CV: -0.134:  57%|███████████▍        | 57/100 [07:03<06:26,  8.99s/it]\n",
      "\n",
      "\n",
      "\n",
      "\n",
      "Internal CV: -0.134:  58%|███████████▌        | 58/100 [07:03<06:17,  8.99s/it]"
     ]
    },
    {
     "name": "stdout",
     "output_type": "stream",
     "text": [
      "generation 58\n",
      "median fitness pop: 4389.89\n",
      "best fitness pop: 969.64\n",
      "ml fitting...\n",
      "current ml validation score: -0.17973668283934238\n"
     ]
    },
    {
     "name": "stderr",
     "output_type": "stream",
     "text": [
      "\n",
      "\n",
      "\n",
      "\n",
      "\n",
      "Internal CV: -0.134:  58%|███████████▌        | 58/100 [07:12<06:17,  8.99s/it]\n",
      "\n",
      "\n",
      "\n",
      "\n",
      "Internal CV: -0.134:  59%|███████████▊        | 59/100 [07:12<06:09,  9.01s/it]"
     ]
    },
    {
     "name": "stdout",
     "output_type": "stream",
     "text": [
      "generation 59\n",
      "median fitness pop: 4389.89\n",
      "best fitness pop: 969.64\n",
      "ml fitting...\n",
      "current ml validation score: -0.1774062173155574\n"
     ]
    },
    {
     "name": "stderr",
     "output_type": "stream",
     "text": [
      "\n",
      "\n",
      "\n",
      "\n",
      "\n",
      "Internal CV: -0.134:  59%|███████████▊        | 59/100 [07:21<06:09,  9.01s/it]\n",
      "\n",
      "\n",
      "\n",
      "\n",
      "Internal CV: -0.134:  60%|████████████        | 60/100 [07:21<06:01,  9.03s/it]"
     ]
    },
    {
     "name": "stdout",
     "output_type": "stream",
     "text": [
      "generation 60\n",
      "median fitness pop: 3868.44\n",
      "best fitness pop: 969.64\n",
      "ml fitting...\n",
      "current ml validation score: -0.17653669345753883\n"
     ]
    },
    {
     "name": "stderr",
     "output_type": "stream",
     "text": [
      "\n",
      "\n",
      "\n",
      "\n",
      "\n",
      "Internal CV: -0.134:  60%|████████████        | 60/100 [07:30<06:01,  9.03s/it]\n",
      "\n",
      "\n",
      "\n",
      "\n",
      "Internal CV: -0.134:  61%|████████████▏       | 61/100 [07:30<05:53,  9.05s/it]"
     ]
    },
    {
     "name": "stdout",
     "output_type": "stream",
     "text": [
      "generation 61\n",
      "median fitness pop: 3868.44\n",
      "best fitness pop: 969.64\n",
      "ml fitting...\n",
      "current ml validation score: -0.17770586384972642\n"
     ]
    },
    {
     "name": "stderr",
     "output_type": "stream",
     "text": [
      "\n",
      "\n",
      "\n",
      "\n",
      "\n",
      "Internal CV: -0.134:  61%|████████████▏       | 61/100 [07:39<05:53,  9.05s/it]\n",
      "\n",
      "\n",
      "\n",
      "\n",
      "Internal CV: -0.134:  62%|████████████▍       | 62/100 [07:39<05:45,  9.09s/it]"
     ]
    },
    {
     "name": "stdout",
     "output_type": "stream",
     "text": [
      "generation 62\n",
      "median fitness pop: 3868.44\n",
      "best fitness pop: 969.64\n",
      "ml fitting...\n",
      "current ml validation score: -0.17344387346814652\n"
     ]
    },
    {
     "name": "stderr",
     "output_type": "stream",
     "text": [
      "\n",
      "\n",
      "\n",
      "\n",
      "\n",
      "Internal CV: -0.134:  62%|████████████▍       | 62/100 [07:49<05:45,  9.09s/it]\n",
      "\n",
      "\n",
      "\n",
      "\n",
      "Internal CV: -0.134:  63%|████████████▌       | 63/100 [07:49<05:43,  9.28s/it]"
     ]
    },
    {
     "name": "stdout",
     "output_type": "stream",
     "text": [
      "generation 63\n",
      "median fitness pop: 4389.89\n",
      "best fitness pop: 969.64\n",
      "ml fitting...\n",
      "current ml validation score: -0.17577358407411647\n"
     ]
    },
    {
     "name": "stderr",
     "output_type": "stream",
     "text": [
      "\n",
      "\n",
      "\n",
      "\n",
      "\n",
      "Internal CV: -0.134:  63%|████████████▌       | 63/100 [07:59<05:43,  9.28s/it]\n",
      "\n",
      "\n",
      "\n",
      "\n",
      "Internal CV: -0.134:  64%|████████████▊       | 64/100 [07:59<05:41,  9.48s/it]"
     ]
    },
    {
     "name": "stdout",
     "output_type": "stream",
     "text": [
      "generation 64\n",
      "median fitness pop: 3877.18\n",
      "best fitness pop: 969.64\n",
      "ml fitting...\n",
      "current ml validation score: -0.16437081270050896\n"
     ]
    },
    {
     "name": "stderr",
     "output_type": "stream",
     "text": [
      "\n",
      "\n",
      "\n",
      "\n",
      "\n",
      "Internal CV: -0.134:  64%|████████████▊       | 64/100 [08:09<05:41,  9.48s/it]\n",
      "\n",
      "\n",
      "\n",
      "\n",
      "Internal CV: -0.134:  65%|█████████████       | 65/100 [08:09<05:38,  9.68s/it]"
     ]
    },
    {
     "name": "stdout",
     "output_type": "stream",
     "text": [
      "generation 65\n",
      "median fitness pop: 3818.29\n",
      "best fitness pop: 969.64\n",
      "ml fitting...\n",
      "current ml validation score: -0.16481486026846978\n"
     ]
    },
    {
     "name": "stderr",
     "output_type": "stream",
     "text": [
      "\n",
      "\n",
      "\n",
      "\n",
      "\n",
      "Internal CV: -0.134:  65%|█████████████       | 65/100 [08:19<05:38,  9.68s/it]\n",
      "\n",
      "\n",
      "\n",
      "\n",
      "Internal CV: -0.134:  66%|█████████████▏      | 66/100 [08:19<05:26,  9.60s/it]"
     ]
    },
    {
     "name": "stdout",
     "output_type": "stream",
     "text": [
      "generation 66\n",
      "median fitness pop: 3949.34\n",
      "best fitness pop: 841.10\n",
      "ml fitting...\n",
      "current ml validation score: -0.16649880173525067\n"
     ]
    },
    {
     "name": "stderr",
     "output_type": "stream",
     "text": [
      "\n",
      "\n",
      "\n",
      "\n",
      "\n",
      "Internal CV: -0.134:  66%|█████████████▏      | 66/100 [08:28<05:26,  9.60s/it]\n",
      "\n",
      "\n",
      "\n",
      "\n",
      "Internal CV: -0.134:  67%|█████████████▍      | 67/100 [08:28<05:15,  9.55s/it]"
     ]
    },
    {
     "name": "stdout",
     "output_type": "stream",
     "text": [
      "generation 67\n",
      "median fitness pop: 3803.10\n",
      "best fitness pop: 841.10\n",
      "ml fitting...\n",
      "current ml validation score: -0.16176517438947566\n"
     ]
    },
    {
     "name": "stderr",
     "output_type": "stream",
     "text": [
      "\n",
      "\n",
      "\n",
      "\n",
      "\n",
      "Internal CV: -0.134:  67%|█████████████▍      | 67/100 [08:38<05:15,  9.55s/it]\n",
      "\n",
      "\n",
      "\n",
      "\n",
      "Internal CV: -0.134:  68%|█████████████▌      | 68/100 [08:38<05:06,  9.57s/it]"
     ]
    },
    {
     "name": "stdout",
     "output_type": "stream",
     "text": [
      "generation 68\n",
      "median fitness pop: 3804.14\n",
      "best fitness pop: 841.10\n",
      "ml fitting...\n",
      "current ml validation score: -0.1617299963675616\n"
     ]
    },
    {
     "name": "stderr",
     "output_type": "stream",
     "text": [
      "\n",
      "\n",
      "\n",
      "\n",
      "\n",
      "Internal CV: -0.134:  68%|█████████████▌      | 68/100 [08:47<05:06,  9.57s/it]\n",
      "\n",
      "\n",
      "\n",
      "\n",
      "Internal CV: -0.134:  69%|█████████████▊      | 69/100 [08:47<04:58,  9.62s/it]"
     ]
    },
    {
     "name": "stdout",
     "output_type": "stream",
     "text": [
      "generation 69\n",
      "median fitness pop: 3780.64\n",
      "best fitness pop: 841.10\n",
      "ml fitting...\n",
      "current ml validation score: -0.16218915942033746\n"
     ]
    },
    {
     "name": "stderr",
     "output_type": "stream",
     "text": [
      "\n",
      "\n",
      "\n",
      "\n",
      "\n",
      "Internal CV: -0.134:  69%|█████████████▊      | 69/100 [08:57<04:58,  9.62s/it]\n",
      "\n",
      "\n",
      "\n",
      "\n",
      "Internal CV: -0.134:  70%|██████████████      | 70/100 [08:57<04:49,  9.65s/it]"
     ]
    },
    {
     "name": "stdout",
     "output_type": "stream",
     "text": [
      "generation 70\n",
      "median fitness pop: 3780.64\n",
      "best fitness pop: 841.10\n",
      "ml fitting...\n",
      "current ml validation score: -0.16242883347001236\n"
     ]
    },
    {
     "name": "stderr",
     "output_type": "stream",
     "text": [
      "\n",
      "\n",
      "\n",
      "\n",
      "\n",
      "Internal CV: -0.134:  70%|██████████████      | 70/100 [09:07<04:49,  9.65s/it]\n",
      "\n",
      "\n",
      "\n",
      "\n",
      "Internal CV: -0.134:  71%|██████████████▏     | 71/100 [09:07<04:39,  9.64s/it]"
     ]
    },
    {
     "name": "stdout",
     "output_type": "stream",
     "text": [
      "generation 71\n",
      "median fitness pop: 3711.04\n",
      "best fitness pop: 841.10\n",
      "ml fitting...\n",
      "current ml validation score: -0.17450352056869198\n"
     ]
    },
    {
     "name": "stderr",
     "output_type": "stream",
     "text": [
      "\n",
      "\n",
      "\n",
      "\n",
      "\n",
      "Internal CV: -0.134:  71%|██████████████▏     | 71/100 [09:17<04:39,  9.64s/it]\n",
      "\n",
      "\n",
      "\n",
      "\n",
      "Internal CV: -0.134:  72%|██████████████▍     | 72/100 [09:17<04:31,  9.69s/it]"
     ]
    },
    {
     "name": "stdout",
     "output_type": "stream",
     "text": [
      "generation 72\n",
      "median fitness pop: 3712.54\n",
      "best fitness pop: 841.10\n",
      "ml fitting...\n",
      "current ml validation score: -0.17582475223254243\n"
     ]
    },
    {
     "name": "stderr",
     "output_type": "stream",
     "text": [
      "\n",
      "\n",
      "\n",
      "\n",
      "\n",
      "Internal CV: -0.134:  72%|██████████████▍     | 72/100 [09:26<04:31,  9.69s/it]\n",
      "\n",
      "\n",
      "\n",
      "\n",
      "Internal CV: -0.134:  73%|██████████████▌     | 73/100 [09:26<04:21,  9.69s/it]"
     ]
    },
    {
     "name": "stdout",
     "output_type": "stream",
     "text": [
      "generation 73\n",
      "median fitness pop: 3699.23\n",
      "best fitness pop: 841.10\n",
      "ml fitting...\n",
      "current ml validation score: -0.17219218455479404\n"
     ]
    },
    {
     "name": "stderr",
     "output_type": "stream",
     "text": [
      "\n",
      "\n",
      "\n",
      "\n",
      "\n",
      "Internal CV: -0.134:  73%|██████████████▌     | 73/100 [09:36<04:21,  9.69s/it]\n",
      "\n",
      "\n",
      "\n",
      "\n",
      "Internal CV: -0.134:  74%|██████████████▊     | 74/100 [09:36<04:12,  9.71s/it]"
     ]
    },
    {
     "name": "stdout",
     "output_type": "stream",
     "text": [
      "generation 74\n",
      "median fitness pop: 3712.54\n",
      "best fitness pop: 841.10\n",
      "ml fitting...\n",
      "current ml validation score: -0.15824435236604967\n"
     ]
    },
    {
     "name": "stderr",
     "output_type": "stream",
     "text": [
      "\n",
      "\n",
      "\n",
      "\n",
      "\n",
      "Internal CV: -0.134:  74%|██████████████▊     | 74/100 [09:46<04:12,  9.71s/it]\n",
      "\n",
      "\n",
      "\n",
      "\n",
      "Internal CV: -0.134:  75%|███████████████     | 75/100 [09:46<04:02,  9.72s/it]"
     ]
    },
    {
     "name": "stdout",
     "output_type": "stream",
     "text": [
      "generation 75\n",
      "median fitness pop: 3712.54\n",
      "best fitness pop: 841.10\n",
      "ml fitting...\n",
      "current ml validation score: -0.1761215899011046\n"
     ]
    },
    {
     "name": "stderr",
     "output_type": "stream",
     "text": [
      "\n",
      "\n",
      "\n",
      "\n",
      "\n",
      "Internal CV: -0.134:  75%|███████████████     | 75/100 [09:55<04:02,  9.72s/it]\n",
      "\n",
      "\n",
      "\n",
      "\n",
      "Internal CV: -0.134:  76%|███████████████▏    | 76/100 [09:55<03:53,  9.73s/it]"
     ]
    },
    {
     "name": "stdout",
     "output_type": "stream",
     "text": [
      "generation 76\n",
      "median fitness pop: 3701.41\n",
      "best fitness pop: 841.10\n",
      "ml fitting...\n",
      "current ml validation score: -0.175274368780471\n"
     ]
    },
    {
     "name": "stderr",
     "output_type": "stream",
     "text": [
      "\n",
      "\n",
      "\n",
      "\n",
      "\n",
      "Internal CV: -0.134:  76%|███████████████▏    | 76/100 [10:05<03:53,  9.73s/it]\n",
      "\n",
      "\n",
      "\n",
      "\n",
      "Internal CV: -0.134:  77%|███████████████▍    | 77/100 [10:05<03:44,  9.76s/it]"
     ]
    },
    {
     "name": "stdout",
     "output_type": "stream",
     "text": [
      "generation 77\n",
      "median fitness pop: 3701.41\n",
      "best fitness pop: 841.10\n",
      "ml fitting...\n",
      "current ml validation score: -0.176999951254055\n"
     ]
    },
    {
     "name": "stderr",
     "output_type": "stream",
     "text": [
      "\n",
      "\n",
      "\n",
      "\n",
      "\n",
      "Internal CV: -0.134:  77%|███████████████▍    | 77/100 [10:16<03:44,  9.76s/it]\n",
      "\n",
      "\n",
      "\n",
      "\n",
      "Internal CV: -0.134:  78%|███████████████▌    | 78/100 [10:16<03:38,  9.94s/it]"
     ]
    },
    {
     "name": "stdout",
     "output_type": "stream",
     "text": [
      "generation 78\n",
      "median fitness pop: 3698.60\n",
      "best fitness pop: 841.10\n",
      "ml fitting...\n",
      "current ml validation score: -0.1704656158941232\n"
     ]
    },
    {
     "name": "stderr",
     "output_type": "stream",
     "text": [
      "\n",
      "\n",
      "\n",
      "\n",
      "\n",
      "Internal CV: -0.134:  78%|███████████████▌    | 78/100 [10:26<03:38,  9.94s/it]\n",
      "\n",
      "\n",
      "\n",
      "\n",
      "Internal CV: -0.134:  79%|███████████████▊    | 79/100 [10:26<03:28,  9.92s/it]"
     ]
    },
    {
     "name": "stdout",
     "output_type": "stream",
     "text": [
      "generation 79\n",
      "median fitness pop: 3714.98\n",
      "best fitness pop: 841.10\n",
      "ml fitting...\n",
      "current ml validation score: -0.17758427994372908\n"
     ]
    },
    {
     "name": "stderr",
     "output_type": "stream",
     "text": [
      "\n",
      "\n",
      "\n",
      "\n",
      "\n",
      "Internal CV: -0.134:  79%|███████████████▊    | 79/100 [10:35<03:28,  9.92s/it]\n",
      "\n",
      "\n",
      "\n",
      "\n",
      "Internal CV: -0.134:  80%|████████████████    | 80/100 [10:35<03:17,  9.85s/it]"
     ]
    },
    {
     "name": "stdout",
     "output_type": "stream",
     "text": [
      "generation 80\n",
      "median fitness pop: 3704.65\n",
      "best fitness pop: 841.10\n",
      "ml fitting...\n",
      "current ml validation score: -0.17745745702644186\n"
     ]
    },
    {
     "name": "stderr",
     "output_type": "stream",
     "text": [
      "\n",
      "\n",
      "\n",
      "\n",
      "\n",
      "Internal CV: -0.134:  80%|████████████████    | 80/100 [10:45<03:17,  9.85s/it]\n",
      "\n",
      "\n",
      "\n",
      "\n",
      "Internal CV: -0.134:  81%|████████████████▏   | 81/100 [10:45<03:06,  9.81s/it]"
     ]
    },
    {
     "name": "stdout",
     "output_type": "stream",
     "text": [
      "generation 81\n",
      "median fitness pop: 3745.41\n",
      "best fitness pop: 841.10\n",
      "ml fitting...\n",
      "current ml validation score: -0.1721867012945407\n"
     ]
    },
    {
     "name": "stderr",
     "output_type": "stream",
     "text": [
      "\n",
      "\n",
      "\n",
      "\n",
      "\n",
      "Internal CV: -0.134:  81%|████████████████▏   | 81/100 [10:55<03:06,  9.81s/it]\n",
      "\n",
      "\n",
      "\n",
      "\n",
      "Internal CV: -0.134:  82%|████████████████▍   | 82/100 [10:55<02:55,  9.75s/it]"
     ]
    },
    {
     "name": "stdout",
     "output_type": "stream",
     "text": [
      "generation 82\n",
      "median fitness pop: 3699.35\n",
      "best fitness pop: 841.10\n",
      "ml fitting...\n",
      "current ml validation score: -0.17282349132507194\n"
     ]
    },
    {
     "name": "stderr",
     "output_type": "stream",
     "text": [
      "\n",
      "\n",
      "\n",
      "\n",
      "\n",
      "Internal CV: -0.134:  82%|████████████████▍   | 82/100 [11:04<02:55,  9.75s/it]\n",
      "\n",
      "\n",
      "\n",
      "\n",
      "Internal CV: -0.134:  83%|████████████████▌   | 83/100 [11:04<02:45,  9.73s/it]"
     ]
    },
    {
     "name": "stdout",
     "output_type": "stream",
     "text": [
      "generation 83\n",
      "median fitness pop: 3701.85\n",
      "best fitness pop: 841.10\n",
      "ml fitting...\n",
      "current ml validation score: -0.17411644733701867\n"
     ]
    },
    {
     "name": "stderr",
     "output_type": "stream",
     "text": [
      "\n",
      "\n",
      "\n",
      "\n",
      "\n",
      "Internal CV: -0.134:  83%|████████████████▌   | 83/100 [11:14<02:45,  9.73s/it]\n",
      "\n",
      "\n",
      "\n",
      "\n",
      "Internal CV: -0.134:  84%|████████████████▊   | 84/100 [11:14<02:36,  9.75s/it]"
     ]
    },
    {
     "name": "stdout",
     "output_type": "stream",
     "text": [
      "generation 84\n",
      "median fitness pop: 3699.16\n",
      "best fitness pop: 841.10\n",
      "ml fitting...\n",
      "current ml validation score: -0.1722788114298716\n"
     ]
    },
    {
     "name": "stderr",
     "output_type": "stream",
     "text": [
      "\n",
      "\n",
      "\n",
      "\n",
      "\n",
      "Internal CV: -0.134:  84%|████████████████▊   | 84/100 [11:24<02:36,  9.75s/it]\n",
      "\n",
      "\n",
      "\n",
      "\n",
      "Internal CV: -0.134:  85%|█████████████████   | 85/100 [11:24<02:25,  9.71s/it]"
     ]
    },
    {
     "name": "stdout",
     "output_type": "stream",
     "text": [
      "generation 85\n",
      "median fitness pop: 3701.41\n",
      "best fitness pop: 841.10\n",
      "ml fitting...\n",
      "current ml validation score: -0.17243567153758757\n"
     ]
    },
    {
     "name": "stderr",
     "output_type": "stream",
     "text": [
      "\n",
      "\n",
      "\n",
      "\n",
      "\n",
      "Internal CV: -0.134:  85%|█████████████████   | 85/100 [11:33<02:25,  9.71s/it]\n",
      "\n",
      "\n",
      "\n",
      "\n",
      "Internal CV: -0.134:  86%|█████████████████▏  | 86/100 [11:33<02:16,  9.73s/it]"
     ]
    },
    {
     "name": "stdout",
     "output_type": "stream",
     "text": [
      "generation 86\n",
      "median fitness pop: 3697.87\n",
      "best fitness pop: 841.10\n",
      "ml fitting...\n",
      "current ml validation score: -0.17684984440526286\n"
     ]
    },
    {
     "name": "stderr",
     "output_type": "stream",
     "text": [
      "\n",
      "\n",
      "\n",
      "\n",
      "\n",
      "Internal CV: -0.134:  86%|█████████████████▏  | 86/100 [11:43<02:16,  9.73s/it]\n",
      "\n",
      "\n",
      "\n",
      "\n",
      "Internal CV: -0.134:  87%|█████████████████▍  | 87/100 [11:43<02:06,  9.72s/it]"
     ]
    },
    {
     "name": "stdout",
     "output_type": "stream",
     "text": [
      "generation 87\n",
      "median fitness pop: 3697.96\n",
      "best fitness pop: 841.10\n",
      "ml fitting...\n",
      "current ml validation score: -0.171990223348643\n"
     ]
    },
    {
     "name": "stderr",
     "output_type": "stream",
     "text": [
      "\n",
      "\n",
      "\n",
      "\n",
      "\n",
      "Internal CV: -0.134:  87%|█████████████████▍  | 87/100 [11:53<02:06,  9.72s/it]\n",
      "\n",
      "\n",
      "\n",
      "\n",
      "Internal CV: -0.134:  88%|█████████████████▌  | 88/100 [11:53<01:57,  9.75s/it]"
     ]
    },
    {
     "name": "stdout",
     "output_type": "stream",
     "text": [
      "generation 88\n",
      "median fitness pop: 3699.16\n",
      "best fitness pop: 841.10\n",
      "ml fitting...\n",
      "current ml validation score: -0.1795843548088705\n"
     ]
    },
    {
     "name": "stderr",
     "output_type": "stream",
     "text": [
      "\n",
      "\n",
      "\n",
      "\n",
      "\n",
      "Internal CV: -0.134:  88%|█████████████████▌  | 88/100 [12:03<01:57,  9.75s/it]\n",
      "\n",
      "\n",
      "\n",
      "\n",
      "Internal CV: -0.134:  89%|█████████████████▊  | 89/100 [12:03<01:46,  9.72s/it]"
     ]
    },
    {
     "name": "stdout",
     "output_type": "stream",
     "text": [
      "generation 89\n",
      "median fitness pop: 3654.96\n",
      "best fitness pop: 841.10\n",
      "ml fitting...\n",
      "current ml validation score: -0.18232652401352045\n"
     ]
    },
    {
     "name": "stderr",
     "output_type": "stream",
     "text": [
      "\n",
      "\n",
      "\n",
      "\n",
      "\n",
      "Internal CV: -0.134:  89%|█████████████████▊  | 89/100 [12:12<01:46,  9.72s/it]\n",
      "\n",
      "\n",
      "\n",
      "\n",
      "Internal CV: -0.134:  90%|██████████████████  | 90/100 [12:12<01:37,  9.71s/it]"
     ]
    },
    {
     "name": "stdout",
     "output_type": "stream",
     "text": [
      "generation 90\n",
      "median fitness pop: 3701.04\n",
      "best fitness pop: 841.10\n",
      "ml fitting...\n",
      "current ml validation score: -0.17825630258881656\n"
     ]
    },
    {
     "name": "stderr",
     "output_type": "stream",
     "text": [
      "\n",
      "\n",
      "\n",
      "\n",
      "\n",
      "Internal CV: -0.134:  90%|██████████████████  | 90/100 [12:22<01:37,  9.71s/it]\n",
      "\n",
      "\n",
      "\n",
      "\n",
      "Internal CV: -0.134:  91%|██████████████████▏ | 91/100 [12:22<01:27,  9.70s/it]"
     ]
    },
    {
     "name": "stdout",
     "output_type": "stream",
     "text": [
      "generation 91\n",
      "median fitness pop: 3694.25\n",
      "best fitness pop: 841.10\n",
      "ml fitting...\n",
      "current ml validation score: -0.17795015546388523\n"
     ]
    },
    {
     "name": "stderr",
     "output_type": "stream",
     "text": [
      "\n",
      "\n",
      "\n",
      "\n",
      "\n",
      "Internal CV: -0.134:  91%|██████████████████▏ | 91/100 [12:32<01:27,  9.70s/it]\n",
      "\n",
      "\n",
      "\n",
      "\n",
      "Internal CV: -0.134:  92%|██████████████████▍ | 92/100 [12:32<01:17,  9.68s/it]"
     ]
    },
    {
     "name": "stdout",
     "output_type": "stream",
     "text": [
      "generation 92\n",
      "median fitness pop: 3698.26\n",
      "best fitness pop: 841.10\n",
      "ml fitting...\n",
      "current ml validation score: -0.17730892019243813\n"
     ]
    },
    {
     "name": "stderr",
     "output_type": "stream",
     "text": [
      "\n",
      "\n",
      "\n",
      "\n",
      "\n",
      "Internal CV: -0.134:  92%|██████████████████▍ | 92/100 [12:41<01:17,  9.68s/it]\n",
      "\n",
      "\n",
      "\n",
      "\n",
      "Internal CV: -0.134:  93%|██████████████████▌ | 93/100 [12:41<01:07,  9.68s/it]"
     ]
    },
    {
     "name": "stdout",
     "output_type": "stream",
     "text": [
      "generation 93\n",
      "median fitness pop: 3712.26\n",
      "best fitness pop: 841.10\n",
      "ml fitting...\n",
      "current ml validation score: -0.1770485012288681\n"
     ]
    },
    {
     "name": "stderr",
     "output_type": "stream",
     "text": [
      "\n",
      "\n",
      "\n",
      "\n",
      "\n",
      "Internal CV: -0.134:  93%|██████████████████▌ | 93/100 [12:51<01:07,  9.68s/it]\n",
      "\n",
      "\n",
      "\n",
      "\n",
      "Internal CV: -0.134:  94%|██████████████████▊ | 94/100 [12:51<00:58,  9.67s/it]"
     ]
    },
    {
     "name": "stdout",
     "output_type": "stream",
     "text": [
      "generation 94\n",
      "median fitness pop: 3698.65\n",
      "best fitness pop: 841.10\n",
      "ml fitting...\n",
      "current ml validation score: -0.17647945084714914\n"
     ]
    },
    {
     "name": "stderr",
     "output_type": "stream",
     "text": [
      "\n",
      "\n",
      "\n",
      "\n",
      "\n",
      "Internal CV: -0.134:  94%|██████████████████▊ | 94/100 [13:01<00:58,  9.67s/it]\n",
      "\n",
      "\n",
      "\n",
      "\n",
      "Internal CV: -0.134:  95%|███████████████████ | 95/100 [13:01<00:48,  9.68s/it]"
     ]
    },
    {
     "name": "stdout",
     "output_type": "stream",
     "text": [
      "generation 95\n",
      "median fitness pop: 3694.25\n",
      "best fitness pop: 841.10\n",
      "ml fitting...\n",
      "current ml validation score: -0.17598595371782785\n"
     ]
    },
    {
     "name": "stderr",
     "output_type": "stream",
     "text": [
      "\n",
      "\n",
      "\n",
      "\n",
      "\n",
      "Internal CV: -0.134:  95%|███████████████████ | 95/100 [13:10<00:48,  9.68s/it]\n",
      "\n",
      "\n",
      "\n",
      "\n",
      "Internal CV: -0.134:  96%|███████████████████▏| 96/100 [13:10<00:38,  9.68s/it]"
     ]
    },
    {
     "name": "stdout",
     "output_type": "stream",
     "text": [
      "generation 96\n",
      "median fitness pop: 3694.25\n",
      "best fitness pop: 841.10\n",
      "ml fitting...\n",
      "current ml validation score: -0.1734809140709805\n"
     ]
    },
    {
     "name": "stderr",
     "output_type": "stream",
     "text": [
      "\n",
      "\n",
      "\n",
      "\n",
      "\n",
      "Internal CV: -0.134:  96%|███████████████████▏| 96/100 [13:20<00:38,  9.68s/it]\n",
      "\n",
      "\n",
      "\n",
      "\n",
      "Internal CV: -0.134:  97%|███████████████████▍| 97/100 [13:20<00:29,  9.68s/it]"
     ]
    },
    {
     "name": "stdout",
     "output_type": "stream",
     "text": [
      "generation 97\n",
      "median fitness pop: 3694.25\n",
      "best fitness pop: 841.10\n",
      "ml fitting...\n",
      "current ml validation score: -0.17228839020603234\n"
     ]
    },
    {
     "name": "stderr",
     "output_type": "stream",
     "text": [
      "\n",
      "\n",
      "\n",
      "\n",
      "\n",
      "Internal CV: -0.134:  97%|███████████████████▍| 97/100 [13:30<00:29,  9.68s/it]\n",
      "\n",
      "\n",
      "\n",
      "\n",
      "Internal CV: -0.134:  98%|███████████████████▌| 98/100 [13:30<00:19,  9.67s/it]"
     ]
    },
    {
     "name": "stdout",
     "output_type": "stream",
     "text": [
      "generation 98\n",
      "median fitness pop: 3699.84\n",
      "best fitness pop: 841.10\n",
      "ml fitting...\n",
      "current ml validation score: -0.1740937987355693\n"
     ]
    },
    {
     "name": "stderr",
     "output_type": "stream",
     "text": [
      "\n",
      "\n",
      "\n",
      "\n",
      "\n",
      "Internal CV: -0.134:  98%|███████████████████▌| 98/100 [13:39<00:19,  9.67s/it]\n",
      "\n",
      "\n",
      "\n",
      "\n",
      "Internal CV: -0.134:  99%|███████████████████▊| 99/100 [13:39<00:09,  9.70s/it]"
     ]
    },
    {
     "name": "stdout",
     "output_type": "stream",
     "text": [
      "generation 99\n",
      "median fitness pop: 3698.65\n",
      "best fitness pop: 841.10\n",
      "ml fitting...\n",
      "current ml validation score: -0.17254082386600925\n"
     ]
    },
    {
     "name": "stderr",
     "output_type": "stream",
     "text": [
      "\n",
      "\n",
      "\n",
      "\n",
      "\n",
      "Internal CV: -0.134:  99%|███████████████████▊| 99/100 [13:49<00:09,  9.70s/it]\n",
      "\n",
      "\n",
      "\n",
      "\n",
      "Internal CV: -0.134: 100%|███████████████████| 100/100 [13:49<00:00,  9.70s/it]"
     ]
    },
    {
     "name": "stdout",
     "output_type": "stream",
     "text": [
      "finished. best internal val score: -0.134\n",
      "final model:\n",
      " original features\n"
     ]
    },
    {
     "data": {
      "text/plain": [
       "FEW(boolean=False, c=True, classification=False, clean=False,\n",
       "  crossover_rate=0.5, disable_update_check=False, dtypes=None,\n",
       "  elitism=True, erc=False, fit_choice=None, generations=100,\n",
       "  lex_size=False, max_depth=2, max_depth_init=2, max_stall=100, mdr=False,\n",
       "  min_depth=1,\n",
       "  ml=GradientBoostingRegressor(alpha=0.9, criterion='friedman_mse', init=None,\n",
       "             learning_rate=0.1, loss='ls', max_depth=3, max_features=None,\n",
       "             max_leaf_nodes=None, min_impurity_decrease=0.0,\n",
       "             min_impurity_split=None, min_samples_leaf=1,\n",
       "             min_samples_spli...=None, subsample=1.0, tol=0.0001,\n",
       "             validation_fraction=0.1, verbose=0, warm_start=False),\n",
       "  mutation_rate=0.5, names=None, normalize=True, op_weight=False,\n",
       "  operators=None, otype='f', population_size=500, random_state=None,\n",
       "  scoring_function=<function rmsle_cv at 0x000000E35891FE18>,\n",
       "  seed_with_ml=True, sel='epsilon_lexicase', tourn_size=2,\n",
       "  track_diversity=False, verbosity=2, weight_parents=True)"
      ]
     },
     "execution_count": 11,
     "metadata": {},
     "output_type": "execute_result"
    }
   ],
   "source": [
    "from few import FEW\n",
    "from sklearn.ensemble import RandomForestRegressor,GradientBoostingRegressor\n",
    "from sklearn.linear_model import LassoLarsCV\n",
    "\n",
    "def rmsle_cv(y_true, y_pred) : \n",
    "    assert len(y_true) == len(y_pred)\n",
    "    if not (y_true >= 0).all() and not (y_pred >= 0).all():\n",
    "        raise ValueError(\"Mean Squared Logarithmic Error cannot be used when \"\n",
    "                         \"targets contain negative values.\")\n",
    "    return -(np.sqrt(np.mean((np.log(1+y_pred) - np.log(1+y_true))**2)))\n",
    "\n",
    "learner = FEW(generations=100,population_size=500,ml=GradientBoostingRegressor(),scoring_function=rmsle_cv, verbosity=2)\n",
    "X = X_train.values\n",
    "y = y_train.values\n",
    "learner.fit(X,y)\n",
    "\n",
    "  \n"
   ]
  },
  {
   "cell_type": "code",
   "execution_count": null,
   "metadata": {},
   "outputs": [],
   "source": []
  }
 ],
 "metadata": {
  "kernelspec": {
   "display_name": "Python 3",
   "language": "python",
   "name": "python3"
  },
  "language_info": {
   "codemirror_mode": {
    "name": "ipython",
    "version": 3
   },
   "file_extension": ".py",
   "mimetype": "text/x-python",
   "name": "python",
   "nbconvert_exporter": "python",
   "pygments_lexer": "ipython3",
   "version": "3.6.5"
  }
 },
 "nbformat": 4,
 "nbformat_minor": 2
}
