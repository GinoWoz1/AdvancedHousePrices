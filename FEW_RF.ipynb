{
 "cells": [
  {
   "cell_type": "code",
   "execution_count": 1,
   "metadata": {
    "scrolled": true
   },
   "outputs": [
    {
     "name": "stderr",
     "output_type": "stream",
     "text": [
      "C:\\Users\\jjonus\\Anaconda3\\lib\\site-packages\\h5py\\__init__.py:36: FutureWarning: Conversion of the second argument of issubdtype from `float` to `np.floating` is deprecated. In future, it will be treated as `np.float64 == np.dtype(float).type`.\n",
      "  from ._conv import register_converters as _register_converters\n",
      "Using TensorFlow backend.\n"
     ]
    }
   ],
   "source": [
    "from sklearn.model_selection import train_test_split,RepeatedKFold\n",
    "from fancyimpute import MICE # imputation\n",
    "import pandas as pd\n",
    "import numpy as np\n",
    "import matplotlib.pyplot as plt\n",
    "from sklearn.model_selection import learning_curve,cross_val_score,GridSearchCV\n",
    "from sklearn.metrics import make_scorer\n",
    "from sklearn.linear_model import RidgeCV\n",
    "import seaborn as sns\n",
    "import warnings\n",
    "warnings.filterwarnings('ignore')"
   ]
  },
  {
   "cell_type": "code",
   "execution_count": 2,
   "metadata": {},
   "outputs": [
    {
     "name": "stdout",
     "output_type": "stream",
     "text": [
      "[MICE] Completing matrix with shape (1460, 36)\n",
      "[MICE] Starting imputation round 1/110, elapsed time 0.001\n",
      "[MICE] Starting imputation round 2/110, elapsed time 0.066\n",
      "[MICE] Starting imputation round 3/110, elapsed time 0.067\n",
      "[MICE] Starting imputation round 4/110, elapsed time 0.068\n",
      "[MICE] Starting imputation round 5/110, elapsed time 0.069\n",
      "[MICE] Starting imputation round 6/110, elapsed time 0.070\n",
      "[MICE] Starting imputation round 7/110, elapsed time 0.071\n",
      "[MICE] Starting imputation round 8/110, elapsed time 0.072\n",
      "[MICE] Starting imputation round 9/110, elapsed time 0.073\n",
      "[MICE] Starting imputation round 10/110, elapsed time 0.074\n",
      "[MICE] Starting imputation round 11/110, elapsed time 0.074\n",
      "[MICE] Starting imputation round 12/110, elapsed time 0.075\n",
      "[MICE] Starting imputation round 13/110, elapsed time 0.076\n",
      "[MICE] Starting imputation round 14/110, elapsed time 0.077\n",
      "[MICE] Starting imputation round 15/110, elapsed time 0.078\n",
      "[MICE] Starting imputation round 16/110, elapsed time 0.079\n",
      "[MICE] Starting imputation round 17/110, elapsed time 0.080\n",
      "[MICE] Starting imputation round 18/110, elapsed time 0.081\n",
      "[MICE] Starting imputation round 19/110, elapsed time 0.082\n",
      "[MICE] Starting imputation round 20/110, elapsed time 0.083\n",
      "[MICE] Starting imputation round 21/110, elapsed time 0.084\n",
      "[MICE] Starting imputation round 22/110, elapsed time 0.085\n",
      "[MICE] Starting imputation round 23/110, elapsed time 0.086\n",
      "[MICE] Starting imputation round 24/110, elapsed time 0.087\n",
      "[MICE] Starting imputation round 25/110, elapsed time 0.088\n",
      "[MICE] Starting imputation round 26/110, elapsed time 0.089\n",
      "[MICE] Starting imputation round 27/110, elapsed time 0.090\n",
      "[MICE] Starting imputation round 28/110, elapsed time 0.091\n",
      "[MICE] Starting imputation round 29/110, elapsed time 0.092\n",
      "[MICE] Starting imputation round 30/110, elapsed time 0.093\n",
      "[MICE] Starting imputation round 31/110, elapsed time 0.094\n",
      "[MICE] Starting imputation round 32/110, elapsed time 0.095\n",
      "[MICE] Starting imputation round 33/110, elapsed time 0.096\n",
      "[MICE] Starting imputation round 34/110, elapsed time 0.097\n",
      "[MICE] Starting imputation round 35/110, elapsed time 0.098\n",
      "[MICE] Starting imputation round 36/110, elapsed time 0.099\n",
      "[MICE] Starting imputation round 37/110, elapsed time 0.100\n",
      "[MICE] Starting imputation round 38/110, elapsed time 0.101\n",
      "[MICE] Starting imputation round 39/110, elapsed time 0.102\n",
      "[MICE] Starting imputation round 40/110, elapsed time 0.103\n",
      "[MICE] Starting imputation round 41/110, elapsed time 0.104\n",
      "[MICE] Starting imputation round 42/110, elapsed time 0.105\n",
      "[MICE] Starting imputation round 43/110, elapsed time 0.106\n",
      "[MICE] Starting imputation round 44/110, elapsed time 0.107\n",
      "[MICE] Starting imputation round 45/110, elapsed time 0.108\n",
      "[MICE] Starting imputation round 46/110, elapsed time 0.109\n",
      "[MICE] Starting imputation round 47/110, elapsed time 0.110\n",
      "[MICE] Starting imputation round 48/110, elapsed time 0.111\n",
      "[MICE] Starting imputation round 49/110, elapsed time 0.112\n",
      "[MICE] Starting imputation round 50/110, elapsed time 0.113\n",
      "[MICE] Starting imputation round 51/110, elapsed time 0.114\n",
      "[MICE] Starting imputation round 52/110, elapsed time 0.115\n",
      "[MICE] Starting imputation round 53/110, elapsed time 0.116\n",
      "[MICE] Starting imputation round 54/110, elapsed time 0.117\n",
      "[MICE] Starting imputation round 55/110, elapsed time 0.118\n",
      "[MICE] Starting imputation round 56/110, elapsed time 0.119\n",
      "[MICE] Starting imputation round 57/110, elapsed time 0.120\n",
      "[MICE] Starting imputation round 58/110, elapsed time 0.121\n",
      "[MICE] Starting imputation round 59/110, elapsed time 0.122\n",
      "[MICE] Starting imputation round 60/110, elapsed time 0.123\n",
      "[MICE] Starting imputation round 61/110, elapsed time 0.124\n",
      "[MICE] Starting imputation round 62/110, elapsed time 0.125\n",
      "[MICE] Starting imputation round 63/110, elapsed time 0.126\n",
      "[MICE] Starting imputation round 64/110, elapsed time 0.127\n",
      "[MICE] Starting imputation round 65/110, elapsed time 0.128\n",
      "[MICE] Starting imputation round 66/110, elapsed time 0.129\n",
      "[MICE] Starting imputation round 67/110, elapsed time 0.130\n",
      "[MICE] Starting imputation round 68/110, elapsed time 0.131\n",
      "[MICE] Starting imputation round 69/110, elapsed time 0.132\n",
      "[MICE] Starting imputation round 70/110, elapsed time 0.133\n",
      "[MICE] Starting imputation round 71/110, elapsed time 0.134\n",
      "[MICE] Starting imputation round 72/110, elapsed time 0.135\n",
      "[MICE] Starting imputation round 73/110, elapsed time 0.136\n",
      "[MICE] Starting imputation round 74/110, elapsed time 0.137\n",
      "[MICE] Starting imputation round 75/110, elapsed time 0.137\n",
      "[MICE] Starting imputation round 76/110, elapsed time 0.138\n",
      "[MICE] Starting imputation round 77/110, elapsed time 0.139\n",
      "[MICE] Starting imputation round 78/110, elapsed time 0.140\n",
      "[MICE] Starting imputation round 79/110, elapsed time 0.142\n",
      "[MICE] Starting imputation round 80/110, elapsed time 0.142\n",
      "[MICE] Starting imputation round 81/110, elapsed time 0.144\n",
      "[MICE] Starting imputation round 82/110, elapsed time 0.145\n",
      "[MICE] Starting imputation round 83/110, elapsed time 0.146\n",
      "[MICE] Starting imputation round 84/110, elapsed time 0.147\n",
      "[MICE] Starting imputation round 85/110, elapsed time 0.147\n",
      "[MICE] Starting imputation round 86/110, elapsed time 0.149\n",
      "[MICE] Starting imputation round 87/110, elapsed time 0.150\n",
      "[MICE] Starting imputation round 88/110, elapsed time 0.151\n",
      "[MICE] Starting imputation round 89/110, elapsed time 0.152\n",
      "[MICE] Starting imputation round 90/110, elapsed time 0.153\n",
      "[MICE] Starting imputation round 91/110, elapsed time 0.154\n",
      "[MICE] Starting imputation round 92/110, elapsed time 0.155\n",
      "[MICE] Starting imputation round 93/110, elapsed time 0.156\n",
      "[MICE] Starting imputation round 94/110, elapsed time 0.157\n",
      "[MICE] Starting imputation round 95/110, elapsed time 0.158\n",
      "[MICE] Starting imputation round 96/110, elapsed time 0.159\n",
      "[MICE] Starting imputation round 97/110, elapsed time 0.160\n",
      "[MICE] Starting imputation round 98/110, elapsed time 0.161\n",
      "[MICE] Starting imputation round 99/110, elapsed time 0.162\n",
      "[MICE] Starting imputation round 100/110, elapsed time 0.163\n",
      "[MICE] Starting imputation round 101/110, elapsed time 0.164\n",
      "[MICE] Starting imputation round 102/110, elapsed time 0.165\n",
      "[MICE] Starting imputation round 103/110, elapsed time 0.166\n",
      "[MICE] Starting imputation round 104/110, elapsed time 0.167\n",
      "[MICE] Starting imputation round 105/110, elapsed time 0.168\n",
      "[MICE] Starting imputation round 106/110, elapsed time 0.168\n",
      "[MICE] Starting imputation round 107/110, elapsed time 0.169\n",
      "[MICE] Starting imputation round 108/110, elapsed time 0.170\n",
      "[MICE] Starting imputation round 109/110, elapsed time 0.171\n",
      "[MICE] Starting imputation round 110/110, elapsed time 0.172\n",
      "[MICE] Completing matrix with shape (1459, 36)\n",
      "[MICE] Starting imputation round 1/110, elapsed time 0.001\n",
      "[MICE] Starting imputation round 2/110, elapsed time 0.003\n",
      "[MICE] Starting imputation round 3/110, elapsed time 0.004\n",
      "[MICE] Starting imputation round 4/110, elapsed time 0.005\n",
      "[MICE] Starting imputation round 5/110, elapsed time 0.006\n",
      "[MICE] Starting imputation round 6/110, elapsed time 0.007\n",
      "[MICE] Starting imputation round 7/110, elapsed time 0.008\n",
      "[MICE] Starting imputation round 8/110, elapsed time 0.009\n",
      "[MICE] Starting imputation round 9/110, elapsed time 0.010\n",
      "[MICE] Starting imputation round 10/110, elapsed time 0.011\n",
      "[MICE] Starting imputation round 11/110, elapsed time 0.012\n",
      "[MICE] Starting imputation round 12/110, elapsed time 0.014\n",
      "[MICE] Starting imputation round 13/110, elapsed time 0.015\n",
      "[MICE] Starting imputation round 14/110, elapsed time 0.016\n",
      "[MICE] Starting imputation round 15/110, elapsed time 0.017\n",
      "[MICE] Starting imputation round 16/110, elapsed time 0.018\n",
      "[MICE] Starting imputation round 17/110, elapsed time 0.019\n",
      "[MICE] Starting imputation round 18/110, elapsed time 0.021\n",
      "[MICE] Starting imputation round 19/110, elapsed time 0.022\n",
      "[MICE] Starting imputation round 20/110, elapsed time 0.024\n",
      "[MICE] Starting imputation round 21/110, elapsed time 0.025\n",
      "[MICE] Starting imputation round 22/110, elapsed time 0.027\n",
      "[MICE] Starting imputation round 23/110, elapsed time 0.029\n",
      "[MICE] Starting imputation round 24/110, elapsed time 0.030\n",
      "[MICE] Starting imputation round 25/110, elapsed time 0.031\n",
      "[MICE] Starting imputation round 26/110, elapsed time 0.033\n",
      "[MICE] Starting imputation round 27/110, elapsed time 0.034\n",
      "[MICE] Starting imputation round 28/110, elapsed time 0.035\n",
      "[MICE] Starting imputation round 29/110, elapsed time 0.037\n",
      "[MICE] Starting imputation round 30/110, elapsed time 0.038\n",
      "[MICE] Starting imputation round 31/110, elapsed time 0.040\n",
      "[MICE] Starting imputation round 32/110, elapsed time 0.041\n",
      "[MICE] Starting imputation round 33/110, elapsed time 0.042\n",
      "[MICE] Starting imputation round 34/110, elapsed time 0.044\n",
      "[MICE] Starting imputation round 35/110, elapsed time 0.045\n",
      "[MICE] Starting imputation round 36/110, elapsed time 0.046\n",
      "[MICE] Starting imputation round 37/110, elapsed time 0.047\n",
      "[MICE] Starting imputation round 38/110, elapsed time 0.049\n",
      "[MICE] Starting imputation round 39/110, elapsed time 0.050\n",
      "[MICE] Starting imputation round 40/110, elapsed time 0.051\n",
      "[MICE] Starting imputation round 41/110, elapsed time 0.053\n",
      "[MICE] Starting imputation round 42/110, elapsed time 0.054\n",
      "[MICE] Starting imputation round 43/110, elapsed time 0.055\n",
      "[MICE] Starting imputation round 44/110, elapsed time 0.057\n",
      "[MICE] Starting imputation round 45/110, elapsed time 0.058\n",
      "[MICE] Starting imputation round 46/110, elapsed time 0.059\n",
      "[MICE] Starting imputation round 47/110, elapsed time 0.061\n",
      "[MICE] Starting imputation round 48/110, elapsed time 0.062\n",
      "[MICE] Starting imputation round 49/110, elapsed time 0.063\n",
      "[MICE] Starting imputation round 50/110, elapsed time 0.064\n",
      "[MICE] Starting imputation round 51/110, elapsed time 0.065\n",
      "[MICE] Starting imputation round 52/110, elapsed time 0.066\n",
      "[MICE] Starting imputation round 53/110, elapsed time 0.067\n",
      "[MICE] Starting imputation round 54/110, elapsed time 0.068\n",
      "[MICE] Starting imputation round 55/110, elapsed time 0.070\n",
      "[MICE] Starting imputation round 56/110, elapsed time 0.072\n",
      "[MICE] Starting imputation round 57/110, elapsed time 0.073\n",
      "[MICE] Starting imputation round 58/110, elapsed time 0.074\n",
      "[MICE] Starting imputation round 59/110, elapsed time 0.076\n",
      "[MICE] Starting imputation round 60/110, elapsed time 0.077\n",
      "[MICE] Starting imputation round 61/110, elapsed time 0.079\n",
      "[MICE] Starting imputation round 62/110, elapsed time 0.080\n",
      "[MICE] Starting imputation round 63/110, elapsed time 0.081\n",
      "[MICE] Starting imputation round 64/110, elapsed time 0.082\n",
      "[MICE] Starting imputation round 65/110, elapsed time 0.083\n",
      "[MICE] Starting imputation round 66/110, elapsed time 0.085\n",
      "[MICE] Starting imputation round 67/110, elapsed time 0.086\n",
      "[MICE] Starting imputation round 68/110, elapsed time 0.087\n",
      "[MICE] Starting imputation round 69/110, elapsed time 0.088\n",
      "[MICE] Starting imputation round 70/110, elapsed time 0.089\n",
      "[MICE] Starting imputation round 71/110, elapsed time 0.090\n",
      "[MICE] Starting imputation round 72/110, elapsed time 0.093\n",
      "[MICE] Starting imputation round 73/110, elapsed time 0.094\n",
      "[MICE] Starting imputation round 74/110, elapsed time 0.096\n",
      "[MICE] Starting imputation round 75/110, elapsed time 0.098\n",
      "[MICE] Starting imputation round 76/110, elapsed time 0.099\n",
      "[MICE] Starting imputation round 77/110, elapsed time 0.100\n",
      "[MICE] Starting imputation round 78/110, elapsed time 0.101\n",
      "[MICE] Starting imputation round 79/110, elapsed time 0.102\n",
      "[MICE] Starting imputation round 80/110, elapsed time 0.103\n",
      "[MICE] Starting imputation round 81/110, elapsed time 0.104\n",
      "[MICE] Starting imputation round 82/110, elapsed time 0.105\n",
      "[MICE] Starting imputation round 83/110, elapsed time 0.106\n",
      "[MICE] Starting imputation round 84/110, elapsed time 0.107\n",
      "[MICE] Starting imputation round 85/110, elapsed time 0.108\n",
      "[MICE] Starting imputation round 86/110, elapsed time 0.109\n",
      "[MICE] Starting imputation round 87/110, elapsed time 0.110\n",
      "[MICE] Starting imputation round 88/110, elapsed time 0.112\n",
      "[MICE] Starting imputation round 89/110, elapsed time 0.113\n",
      "[MICE] Starting imputation round 90/110, elapsed time 0.114\n",
      "[MICE] Starting imputation round 91/110, elapsed time 0.115\n",
      "[MICE] Starting imputation round 92/110, elapsed time 0.116\n",
      "[MICE] Starting imputation round 93/110, elapsed time 0.117\n",
      "[MICE] Starting imputation round 94/110, elapsed time 0.118\n",
      "[MICE] Starting imputation round 95/110, elapsed time 0.119\n",
      "[MICE] Starting imputation round 96/110, elapsed time 0.120\n",
      "[MICE] Starting imputation round 97/110, elapsed time 0.121\n",
      "[MICE] Starting imputation round 98/110, elapsed time 0.122\n",
      "[MICE] Starting imputation round 99/110, elapsed time 0.123\n",
      "[MICE] Starting imputation round 100/110, elapsed time 0.125\n",
      "[MICE] Starting imputation round 101/110, elapsed time 0.126\n",
      "[MICE] Starting imputation round 102/110, elapsed time 0.127\n",
      "[MICE] Starting imputation round 103/110, elapsed time 0.128\n",
      "[MICE] Starting imputation round 104/110, elapsed time 0.129\n",
      "[MICE] Starting imputation round 105/110, elapsed time 0.130\n",
      "[MICE] Starting imputation round 106/110, elapsed time 0.131\n",
      "[MICE] Starting imputation round 107/110, elapsed time 0.132\n",
      "[MICE] Starting imputation round 108/110, elapsed time 0.133\n",
      "[MICE] Starting imputation round 109/110, elapsed time 0.134\n",
      "[MICE] Starting imputation round 110/110, elapsed time 0.135\n"
     ]
    }
   ],
   "source": [
    "# download data and scrub\n",
    "\n",
    "url = 'https://github.com/GinoWoz1/AdvancedHousePrices/raw/master/'\n",
    " \n",
    "df_train = pd.read_csv(url + 'train.csv')\n",
    "df_test = pd.read_csv(url +'test.csv')\n",
    "df_train.columns.to_series().groupby(df_train.dtypes).groups\n",
    "\n",
    "# Split data set into test and train\n",
    "ntrain = df_train.shape[0]\n",
    "ntest = df_test.shape[0]\n",
    "y_train = df_train.SalePrice.values\n",
    "all_data = pd.concat((df_train, df_test)).reset_index(drop=True)\n",
    "all_data.drop(['SalePrice'], axis=1, inplace=True)\n",
    "\n",
    "\n",
    "# fill in missing data\n",
    "\n",
    "all_data['PoolQC'] = all_data['PoolQC'].fillna(\"None\")\n",
    "all_data[\"MiscFeature\"] = all_data[\"MiscFeature\"].fillna(\"None\")\n",
    "all_data[\"Alley\"] = all_data[\"Alley\"].fillna(\"None\")\n",
    "all_data[\"Fence\"] = all_data[\"Fence\"].fillna(\"None\")\n",
    "all_data[\"FireplaceQu\"] = all_data[\"FireplaceQu\"].fillna(\"None\")\n",
    "\n",
    "#fill in missing data for garage, basement and mason area\n",
    "\n",
    "for col in ('GarageType', 'GarageFinish', 'GarageQual', 'GarageCond'):\n",
    "    all_data[col] = all_data[col].fillna('None')\n",
    "\n",
    "for col in ( 'GarageArea', 'GarageCars'):\n",
    "    all_data[col] = all_data[col].fillna(0)\n",
    "    \n",
    "for col in ('BsmtQual', 'BsmtCond', 'BsmtExposure', 'BsmtFinType1', 'BsmtFinType2'):\n",
    "    all_data[col] = all_data[col].fillna('None')\n",
    "    \n",
    "for col in ('BsmtHalfBath', 'BsmtFullBath', 'TotalBsmtSF', 'BsmtUnfSF', 'BsmtFinSF1','BsmtFinSF2'):\n",
    "    all_data[col] = all_data[col].fillna(0)\n",
    "\n",
    "\n",
    "all_data[\"MasVnrType\"] = all_data[\"MasVnrType\"].fillna(\"None\")\n",
    "all_data[\"MasVnrArea\"] = all_data[\"MasVnrArea\"].fillna(0)\n",
    "all_data[\"GarageYrBlt\"] = all_data.groupby(\"Neighborhood\")[\"GarageYrBlt\"].transform( lambda x: x.fillna(x.mean()))\n",
    "\n",
    "# fill in MSzoning values based on knowlege of data\n",
    "    \n",
    "all_data.loc[2216,'MSZoning'] = 'RM'\n",
    "all_data.loc[2904,'MSZoning'] = 'RM'\n",
    "all_data.loc[1915,'MSZoning'] = 'RM'\n",
    "all_data.loc[2250,'MSZoning'] = 'RM'\n",
    "all_data.loc[1915,'Utilities'] = 'AllPub'\n",
    "all_data.loc[1945,'Utilities'] = 'AllPub'\n",
    "all_data.loc[2473,'Functional'] = 'Typ'\n",
    "all_data.loc[2216,'Functional'] = 'Typ'\n",
    "all_data.loc[2489,'SaleType'] = 'WD'\n",
    "all_data.loc[2151,'Exterior1st'] = 'Plywood'\n",
    "all_data.loc[2151,'Exterior2nd'] = 'Plywood'\n",
    "all_data.loc[1379,'Electrical'] = 'SBrkr'\n",
    "\n",
    "all_data['MSSubClass'] = all_data['MSSubClass'].apply(str)\n",
    "\n",
    "# analyze which neighborhoods have null data\n",
    "\n",
    "all_data[pd.isna(all_data['LotFrontage'])].groupby(\"Neighborhood\").size().sort_values(ascending = False)\n",
    "\n",
    "# evaluation metrics and model vetting function\n",
    "\n",
    "train = all_data[:ntrain]\n",
    "test = all_data[ntrain:]\n",
    "y_train = df_train.SalePrice\n",
    "\n",
    "numeric_data_train = train.select_dtypes(include = ['float64','int64'])\n",
    "solver=MICE()\n",
    "Imputed_dataframe_train= pd.DataFrame(data = solver.complete(numeric_data_train),columns = numeric_data_train.columns,index = numeric_data_train.index)\n",
    "numeric_data_test = test.select_dtypes(include = ['float64','int64'])\n",
    "solver=MICE()\n",
    "Imputed_dataframe_test= pd.DataFrame(data = solver.complete(numeric_data_test),columns = numeric_data_test.columns,index = numeric_data_test.index)\n",
    "\n",
    "train['LotFrontage'] = Imputed_dataframe_train['LotFrontage']\n",
    "test['LotFrontage'] = Imputed_dataframe_test['LotFrontage']\n",
    "\n",
    "X_train= pd.get_dummies(train,drop_first=True)\n",
    "X_test = pd.get_dummies(test,drop_first=True)"
   ]
  },
  {
   "cell_type": "code",
   "execution_count": 3,
   "metadata": {
    "scrolled": true
   },
   "outputs": [],
   "source": [
    "# get dummies, select columns with above 0 mutual information\n",
    "\n",
    "X_train= pd.get_dummies(train,drop_first=True)\n",
    "X_test = pd.get_dummies(test,drop_first=True)\n",
    "\n",
    "X_train = X_train[['OverallQual'\t,'GarageCars'\t,'TotalBsmtSF'\t,'GrLivArea'\t,'GarageArea'\t,'FullBath'\t,'YearBuilt'\t,'GarageYrBlt'\t,'ExterQual_TA'\t,'1stFlrSF'\t,'KitchenQual_TA'\t,'LotFrontage'\t,'ExterQual_Gd'\t,'Foundation_PConc'\t,'TotRmsAbvGrd'\t,'KitchenQual_Gd'\t,'YearRemodAdd'\t,'BsmtQual_Gd'\t,'Fireplaces'\t,'BsmtFinSF1'\t,'BsmtQual_TA'\t,'FireplaceQu_None'\t,'GarageFinish_Unf'\t,'GarageType_Attchd'\t,'BsmtUnfSF'\t,'GarageType_Detchd'\t,'MSSubClass_60'\t,'2ndFlrSF'\t,'OverallCond'\t,'BsmtFinType1_GLQ'\t,'Foundation_CBlock'\t,'Exterior1st_VinylSd'\t,'LotShape_Reg'\t,'MSSubClass_30'\t,'HeatingQC_TA'\t,'LotArea'\t,'MasVnrArea'\t,'MasVnrType_None'\t,'Neighborhood_NAmes'\t,'MSZoning_RM'\t,'CentralAir_Y'\t,'SaleCondition_Partial'\t,'GarageQual_None'\t,'HalfBath'\t,'GarageFinish_RFn'\t,'FireplaceQu_Gd'\t,'Neighborhood_NridgHt'\t,'GarageQual_TA'\t,'HouseStyle_2Story'\t,'FireplaceQu_TA'\t,'WoodDeckSF'\t,'PavedDrive_Y'\t,'GarageCond_TA'\t,'Neighborhood_NoRidge'\t,'MSZoning_RL'\t,'SaleType_WD'\t,'BedroomAbvGr'\t,'Electrical_SBrkr'\t,'MasVnrType_Stone'\t,'Neighborhood_Somerst'\t,'Neighborhood_CollgCr'\t,'OpenPorchSF'\t,'PoolQC_None'\t,'BsmtExposure_Gd'\t,'Neighborhood_Gilbert'\t,'Street_Pave'\t,'Neighborhood_OldTown'\t,'KitchenAbvGr'\t,'BsmtExposure_No'\t,'YrSold'\t,'Fence_MnPrv'\t,'MSZoning_FV'\t,'MasVnrType_BrkFace'\t,'Neighborhood_MeadowV'\t,'Exterior1st_Wd Sdng'\t,'EnclosedPorch'\t,'BsmtCond_Gd'\t,'Exterior2nd_Wd Sdng'\t,'KitchenQual_Fa'\t,'BsmtFinType1_Rec'\t,'BsmtFinSF2'\t,'MSSubClass_160'\t,'Exterior1st_CemntBd'\t,'Neighborhood_ClearCr'\t,'Neighborhood_BrkSide'\t,'RoofStyle_Hip'\t,'Neighborhood_IDOTRR'\t,'GarageType_BuiltIn'\t,'MSSubClass_50'\t,'Neighborhood_StoneBr'\t,'HeatingQC_Gd'\t,'Neighborhood_Sawyer'\t,'PavedDrive_P'\t,'Fence_None'\t,'HouseStyle_SFoyer'\t,'GarageCond_Fa'\t,'SaleCondition_Normal'\t,'MSSubClass_45'\t,'Functional_Typ'\t,'LotConfig_Inside'\t,'Exterior1st_MetalSd'\t,'Electrical_FuseF'\t,'Exterior1st_HdBoard'\t,'BsmtQual_Fa'\t,'HeatingQC_Fa'\t,'Exterior2nd_Plywood'\t,'ExterCond_TA'\t,'BldgType_Duplex'\t,'LotConfig_CulDSac'\t,'Alley_None'\t,'LotShape_IR2'\t,'Neighborhood_Edwards'\t,'BsmtFinType2_BLQ'\t,'RoofStyle_Gable'\t,'GarageCond_Po'\t,'Functional_Min2'\t,'LandSlope_Mod'\t,'ScreenPorch'\t,'ExterQual_Fa'\t,'Neighborhood_SawyerW'\t,'FireplaceQu_Po'\t,'LandContour_Lvl'\t,'MSSubClass_40'\t,'LandContour_HLS'\t,'RoofMatl_Tar&Grv'\t,'SaleType_ConLw'\t,'BsmtExposure_None'\t,'Neighborhood_BrDale'\t,'RoofStyle_Mansard'\t,'MiscVal'\t,'BldgType_TwnhsE'\t,'Alley_Pave'\t,'Exterior1st_WdShing'\t,'GarageType_CarPort'\t,'Fence_GdWo'\t,'Exterior1st_BrkFace'\t,'Condition2_Norm'\t,'BsmtFinType1_Unf'\t,'Heating_Grav'\t,'HouseStyle_SLvl'\t,'Foundation_Slab'\t,'BsmtExposure_Mn'\t,'MSSubClass_70'\t,'BsmtFinType2_Rec'\t,'Condition1_RRAe'\t,'Exterior2nd_BrkFace'\t,'HouseStyle_1.5Unf'\t,'Neighborhood_Mitchel'\t,'Electrical_FuseP'\t,'Neighborhood_NWAmes'\t,'MSSubClass_180'\t,'HouseStyle_2.5Unf'\t,'RoofStyle_Shed'\t,'BsmtFinType2_GLQ'\t,'LandSlope_Sev'\t,'MSSubClass_85'\t,'LotConfig_FR3'\t,'LotConfig_FR2'\t,'RoofMatl_WdShngl'\t,'BsmtHalfBath'\t,'Neighborhood_Blueste'\t,'Exterior1st_BrkComm'\t,'Neighborhood_Timber'\t,'Condition1_Norm'\t,'Neighborhood_SWISU'\t,'BldgType_2fmCon'\t,'Neighborhood_Veenker'\t,'Condition1_PosA'\t,'SaleCondition_Alloca'\t,'SaleType_ConLD'\t,'3SsnPorch'\t,'LotShape_IR3'\t,'Condition1_PosN'\t,'BsmtFinType1_LwQ'\t,'BsmtFinType1_BLQ'\t,'MSZoning_RH'\t,'Neighborhood_NPkVill'\t,'FireplaceQu_Fa']]\n",
    "X_test = X_test[['OverallQual'\t,'GarageCars'\t,'TotalBsmtSF'\t,'GrLivArea'\t,'GarageArea'\t,'FullBath'\t,'YearBuilt'\t,'GarageYrBlt'\t,'ExterQual_TA'\t,'1stFlrSF'\t,'KitchenQual_TA'\t,'LotFrontage'\t,'ExterQual_Gd'\t,'Foundation_PConc'\t,'TotRmsAbvGrd'\t,'KitchenQual_Gd'\t,'YearRemodAdd'\t,'BsmtQual_Gd'\t,'Fireplaces'\t,'BsmtFinSF1'\t,'BsmtQual_TA'\t,'FireplaceQu_None'\t,'GarageFinish_Unf'\t,'GarageType_Attchd'\t,'BsmtUnfSF'\t,'GarageType_Detchd'\t,'MSSubClass_60'\t,'2ndFlrSF'\t,'OverallCond'\t,'BsmtFinType1_GLQ'\t,'Foundation_CBlock'\t,'Exterior1st_VinylSd'\t,'LotShape_Reg'\t,'MSSubClass_30'\t,'HeatingQC_TA'\t,'LotArea'\t,'MasVnrArea'\t,'MasVnrType_None'\t,'Neighborhood_NAmes'\t,'MSZoning_RM'\t,'CentralAir_Y'\t,'SaleCondition_Partial'\t,'GarageQual_None'\t,'HalfBath'\t,'GarageFinish_RFn'\t,'FireplaceQu_Gd'\t,'Neighborhood_NridgHt'\t,'GarageQual_TA'\t,'HouseStyle_2Story'\t,'FireplaceQu_TA'\t,'WoodDeckSF'\t,'PavedDrive_Y'\t,'GarageCond_TA'\t,'Neighborhood_NoRidge'\t,'MSZoning_RL'\t,'SaleType_WD'\t,'BedroomAbvGr'\t,'Electrical_SBrkr'\t,'MasVnrType_Stone'\t,'Neighborhood_Somerst'\t,'Neighborhood_CollgCr'\t,'OpenPorchSF'\t,'PoolQC_None'\t,'BsmtExposure_Gd'\t,'Neighborhood_Gilbert'\t,'Street_Pave'\t,'Neighborhood_OldTown'\t,'KitchenAbvGr'\t,'BsmtExposure_No'\t,'YrSold'\t,'Fence_MnPrv'\t,'MSZoning_FV'\t,'MasVnrType_BrkFace'\t,'Neighborhood_MeadowV'\t,'Exterior1st_Wd Sdng'\t,'EnclosedPorch'\t,'BsmtCond_Gd'\t,'Exterior2nd_Wd Sdng'\t,'KitchenQual_Fa'\t,'BsmtFinType1_Rec'\t,'BsmtFinSF2'\t,'MSSubClass_160'\t,'Exterior1st_CemntBd'\t,'Neighborhood_ClearCr'\t,'Neighborhood_BrkSide'\t,'RoofStyle_Hip'\t,'Neighborhood_IDOTRR'\t,'GarageType_BuiltIn'\t,'MSSubClass_50'\t,'Neighborhood_StoneBr'\t,'HeatingQC_Gd'\t,'Neighborhood_Sawyer'\t,'PavedDrive_P'\t,'Fence_None'\t,'HouseStyle_SFoyer'\t,'GarageCond_Fa'\t,'SaleCondition_Normal'\t,'MSSubClass_45'\t,'Functional_Typ'\t,'LotConfig_Inside'\t,'Exterior1st_MetalSd'\t,'Electrical_FuseF'\t,'Exterior1st_HdBoard'\t,'BsmtQual_Fa'\t,'HeatingQC_Fa'\t,'Exterior2nd_Plywood'\t,'ExterCond_TA'\t,'BldgType_Duplex'\t,'LotConfig_CulDSac'\t,'Alley_None'\t,'LotShape_IR2'\t,'Neighborhood_Edwards'\t,'BsmtFinType2_BLQ'\t,'RoofStyle_Gable'\t,'GarageCond_Po'\t,'Functional_Min2'\t,'LandSlope_Mod'\t,'ScreenPorch'\t,'ExterQual_Fa'\t,'Neighborhood_SawyerW'\t,'FireplaceQu_Po'\t,'LandContour_Lvl'\t,'MSSubClass_40'\t,'LandContour_HLS'\t,'RoofMatl_Tar&Grv'\t,'SaleType_ConLw'\t,'BsmtExposure_None'\t,'Neighborhood_BrDale'\t,'RoofStyle_Mansard'\t,'MiscVal'\t,'BldgType_TwnhsE'\t,'Alley_Pave'\t,'Exterior1st_WdShing'\t,'GarageType_CarPort'\t,'Fence_GdWo'\t,'Exterior1st_BrkFace'\t,'Condition2_Norm'\t,'BsmtFinType1_Unf'\t,'Heating_Grav'\t,'HouseStyle_SLvl'\t,'Foundation_Slab'\t,'BsmtExposure_Mn'\t,'MSSubClass_70'\t,'BsmtFinType2_Rec'\t,'Condition1_RRAe'\t,'Exterior2nd_BrkFace'\t,'HouseStyle_1.5Unf'\t,'Neighborhood_Mitchel'\t,'Electrical_FuseP'\t,'Neighborhood_NWAmes'\t,'MSSubClass_180'\t,'HouseStyle_2.5Unf'\t,'RoofStyle_Shed'\t,'BsmtFinType2_GLQ'\t,'LandSlope_Sev'\t,'MSSubClass_85'\t,'LotConfig_FR3'\t,'LotConfig_FR2'\t,'RoofMatl_WdShngl'\t,'BsmtHalfBath'\t,'Neighborhood_Blueste'\t,'Exterior1st_BrkComm'\t,'Neighborhood_Timber'\t,'Condition1_Norm'\t,'Neighborhood_SWISU'\t,'BldgType_2fmCon'\t,'Neighborhood_Veenker'\t,'Condition1_PosA'\t,'SaleCondition_Alloca'\t,'SaleType_ConLD'\t,'3SsnPorch'\t,'LotShape_IR3'\t,'Condition1_PosN'\t,'BsmtFinType1_LwQ'\t,'BsmtFinType1_BLQ'\t,'MSZoning_RH'\t,'Neighborhood_NPkVill'\t,'FireplaceQu_Fa']]\n",
    "\n",
    "remove = ['BsmtQual_None','Exterior2nd_MetalSd','BsmtFinType1_None','MSSubClass_90','BsmtCond_None','BsmtEpoxsure_None','BsmtFinType2_None','GarageFinish_None','GarageCond_None','GarageType_None','MSSubClass_190','MSSubClass_80','Exterior2nd_CmentBd','SaleType_New','Exterior2nd_VinylSd']\n",
    "\n",
    "def drop_cols(dataframe,columns_remove):\n",
    "    cols =list(dataframe.columns.values)\n",
    "    for col in columns_remove:\n",
    "        for c in cols:\n",
    "            if c == col:\n",
    "                cols.remove(c)\n",
    "            elif c != col:\n",
    "                continue\n",
    "    dataframe = dataframe[cols]\n",
    "    return dataframe\n",
    "\n",
    "\n",
    "X_train = drop_cols(X_train,remove)\n",
    "X_test = drop_cols(X_test,remove)\n",
    "\n"
   ]
  },
  {
   "cell_type": "code",
   "execution_count": 12,
   "metadata": {},
   "outputs": [
    {
     "name": "stdout",
     "output_type": "stream",
     "text": [
      "population size: 500\n",
      "dtypes\t=\tNone\n",
      "names\t=\tNone\n",
      "normalize\t=\tTrue\n",
      "lex_size\t=\tFalse\n",
      "operators\t=\tNone\n",
      "weight_parents\t=\tTrue\n",
      "c\t=\tTrue\n",
      "otype\t=\tf\n",
      "mdr\t=\tFalse\n",
      "track_diversity\t=\tFalse\n",
      "clean\t=\tFalse\n",
      "classification\t=\tFalse\n",
      "boolean\t=\tFalse\n",
      "elitism\t=\tTrue\n",
      "disable_update_check\t=\tFalse\n",
      "scoring_function\t=\t<function rmsle_cv at 0x000000E35891FEA0>\n",
      "verbosity\t=\t2\n",
      "random_state\t=\tNone\n",
      "erc\t=\tFalse\n",
      "seed_with_ml\t=\tTrue\n",
      "max_stall\t=\t100\n",
      "op_weight\t=\tFalse\n",
      "fit_choice\t=\tNone\n",
      "tourn_size\t=\t2\n",
      "sel\t=\tepsilon_lexicase\n",
      "max_depth_init\t=\t2\n",
      "max_depth\t=\t2\n",
      "min_depth\t=\t1\n",
      "ml\t=\tRandomForestRegressor(bootstrap=True, criterion='mse', max_depth=None,\n",
      "           max_features='auto', max_leaf_nodes=None,\n",
      "           min_impurity_decrease=0.0, min_impurity_split=None,\n",
      "           min_samples_leaf=1, min_samples_split=2,\n",
      "           min_weight_fraction_leaf=0.0, n_estimators='warn', n_jobs=None,\n",
      "           oob_score=False, random_state=None, verbose=0, warm_start=False)\n",
      "crossover_rate\t=\t0.5\n",
      "mutation_rate\t=\t0.5\n",
      "generations\t=\t100\n",
      "population_size\t=\t500\n",
      "\n",
      "initial ML CV: -0.157\n"
     ]
    },
    {
     "name": "stderr",
     "output_type": "stream",
     "text": [
      "\n",
      "\n",
      "\n",
      "\n",
      "\n",
      "\n",
      "Internal CV: -0.157:   0%|                             | 0/100 [00:00<?, ?it/s]"
     ]
    },
    {
     "name": "stdout",
     "output_type": "stream",
     "text": [
      "generation 0\n",
      "median fitness pop: 39039147978.39\n",
      "best fitness pop: 14579773563.79\n",
      "ml fitting...\n",
      "current ml validation score: 0\n"
     ]
    },
    {
     "name": "stderr",
     "output_type": "stream",
     "text": [
      "\n",
      "\n",
      "\n",
      "\n",
      "\n",
      "\n",
      "Internal CV: -0.157:   0%|                             | 0/100 [00:00<?, ?it/s]\n",
      "\n",
      "\n",
      "\n",
      "\n",
      "\n",
      "Internal CV: -0.157:   1%|▏                    | 1/100 [00:00<00:29,  3.33it/s]"
     ]
    },
    {
     "name": "stdout",
     "output_type": "stream",
     "text": [
      "generation 1\n",
      "median fitness pop: 39038909340.11\n",
      "best fitness pop: 14579773563.79\n",
      "ml fitting...\n",
      "current ml validation score: 0\n"
     ]
    },
    {
     "name": "stderr",
     "output_type": "stream",
     "text": [
      "\n",
      "\n",
      "\n",
      "\n",
      "\n",
      "\n",
      "Internal CV: -0.157:   1%|▏                    | 1/100 [00:00<00:29,  3.33it/s]\n",
      "\n",
      "\n",
      "\n",
      "\n",
      "\n",
      "Internal CV: -0.157:   2%|▍                    | 2/100 [00:00<00:29,  3.36it/s]"
     ]
    },
    {
     "name": "stdout",
     "output_type": "stream",
     "text": [
      "generation 2\n",
      "median fitness pop: 39038873445.51\n",
      "best fitness pop: 14579773563.79\n",
      "ml fitting...\n",
      "current ml validation score: 0\n"
     ]
    },
    {
     "name": "stderr",
     "output_type": "stream",
     "text": [
      "\n",
      "\n",
      "\n",
      "\n",
      "\n",
      "\n",
      "Internal CV: -0.157:   2%|▍                    | 2/100 [00:00<00:29,  3.36it/s]\n",
      "\n",
      "\n",
      "\n",
      "\n",
      "\n",
      "Internal CV: -0.157:   3%|▋                    | 3/100 [00:00<00:28,  3.38it/s]"
     ]
    },
    {
     "name": "stdout",
     "output_type": "stream",
     "text": [
      "generation 3\n",
      "median fitness pop: 39038620351.91\n",
      "best fitness pop: 14579773563.79\n",
      "ml fitting...\n",
      "current ml validation score: 0\n"
     ]
    },
    {
     "name": "stderr",
     "output_type": "stream",
     "text": [
      "\n",
      "\n",
      "\n",
      "\n",
      "\n",
      "\n",
      "Internal CV: -0.157:   3%|▋                    | 3/100 [00:01<00:28,  3.38it/s]\n",
      "\n",
      "\n",
      "\n",
      "\n",
      "\n",
      "Internal CV: -0.157:   4%|▊                    | 4/100 [00:01<00:28,  3.42it/s]"
     ]
    },
    {
     "name": "stdout",
     "output_type": "stream",
     "text": [
      "generation 4\n",
      "median fitness pop: 39038327403.42\n",
      "best fitness pop: 14579773563.79\n",
      "ml fitting...\n",
      "current ml validation score: 0\n"
     ]
    },
    {
     "name": "stderr",
     "output_type": "stream",
     "text": [
      "\n",
      "\n",
      "\n",
      "\n",
      "\n",
      "\n",
      "Internal CV: -0.157:   4%|▊                    | 4/100 [00:01<00:28,  3.42it/s]\n",
      "\n",
      "\n",
      "\n",
      "\n",
      "\n",
      "Internal CV: -0.157:   5%|█                    | 5/100 [00:01<00:27,  3.45it/s]"
     ]
    },
    {
     "name": "stdout",
     "output_type": "stream",
     "text": [
      "generation 5\n",
      "median fitness pop: 39038159790.04\n",
      "best fitness pop: 14579773563.79\n",
      "ml fitting...\n",
      "current ml validation score: 0\n"
     ]
    },
    {
     "name": "stderr",
     "output_type": "stream",
     "text": [
      "\n",
      "\n",
      "\n",
      "\n",
      "\n",
      "\n",
      "Internal CV: -0.157:   5%|█                    | 5/100 [00:01<00:27,  3.45it/s]\n",
      "\n",
      "\n",
      "\n",
      "\n",
      "\n",
      "Internal CV: -0.157:   6%|█▎                   | 6/100 [00:01<00:27,  3.46it/s]"
     ]
    },
    {
     "name": "stdout",
     "output_type": "stream",
     "text": [
      "generation 6\n",
      "median fitness pop: 39037148073.97\n",
      "best fitness pop: 14579773563.79\n",
      "ml fitting...\n",
      "current ml validation score: 0\n"
     ]
    },
    {
     "name": "stderr",
     "output_type": "stream",
     "text": [
      "\n",
      "\n",
      "\n",
      "\n",
      "\n",
      "\n",
      "Internal CV: -0.157:   6%|█▎                   | 6/100 [00:02<00:27,  3.46it/s]\n",
      "\n",
      "\n",
      "\n",
      "\n",
      "\n",
      "Internal CV: -0.157:   7%|█▍                   | 7/100 [00:02<00:26,  3.47it/s]"
     ]
    },
    {
     "name": "stdout",
     "output_type": "stream",
     "text": [
      "generation 7\n",
      "median fitness pop: 39036521004.00\n",
      "best fitness pop: 14579773563.79\n",
      "ml fitting...\n",
      "current ml validation score: 0\n"
     ]
    },
    {
     "name": "stderr",
     "output_type": "stream",
     "text": [
      "\n",
      "\n",
      "\n",
      "\n",
      "\n",
      "\n",
      "Internal CV: -0.157:   7%|█▍                   | 7/100 [00:02<00:26,  3.47it/s]\n",
      "\n",
      "\n",
      "\n",
      "\n",
      "\n",
      "Internal CV: -0.157:   8%|█▋                   | 8/100 [00:02<00:26,  3.49it/s]"
     ]
    },
    {
     "name": "stdout",
     "output_type": "stream",
     "text": [
      "generation 8\n",
      "median fitness pop: 39034424262.64\n",
      "best fitness pop: 14579773563.79\n",
      "ml fitting...\n",
      "current ml validation score: 0\n"
     ]
    },
    {
     "name": "stderr",
     "output_type": "stream",
     "text": [
      "\n",
      "\n",
      "\n",
      "\n",
      "\n",
      "\n",
      "Internal CV: -0.157:   8%|█▋                   | 8/100 [00:02<00:26,  3.49it/s]\n",
      "\n",
      "\n",
      "\n",
      "\n",
      "\n",
      "Internal CV: -0.157:   9%|█▉                   | 9/100 [00:02<00:25,  3.51it/s]"
     ]
    },
    {
     "name": "stdout",
     "output_type": "stream",
     "text": [
      "generation 9\n",
      "median fitness pop: 39032077426.85\n",
      "best fitness pop: 14579773563.79\n",
      "ml fitting...\n",
      "current ml validation score: 0\n"
     ]
    },
    {
     "name": "stderr",
     "output_type": "stream",
     "text": [
      "\n",
      "\n",
      "\n",
      "\n",
      "\n",
      "\n",
      "Internal CV: -0.157:   9%|█▉                   | 9/100 [00:02<00:25,  3.51it/s]\n",
      "\n",
      "\n",
      "\n",
      "\n",
      "\n",
      "Internal CV: -0.157:  10%|██                  | 10/100 [00:02<00:25,  3.52it/s]"
     ]
    },
    {
     "name": "stdout",
     "output_type": "stream",
     "text": [
      "generation 10\n",
      "median fitness pop: 39027139686.80\n",
      "best fitness pop: 14579773563.79\n",
      "ml fitting...\n",
      "current ml validation score: 0\n"
     ]
    },
    {
     "name": "stderr",
     "output_type": "stream",
     "text": [
      "\n",
      "\n",
      "\n",
      "\n",
      "\n",
      "\n",
      "Internal CV: -0.157:  10%|██                  | 10/100 [00:03<00:25,  3.52it/s]\n",
      "\n",
      "\n",
      "\n",
      "\n",
      "\n",
      "Internal CV: -0.157:  11%|██▏                 | 11/100 [00:03<00:25,  3.53it/s]"
     ]
    },
    {
     "name": "stdout",
     "output_type": "stream",
     "text": [
      "generation 11\n",
      "median fitness pop: 39023032793.87\n",
      "best fitness pop: 14579773563.79\n",
      "ml fitting...\n",
      "current ml validation score: 0\n"
     ]
    },
    {
     "name": "stderr",
     "output_type": "stream",
     "text": [
      "\n",
      "\n",
      "\n",
      "\n",
      "\n",
      "\n",
      "Internal CV: -0.157:  11%|██▏                 | 11/100 [00:03<00:25,  3.53it/s]\n",
      "\n",
      "\n",
      "\n",
      "\n",
      "\n",
      "Internal CV: -0.157:  12%|██▍                 | 12/100 [00:03<00:24,  3.54it/s]"
     ]
    },
    {
     "name": "stdout",
     "output_type": "stream",
     "text": [
      "generation 12\n",
      "median fitness pop: 39019895705.07\n",
      "best fitness pop: 14579773563.79\n",
      "ml fitting...\n",
      "current ml validation score: 0\n"
     ]
    },
    {
     "name": "stderr",
     "output_type": "stream",
     "text": [
      "\n",
      "\n",
      "\n",
      "\n",
      "\n",
      "\n",
      "Internal CV: -0.157:  12%|██▍                 | 12/100 [00:03<00:24,  3.54it/s]\n",
      "\n",
      "\n",
      "\n",
      "\n",
      "\n",
      "Internal CV: -0.157:  13%|██▌                 | 13/100 [00:03<00:24,  3.56it/s]"
     ]
    },
    {
     "name": "stdout",
     "output_type": "stream",
     "text": [
      "generation 13\n",
      "median fitness pop: 39015122650.27\n",
      "best fitness pop: 10309856121.22\n",
      "ml fitting...\n",
      "current ml validation score: 0\n"
     ]
    },
    {
     "name": "stderr",
     "output_type": "stream",
     "text": [
      "\n",
      "\n",
      "\n",
      "\n",
      "\n",
      "\n",
      "Internal CV: -0.157:  13%|██▌                 | 13/100 [00:03<00:24,  3.56it/s]\n",
      "\n",
      "\n",
      "\n",
      "\n",
      "\n",
      "Internal CV: -0.157:  14%|██▊                 | 14/100 [00:03<00:24,  3.57it/s]"
     ]
    },
    {
     "name": "stdout",
     "output_type": "stream",
     "text": [
      "generation 14\n",
      "median fitness pop: 39003908207.93\n",
      "best fitness pop: 10309856121.22\n",
      "ml fitting...\n",
      "current ml validation score: 0\n"
     ]
    },
    {
     "name": "stderr",
     "output_type": "stream",
     "text": [
      "\n",
      "\n",
      "\n",
      "\n",
      "\n",
      "\n",
      "Internal CV: -0.157:  14%|██▊                 | 14/100 [00:04<00:24,  3.57it/s]\n",
      "\n",
      "\n",
      "\n",
      "\n",
      "\n",
      "Internal CV: -0.157:  15%|███                 | 15/100 [00:04<00:23,  3.55it/s]"
     ]
    },
    {
     "name": "stdout",
     "output_type": "stream",
     "text": [
      "generation 15\n",
      "median fitness pop: 38998799551.20\n",
      "best fitness pop: 10309856121.22\n",
      "ml fitting...\n",
      "current ml validation score: 0\n"
     ]
    },
    {
     "name": "stderr",
     "output_type": "stream",
     "text": [
      "\n",
      "\n",
      "\n",
      "\n",
      "\n",
      "\n",
      "Internal CV: -0.157:  15%|███                 | 15/100 [00:04<00:23,  3.55it/s]\n",
      "\n",
      "\n",
      "\n",
      "\n",
      "\n",
      "Internal CV: -0.157:  16%|███▏                | 16/100 [00:04<00:23,  3.56it/s]"
     ]
    },
    {
     "name": "stdout",
     "output_type": "stream",
     "text": [
      "generation 16\n",
      "median fitness pop: 38988435566.40\n",
      "best fitness pop: 10309856121.22\n",
      "ml fitting...\n",
      "current ml validation score: 0\n"
     ]
    },
    {
     "name": "stderr",
     "output_type": "stream",
     "text": [
      "\n",
      "\n",
      "\n",
      "\n",
      "\n",
      "\n",
      "Internal CV: -0.157:  16%|███▏                | 16/100 [00:04<00:23,  3.56it/s]\n",
      "\n",
      "\n",
      "\n",
      "\n",
      "\n",
      "Internal CV: -0.157:  17%|███▍                | 17/100 [00:04<00:23,  3.57it/s]"
     ]
    },
    {
     "name": "stdout",
     "output_type": "stream",
     "text": [
      "generation 17\n",
      "median fitness pop: 38970740642.87\n",
      "best fitness pop: 10309856121.22\n",
      "ml fitting...\n",
      "current ml validation score: 0\n"
     ]
    },
    {
     "name": "stderr",
     "output_type": "stream",
     "text": [
      "\n",
      "\n",
      "\n",
      "\n",
      "\n",
      "\n",
      "Internal CV: -0.157:  17%|███▍                | 17/100 [00:05<00:23,  3.57it/s]\n",
      "\n",
      "\n",
      "\n",
      "\n",
      "\n",
      "Internal CV: -0.157:  18%|███▌                | 18/100 [00:05<00:23,  3.56it/s]"
     ]
    },
    {
     "name": "stdout",
     "output_type": "stream",
     "text": [
      "generation 18\n",
      "median fitness pop: 38909838382.90\n",
      "best fitness pop: 10309856121.22\n",
      "ml fitting...\n",
      "current ml validation score: 0\n"
     ]
    },
    {
     "name": "stderr",
     "output_type": "stream",
     "text": [
      "\n",
      "\n",
      "\n",
      "\n",
      "\n",
      "\n",
      "Internal CV: -0.157:  18%|███▌                | 18/100 [00:05<00:23,  3.56it/s]\n",
      "\n",
      "\n",
      "\n",
      "\n",
      "\n",
      "Internal CV: -0.157:  19%|███▊                | 19/100 [00:05<00:22,  3.58it/s]"
     ]
    },
    {
     "name": "stdout",
     "output_type": "stream",
     "text": [
      "generation 19\n",
      "median fitness pop: 38891884009.72\n",
      "best fitness pop: 10309856121.22\n",
      "ml fitting...\n",
      "current ml validation score: 0\n"
     ]
    },
    {
     "name": "stderr",
     "output_type": "stream",
     "text": [
      "\n",
      "\n",
      "\n",
      "\n",
      "\n",
      "\n",
      "Internal CV: -0.157:  19%|███▊                | 19/100 [00:05<00:22,  3.58it/s]\n",
      "\n",
      "\n",
      "\n",
      "\n",
      "\n",
      "Internal CV: -0.157:  20%|████                | 20/100 [00:05<00:22,  3.59it/s]"
     ]
    },
    {
     "name": "stdout",
     "output_type": "stream",
     "text": [
      "generation 20\n",
      "median fitness pop: 38891562300.19\n",
      "best fitness pop: 10309856121.22\n",
      "ml fitting...\n",
      "current ml validation score: 0\n"
     ]
    },
    {
     "name": "stderr",
     "output_type": "stream",
     "text": [
      "\n",
      "\n",
      "\n",
      "\n",
      "\n",
      "\n",
      "Internal CV: -0.157:  20%|████                | 20/100 [00:05<00:22,  3.59it/s]\n",
      "\n",
      "\n",
      "\n",
      "\n",
      "\n",
      "Internal CV: -0.157:  21%|████▏               | 21/100 [00:05<00:22,  3.59it/s]"
     ]
    },
    {
     "name": "stdout",
     "output_type": "stream",
     "text": [
      "generation 21\n",
      "median fitness pop: 38851162624.47\n",
      "best fitness pop: 10309856121.22\n",
      "ml fitting...\n",
      "current ml validation score: 0\n"
     ]
    },
    {
     "name": "stderr",
     "output_type": "stream",
     "text": [
      "\n",
      "\n",
      "\n",
      "\n",
      "\n",
      "\n",
      "Internal CV: -0.157:  21%|████▏               | 21/100 [00:06<00:22,  3.59it/s]\n",
      "\n",
      "\n",
      "\n",
      "\n",
      "\n",
      "Internal CV: -0.157:  22%|████▍               | 22/100 [00:06<00:21,  3.59it/s]"
     ]
    },
    {
     "name": "stdout",
     "output_type": "stream",
     "text": [
      "generation 22\n",
      "median fitness pop: 38847229135.72\n",
      "best fitness pop: 10309856121.22\n",
      "ml fitting...\n",
      "current ml validation score: 0\n"
     ]
    },
    {
     "name": "stderr",
     "output_type": "stream",
     "text": [
      "\n",
      "\n",
      "\n",
      "\n",
      "\n",
      "\n",
      "Internal CV: -0.157:  22%|████▍               | 22/100 [00:06<00:21,  3.59it/s]\n",
      "\n",
      "\n",
      "\n",
      "\n",
      "\n",
      "Internal CV: -0.157:  23%|████▌               | 23/100 [00:06<00:21,  3.59it/s]"
     ]
    },
    {
     "name": "stdout",
     "output_type": "stream",
     "text": [
      "generation 23\n",
      "median fitness pop: 38837749515.36\n",
      "best fitness pop: 10309856121.22\n",
      "ml fitting...\n",
      "current ml validation score: 0\n"
     ]
    },
    {
     "name": "stderr",
     "output_type": "stream",
     "text": [
      "\n",
      "\n",
      "\n",
      "\n",
      "\n",
      "\n",
      "Internal CV: -0.157:  23%|████▌               | 23/100 [00:06<00:21,  3.59it/s]\n",
      "\n",
      "\n",
      "\n",
      "\n",
      "\n",
      "Internal CV: -0.157:  24%|████▊               | 24/100 [00:06<00:21,  3.58it/s]"
     ]
    },
    {
     "name": "stdout",
     "output_type": "stream",
     "text": [
      "generation 24\n",
      "median fitness pop: 38819485541.30\n",
      "best fitness pop: 10309856121.22\n",
      "ml fitting...\n",
      "current ml validation score: 0\n"
     ]
    },
    {
     "name": "stderr",
     "output_type": "stream",
     "text": [
      "\n",
      "\n",
      "\n",
      "\n",
      "\n",
      "\n",
      "Internal CV: -0.157:  24%|████▊               | 24/100 [00:07<00:21,  3.58it/s]\n",
      "\n",
      "\n",
      "\n",
      "\n",
      "\n",
      "Internal CV: -0.157:  25%|█████               | 25/100 [00:07<00:21,  3.56it/s]"
     ]
    },
    {
     "name": "stdout",
     "output_type": "stream",
     "text": [
      "generation 25\n",
      "median fitness pop: 38819246075.74\n",
      "best fitness pop: 10309856121.22\n",
      "ml fitting...\n",
      "current ml validation score: 0\n"
     ]
    },
    {
     "name": "stderr",
     "output_type": "stream",
     "text": [
      "\n",
      "\n",
      "\n",
      "\n",
      "\n",
      "\n",
      "Internal CV: -0.157:  25%|█████               | 25/100 [00:07<00:21,  3.56it/s]\n",
      "\n",
      "\n",
      "\n",
      "\n",
      "\n",
      "Internal CV: -0.157:  26%|█████▏              | 26/100 [00:07<00:20,  3.53it/s]"
     ]
    },
    {
     "name": "stdout",
     "output_type": "stream",
     "text": [
      "generation 26\n",
      "median fitness pop: 38814236875.91\n",
      "best fitness pop: 10309856121.22\n",
      "ml fitting...\n",
      "current ml validation score: 0\n"
     ]
    },
    {
     "name": "stderr",
     "output_type": "stream",
     "text": [
      "\n",
      "\n",
      "\n",
      "\n",
      "\n",
      "\n",
      "Internal CV: -0.157:  26%|█████▏              | 26/100 [00:07<00:20,  3.53it/s]\n",
      "\n",
      "\n",
      "\n",
      "\n",
      "\n",
      "Internal CV: -0.157:  27%|█████▍              | 27/100 [00:07<00:20,  3.48it/s]"
     ]
    },
    {
     "name": "stdout",
     "output_type": "stream",
     "text": [
      "generation 27\n",
      "median fitness pop: 38739454036.28\n",
      "best fitness pop: 10309856121.22\n",
      "ml fitting...\n",
      "current ml validation score: 0\n"
     ]
    },
    {
     "name": "stderr",
     "output_type": "stream",
     "text": [
      "\n",
      "\n",
      "\n",
      "\n",
      "\n",
      "\n",
      "Internal CV: -0.157:  27%|█████▍              | 27/100 [00:08<00:20,  3.48it/s]\n",
      "\n",
      "\n",
      "\n",
      "\n",
      "\n",
      "Internal CV: -0.157:  28%|█████▌              | 28/100 [00:08<00:22,  3.19it/s]"
     ]
    },
    {
     "name": "stdout",
     "output_type": "stream",
     "text": [
      "generation 28\n",
      "median fitness pop: 38733890886.53\n",
      "best fitness pop: 10309856121.22\n",
      "ml fitting...\n",
      "current ml validation score: 0\n"
     ]
    },
    {
     "name": "stderr",
     "output_type": "stream",
     "text": [
      "\n",
      "\n",
      "\n",
      "\n",
      "\n",
      "\n",
      "Internal CV: -0.157:  28%|█████▌              | 28/100 [00:08<00:22,  3.19it/s]\n",
      "\n",
      "\n",
      "\n",
      "\n",
      "\n",
      "Internal CV: -0.157:  29%|█████▊              | 29/100 [00:08<00:21,  3.28it/s]"
     ]
    },
    {
     "name": "stdout",
     "output_type": "stream",
     "text": [
      "generation 29\n",
      "median fitness pop: 38697769719.13\n",
      "best fitness pop: 10309856121.22\n",
      "ml fitting...\n",
      "current ml validation score: 0\n"
     ]
    },
    {
     "name": "stderr",
     "output_type": "stream",
     "text": [
      "\n",
      "\n",
      "\n",
      "\n",
      "\n",
      "\n",
      "Internal CV: -0.157:  29%|█████▊              | 29/100 [00:08<00:21,  3.28it/s]\n",
      "\n",
      "\n",
      "\n",
      "\n",
      "\n",
      "Internal CV: -0.157:  30%|██████              | 30/100 [00:08<00:20,  3.35it/s]"
     ]
    },
    {
     "name": "stdout",
     "output_type": "stream",
     "text": [
      "generation 30\n",
      "median fitness pop: 38646244356.49\n",
      "best fitness pop: 10309856121.22\n",
      "ml fitting...\n",
      "current ml validation score: 0\n"
     ]
    },
    {
     "name": "stderr",
     "output_type": "stream",
     "text": [
      "\n",
      "\n",
      "\n",
      "\n",
      "\n",
      "\n",
      "Internal CV: -0.157:  30%|██████              | 30/100 [00:08<00:20,  3.35it/s]\n",
      "\n",
      "\n",
      "\n",
      "\n",
      "\n",
      "Internal CV: -0.157:  31%|██████▏             | 31/100 [00:08<00:20,  3.38it/s]"
     ]
    },
    {
     "name": "stdout",
     "output_type": "stream",
     "text": [
      "generation 31\n",
      "median fitness pop: 38615240938.85\n",
      "best fitness pop: 10309856121.22\n",
      "ml fitting...\n",
      "current ml validation score: 0\n"
     ]
    },
    {
     "name": "stderr",
     "output_type": "stream",
     "text": [
      "\n",
      "\n",
      "\n",
      "\n",
      "\n",
      "\n",
      "Internal CV: -0.157:  31%|██████▏             | 31/100 [00:09<00:20,  3.38it/s]\n",
      "\n",
      "\n",
      "\n",
      "\n",
      "\n",
      "Internal CV: -0.157:  32%|██████▍             | 32/100 [00:09<00:19,  3.42it/s]"
     ]
    },
    {
     "name": "stdout",
     "output_type": "stream",
     "text": [
      "generation 32\n",
      "median fitness pop: 38615215853.53\n",
      "best fitness pop: 10309856121.22\n",
      "ml fitting...\n",
      "current ml validation score: 0\n"
     ]
    },
    {
     "name": "stderr",
     "output_type": "stream",
     "text": [
      "\n",
      "\n",
      "\n",
      "\n",
      "\n",
      "\n",
      "Internal CV: -0.157:  32%|██████▍             | 32/100 [00:09<00:19,  3.42it/s]\n",
      "\n",
      "\n",
      "\n",
      "\n",
      "\n",
      "Internal CV: -0.157:  33%|██████▌             | 33/100 [00:09<00:19,  3.45it/s]"
     ]
    },
    {
     "name": "stdout",
     "output_type": "stream",
     "text": [
      "generation 33\n",
      "median fitness pop: 38615037075.70\n",
      "best fitness pop: 10309856121.22\n",
      "ml fitting...\n",
      "current ml validation score: 0\n"
     ]
    },
    {
     "name": "stderr",
     "output_type": "stream",
     "text": [
      "\n",
      "\n",
      "\n",
      "\n",
      "\n",
      "\n",
      "Internal CV: -0.157:  33%|██████▌             | 33/100 [00:09<00:19,  3.45it/s]\n",
      "\n",
      "\n",
      "\n",
      "\n",
      "\n",
      "Internal CV: -0.157:  34%|██████▊             | 34/100 [00:09<00:19,  3.46it/s]"
     ]
    },
    {
     "name": "stdout",
     "output_type": "stream",
     "text": [
      "generation 34\n",
      "median fitness pop: 38611985035.71\n",
      "best fitness pop: 10309856121.22\n",
      "ml fitting...\n",
      "current ml validation score: 0\n"
     ]
    },
    {
     "name": "stderr",
     "output_type": "stream",
     "text": [
      "\n",
      "\n",
      "\n",
      "\n",
      "\n",
      "\n",
      "Internal CV: -0.157:  34%|██████▊             | 34/100 [00:10<00:19,  3.46it/s]\n",
      "\n",
      "\n",
      "\n",
      "\n",
      "\n",
      "Internal CV: -0.157:  35%|███████             | 35/100 [00:10<00:18,  3.44it/s]"
     ]
    },
    {
     "name": "stdout",
     "output_type": "stream",
     "text": [
      "generation 35\n",
      "median fitness pop: 38582902740.09\n",
      "best fitness pop: 10309856121.22\n",
      "ml fitting...\n",
      "current ml validation score: 0\n"
     ]
    },
    {
     "name": "stderr",
     "output_type": "stream",
     "text": [
      "\n",
      "\n",
      "\n",
      "\n",
      "\n",
      "\n",
      "Internal CV: -0.157:  35%|███████             | 35/100 [00:10<00:18,  3.44it/s]\n",
      "\n",
      "\n",
      "\n",
      "\n",
      "\n",
      "Internal CV: -0.157:  36%|███████▏            | 36/100 [00:10<00:18,  3.44it/s]"
     ]
    },
    {
     "name": "stdout",
     "output_type": "stream",
     "text": [
      "generation 36\n",
      "median fitness pop: 38582790015.07\n",
      "best fitness pop: 10309856121.22\n",
      "ml fitting...\n",
      "current ml validation score: 0\n"
     ]
    },
    {
     "name": "stderr",
     "output_type": "stream",
     "text": [
      "\n",
      "\n",
      "\n",
      "\n",
      "\n",
      "\n",
      "Internal CV: -0.157:  36%|███████▏            | 36/100 [00:10<00:18,  3.44it/s]\n",
      "\n",
      "\n",
      "\n",
      "\n",
      "\n",
      "Internal CV: -0.157:  37%|███████▍            | 37/100 [00:10<00:18,  3.42it/s]"
     ]
    },
    {
     "name": "stdout",
     "output_type": "stream",
     "text": [
      "generation 37\n",
      "median fitness pop: 38533605401.78\n",
      "best fitness pop: 10309856121.22\n",
      "ml fitting...\n",
      "current ml validation score: 0\n"
     ]
    },
    {
     "name": "stderr",
     "output_type": "stream",
     "text": [
      "\n",
      "\n",
      "\n",
      "\n",
      "\n",
      "\n",
      "Internal CV: -0.157:  37%|███████▍            | 37/100 [00:10<00:18,  3.42it/s]\n",
      "\n",
      "\n",
      "\n",
      "\n",
      "\n",
      "Internal CV: -0.157:  38%|███████▌            | 38/100 [00:10<00:18,  3.40it/s]"
     ]
    },
    {
     "name": "stdout",
     "output_type": "stream",
     "text": [
      "generation 38\n",
      "median fitness pop: 38492750421.09\n",
      "best fitness pop: 10309856121.22\n",
      "ml fitting...\n",
      "current ml validation score: 0\n"
     ]
    },
    {
     "name": "stderr",
     "output_type": "stream",
     "text": [
      "\n",
      "\n",
      "\n",
      "\n",
      "\n",
      "\n",
      "Internal CV: -0.157:  38%|███████▌            | 38/100 [00:11<00:18,  3.40it/s]\n",
      "\n",
      "\n",
      "\n",
      "\n",
      "\n",
      "Internal CV: -0.157:  39%|███████▊            | 39/100 [00:11<00:17,  3.39it/s]"
     ]
    },
    {
     "name": "stdout",
     "output_type": "stream",
     "text": [
      "generation 39\n",
      "median fitness pop: 38434409459.31\n",
      "best fitness pop: 10309856121.22\n",
      "ml fitting...\n",
      "current ml validation score: 0\n"
     ]
    },
    {
     "name": "stderr",
     "output_type": "stream",
     "text": [
      "\n",
      "\n",
      "\n",
      "\n",
      "\n",
      "\n",
      "Internal CV: -0.157:  39%|███████▊            | 39/100 [00:11<00:17,  3.39it/s]\n",
      "\n",
      "\n",
      "\n",
      "\n",
      "\n",
      "Internal CV: -0.157:  40%|████████            | 40/100 [00:11<00:17,  3.42it/s]"
     ]
    },
    {
     "name": "stdout",
     "output_type": "stream",
     "text": [
      "generation 40\n",
      "median fitness pop: 38434357329.28\n",
      "best fitness pop: 10309856121.22\n",
      "ml fitting...\n",
      "current ml validation score: 0\n"
     ]
    },
    {
     "name": "stderr",
     "output_type": "stream",
     "text": [
      "\n",
      "\n",
      "\n",
      "\n",
      "\n",
      "\n",
      "Internal CV: -0.157:  40%|████████            | 40/100 [00:11<00:17,  3.42it/s]\n",
      "\n",
      "\n",
      "\n",
      "\n",
      "\n",
      "Internal CV: -0.157:  41%|████████▏           | 41/100 [00:11<00:17,  3.45it/s]"
     ]
    },
    {
     "name": "stdout",
     "output_type": "stream",
     "text": [
      "generation 41\n",
      "median fitness pop: 38434228931.57\n",
      "best fitness pop: 10309856121.22\n",
      "ml fitting...\n",
      "current ml validation score: 0\n"
     ]
    },
    {
     "name": "stderr",
     "output_type": "stream",
     "text": [
      "\n",
      "\n",
      "\n",
      "\n",
      "\n",
      "\n",
      "Internal CV: -0.157:  41%|████████▏           | 41/100 [00:12<00:17,  3.45it/s]\n",
      "\n",
      "\n",
      "\n",
      "\n",
      "\n",
      "Internal CV: -0.157:  42%|████████▍           | 42/100 [00:12<00:16,  3.47it/s]"
     ]
    },
    {
     "name": "stdout",
     "output_type": "stream",
     "text": [
      "generation 42\n",
      "median fitness pop: 38402671691.43\n",
      "best fitness pop: 10309856121.22\n",
      "ml fitting...\n",
      "current ml validation score: 0\n"
     ]
    },
    {
     "name": "stderr",
     "output_type": "stream",
     "text": [
      "\n",
      "\n",
      "\n",
      "\n",
      "\n",
      "\n",
      "Internal CV: -0.157:  42%|████████▍           | 42/100 [00:12<00:16,  3.47it/s]\n",
      "\n",
      "\n",
      "\n",
      "\n",
      "\n",
      "Internal CV: -0.157:  43%|████████▌           | 43/100 [00:12<00:16,  3.49it/s]"
     ]
    },
    {
     "name": "stdout",
     "output_type": "stream",
     "text": [
      "generation 43\n",
      "median fitness pop: 38362783970.12\n",
      "best fitness pop: 10309856121.22\n",
      "ml fitting...\n",
      "current ml validation score: 0\n"
     ]
    },
    {
     "name": "stderr",
     "output_type": "stream",
     "text": [
      "\n",
      "\n",
      "\n",
      "\n",
      "\n",
      "\n",
      "Internal CV: -0.157:  43%|████████▌           | 43/100 [00:12<00:16,  3.49it/s]\n",
      "\n",
      "\n",
      "\n",
      "\n",
      "\n",
      "Internal CV: -0.157:  44%|████████▊           | 44/100 [00:12<00:16,  3.47it/s]"
     ]
    },
    {
     "name": "stdout",
     "output_type": "stream",
     "text": [
      "generation 44\n",
      "median fitness pop: 38353532829.25\n",
      "best fitness pop: 10309856121.22\n",
      "ml fitting...\n",
      "current ml validation score: 0\n"
     ]
    },
    {
     "name": "stderr",
     "output_type": "stream",
     "text": [
      "\n",
      "\n",
      "\n",
      "\n",
      "\n",
      "\n",
      "Internal CV: -0.157:  44%|████████▊           | 44/100 [00:12<00:16,  3.47it/s]\n",
      "\n",
      "\n",
      "\n",
      "\n",
      "\n",
      "Internal CV: -0.157:  45%|█████████           | 45/100 [00:12<00:15,  3.47it/s]"
     ]
    },
    {
     "name": "stdout",
     "output_type": "stream",
     "text": [
      "generation 45\n",
      "median fitness pop: 38362783970.12\n",
      "best fitness pop: 10309856121.22\n",
      "ml fitting...\n",
      "current ml validation score: 0\n"
     ]
    },
    {
     "name": "stderr",
     "output_type": "stream",
     "text": [
      "\n",
      "\n",
      "\n",
      "\n",
      "\n",
      "\n",
      "Internal CV: -0.157:  45%|█████████           | 45/100 [00:13<00:15,  3.47it/s]\n",
      "\n",
      "\n",
      "\n",
      "\n",
      "\n",
      "Internal CV: -0.157:  46%|█████████▏          | 46/100 [00:13<00:15,  3.46it/s]"
     ]
    },
    {
     "name": "stdout",
     "output_type": "stream",
     "text": [
      "generation 46\n",
      "median fitness pop: 38343891098.34\n",
      "best fitness pop: 10309856121.22\n",
      "ml fitting...\n",
      "current ml validation score: 0\n"
     ]
    },
    {
     "name": "stderr",
     "output_type": "stream",
     "text": [
      "\n",
      "\n",
      "\n",
      "\n",
      "\n",
      "\n",
      "Internal CV: -0.157:  46%|█████████▏          | 46/100 [00:13<00:15,  3.46it/s]\n",
      "\n",
      "\n",
      "\n",
      "\n",
      "\n",
      "Internal CV: -0.157:  47%|█████████▍          | 47/100 [00:13<00:15,  3.42it/s]"
     ]
    },
    {
     "name": "stdout",
     "output_type": "stream",
     "text": [
      "generation 47\n",
      "median fitness pop: 38327355531.32\n",
      "best fitness pop: 10309856121.22\n",
      "ml fitting...\n",
      "current ml validation score: 0\n"
     ]
    },
    {
     "name": "stderr",
     "output_type": "stream",
     "text": [
      "\n",
      "\n",
      "\n",
      "\n",
      "\n",
      "\n",
      "Internal CV: -0.157:  47%|█████████▍          | 47/100 [00:13<00:15,  3.42it/s]\n",
      "\n",
      "\n",
      "\n",
      "\n",
      "\n",
      "Internal CV: -0.157:  48%|█████████▌          | 48/100 [00:13<00:15,  3.37it/s]"
     ]
    },
    {
     "name": "stdout",
     "output_type": "stream",
     "text": [
      "generation 48\n",
      "median fitness pop: 38330521975.28\n",
      "best fitness pop: 10309856121.22\n",
      "ml fitting...\n",
      "current ml validation score: 0\n"
     ]
    },
    {
     "name": "stderr",
     "output_type": "stream",
     "text": [
      "\n",
      "\n",
      "\n",
      "\n",
      "\n",
      "\n",
      "Internal CV: -0.157:  48%|█████████▌          | 48/100 [00:14<00:15,  3.37it/s]\n",
      "\n",
      "\n",
      "\n",
      "\n",
      "\n",
      "Internal CV: -0.157:  49%|█████████▊          | 49/100 [00:14<00:15,  3.36it/s]"
     ]
    },
    {
     "name": "stdout",
     "output_type": "stream",
     "text": [
      "generation 49\n",
      "median fitness pop: 38362783970.12\n",
      "best fitness pop: 10309856121.22\n",
      "ml fitting...\n",
      "current ml validation score: 0\n"
     ]
    },
    {
     "name": "stderr",
     "output_type": "stream",
     "text": [
      "\n",
      "\n",
      "\n",
      "\n",
      "\n",
      "\n",
      "Internal CV: -0.157:  49%|█████████▊          | 49/100 [00:14<00:15,  3.36it/s]\n",
      "\n",
      "\n",
      "\n",
      "\n",
      "\n",
      "Internal CV: -0.157:  50%|██████████          | 50/100 [00:14<00:14,  3.36it/s]"
     ]
    },
    {
     "name": "stdout",
     "output_type": "stream",
     "text": [
      "generation 50\n",
      "median fitness pop: 38362783970.12\n",
      "best fitness pop: 10309856121.22\n",
      "ml fitting...\n",
      "current ml validation score: 0\n"
     ]
    },
    {
     "name": "stderr",
     "output_type": "stream",
     "text": [
      "\n",
      "\n",
      "\n",
      "\n",
      "\n",
      "\n",
      "Internal CV: -0.157:  50%|██████████          | 50/100 [00:14<00:14,  3.36it/s]\n",
      "\n",
      "\n",
      "\n",
      "\n",
      "\n",
      "Internal CV: -0.157:  51%|██████████▏         | 51/100 [00:14<00:14,  3.35it/s]"
     ]
    },
    {
     "name": "stdout",
     "output_type": "stream",
     "text": [
      "generation 51\n",
      "median fitness pop: 38330521975.28\n",
      "best fitness pop: 10309856121.22\n",
      "ml fitting...\n",
      "current ml validation score: 0\n"
     ]
    },
    {
     "name": "stderr",
     "output_type": "stream",
     "text": [
      "\n",
      "\n",
      "\n",
      "\n",
      "\n",
      "\n",
      "Internal CV: -0.157:  51%|██████████▏         | 51/100 [00:15<00:14,  3.35it/s]\n",
      "\n",
      "\n",
      "\n",
      "\n",
      "\n",
      "Internal CV: -0.157:  52%|██████████▍         | 52/100 [00:15<00:14,  3.35it/s]"
     ]
    },
    {
     "name": "stdout",
     "output_type": "stream",
     "text": [
      "generation 52\n",
      "median fitness pop: 38392013873.61\n",
      "best fitness pop: 10309856121.22\n",
      "ml fitting...\n",
      "current ml validation score: 0\n"
     ]
    },
    {
     "name": "stderr",
     "output_type": "stream",
     "text": [
      "\n",
      "\n",
      "\n",
      "\n",
      "\n",
      "\n",
      "Internal CV: -0.157:  52%|██████████▍         | 52/100 [00:15<00:14,  3.35it/s]\n",
      "\n",
      "\n",
      "\n",
      "\n",
      "\n",
      "Internal CV: -0.157:  53%|██████████▌         | 53/100 [00:15<00:13,  3.39it/s]"
     ]
    },
    {
     "name": "stdout",
     "output_type": "stream",
     "text": [
      "generation 53\n",
      "median fitness pop: 38392013873.61\n",
      "best fitness pop: 10309856121.22\n",
      "ml fitting...\n",
      "current ml validation score: 0\n"
     ]
    },
    {
     "name": "stderr",
     "output_type": "stream",
     "text": [
      "\n",
      "\n",
      "\n",
      "\n",
      "\n",
      "\n",
      "Internal CV: -0.157:  53%|██████████▌         | 53/100 [00:15<00:13,  3.39it/s]\n",
      "\n",
      "\n",
      "\n",
      "\n",
      "\n",
      "Internal CV: -0.157:  54%|██████████▊         | 54/100 [00:15<00:13,  3.40it/s]"
     ]
    },
    {
     "name": "stdout",
     "output_type": "stream",
     "text": [
      "generation 54\n",
      "median fitness pop: 38337362217.50\n",
      "best fitness pop: 10309856121.22\n",
      "ml fitting...\n",
      "current ml validation score: 0\n"
     ]
    },
    {
     "name": "stderr",
     "output_type": "stream",
     "text": [
      "\n",
      "\n",
      "\n",
      "\n",
      "\n",
      "\n",
      "Internal CV: -0.157:  54%|██████████▊         | 54/100 [00:15<00:13,  3.40it/s]\n",
      "\n",
      "\n",
      "\n",
      "\n",
      "\n",
      "Internal CV: -0.157:  55%|███████████         | 55/100 [00:15<00:13,  3.41it/s]"
     ]
    },
    {
     "name": "stdout",
     "output_type": "stream",
     "text": [
      "generation 55\n",
      "median fitness pop: 38375327712.02\n",
      "best fitness pop: 10309856121.22\n",
      "ml fitting...\n",
      "current ml validation score: 0\n"
     ]
    },
    {
     "name": "stderr",
     "output_type": "stream",
     "text": [
      "\n",
      "\n",
      "\n",
      "\n",
      "\n",
      "\n",
      "Internal CV: -0.157:  55%|███████████         | 55/100 [00:16<00:13,  3.41it/s]\n",
      "\n",
      "\n",
      "\n",
      "\n",
      "\n",
      "Internal CV: -0.157:  56%|███████████▏        | 56/100 [00:16<00:12,  3.42it/s]"
     ]
    },
    {
     "name": "stdout",
     "output_type": "stream",
     "text": [
      "generation 56\n",
      "median fitness pop: 38337362217.50\n",
      "best fitness pop: 10309856121.22\n",
      "ml fitting...\n",
      "current ml validation score: 0\n"
     ]
    },
    {
     "name": "stderr",
     "output_type": "stream",
     "text": [
      "\n",
      "\n",
      "\n",
      "\n",
      "\n",
      "\n",
      "Internal CV: -0.157:  56%|███████████▏        | 56/100 [00:16<00:12,  3.42it/s]\n",
      "\n",
      "\n",
      "\n",
      "\n",
      "\n",
      "Internal CV: -0.157:  57%|███████████▍        | 57/100 [00:16<00:12,  3.41it/s]"
     ]
    },
    {
     "name": "stdout",
     "output_type": "stream",
     "text": [
      "generation 57\n",
      "median fitness pop: 38358620355.04\n",
      "best fitness pop: 10309856121.22\n",
      "ml fitting...\n",
      "current ml validation score: 0\n"
     ]
    },
    {
     "name": "stderr",
     "output_type": "stream",
     "text": [
      "\n",
      "\n",
      "\n",
      "\n",
      "\n",
      "\n",
      "Internal CV: -0.157:  57%|███████████▍        | 57/100 [00:16<00:12,  3.41it/s]\n",
      "\n",
      "\n",
      "\n",
      "\n",
      "\n",
      "Internal CV: -0.157:  58%|███████████▌        | 58/100 [00:16<00:12,  3.41it/s]"
     ]
    },
    {
     "name": "stdout",
     "output_type": "stream",
     "text": [
      "generation 58\n",
      "median fitness pop: 38324810150.74\n",
      "best fitness pop: 10309856121.22\n",
      "ml fitting...\n",
      "current ml validation score: 0\n"
     ]
    },
    {
     "name": "stderr",
     "output_type": "stream",
     "text": [
      "\n",
      "\n",
      "\n",
      "\n",
      "\n",
      "\n",
      "Internal CV: -0.157:  58%|███████████▌        | 58/100 [00:17<00:12,  3.41it/s]\n",
      "\n",
      "\n",
      "\n",
      "\n",
      "\n",
      "Internal CV: -0.157:  59%|███████████▊        | 59/100 [00:17<00:11,  3.44it/s]"
     ]
    },
    {
     "name": "stdout",
     "output_type": "stream",
     "text": [
      "generation 59\n",
      "median fitness pop: 38323599100.31\n",
      "best fitness pop: 10309856121.22\n",
      "ml fitting...\n",
      "current ml validation score: 0\n"
     ]
    },
    {
     "name": "stderr",
     "output_type": "stream",
     "text": [
      "\n",
      "\n",
      "\n",
      "\n",
      "\n",
      "\n",
      "Internal CV: -0.157:  59%|███████████▊        | 59/100 [00:17<00:11,  3.44it/s]\n",
      "\n",
      "\n",
      "\n",
      "\n",
      "\n",
      "Internal CV: -0.157:  60%|████████████        | 60/100 [00:17<00:11,  3.44it/s]"
     ]
    },
    {
     "name": "stdout",
     "output_type": "stream",
     "text": [
      "generation 60\n",
      "median fitness pop: 38324332245.55\n",
      "best fitness pop: 10309856121.22\n",
      "ml fitting...\n",
      "current ml validation score: 0\n"
     ]
    },
    {
     "name": "stderr",
     "output_type": "stream",
     "text": [
      "\n",
      "\n",
      "\n",
      "\n",
      "\n",
      "\n",
      "Internal CV: -0.157:  60%|████████████        | 60/100 [00:17<00:11,  3.44it/s]\n",
      "\n",
      "\n",
      "\n",
      "\n",
      "\n",
      "Internal CV: -0.157:  61%|████████████▏       | 61/100 [00:17<00:11,  3.45it/s]"
     ]
    },
    {
     "name": "stdout",
     "output_type": "stream",
     "text": [
      "generation 61\n",
      "median fitness pop: 38325928367.02\n",
      "best fitness pop: 10309856121.22\n",
      "ml fitting...\n",
      "current ml validation score: 0\n"
     ]
    },
    {
     "name": "stderr",
     "output_type": "stream",
     "text": [
      "\n",
      "\n",
      "\n",
      "\n",
      "\n",
      "\n",
      "Internal CV: -0.157:  61%|████████████▏       | 61/100 [00:17<00:11,  3.45it/s]\n",
      "\n",
      "\n",
      "\n",
      "\n",
      "\n",
      "Internal CV: -0.157:  62%|████████████▍       | 62/100 [00:17<00:10,  3.48it/s]"
     ]
    },
    {
     "name": "stdout",
     "output_type": "stream",
     "text": [
      "generation 62\n",
      "median fitness pop: 38329095271.93\n",
      "best fitness pop: 10309856121.22\n",
      "ml fitting...\n",
      "current ml validation score: 0\n"
     ]
    },
    {
     "name": "stderr",
     "output_type": "stream",
     "text": [
      "\n",
      "\n",
      "\n",
      "\n",
      "\n",
      "\n",
      "Internal CV: -0.157:  62%|████████████▍       | 62/100 [00:18<00:10,  3.48it/s]\n",
      "\n",
      "\n",
      "\n",
      "\n",
      "\n",
      "Internal CV: -0.157:  63%|████████████▌       | 63/100 [00:18<00:10,  3.49it/s]"
     ]
    },
    {
     "name": "stdout",
     "output_type": "stream",
     "text": [
      "generation 63\n",
      "median fitness pop: 38324332245.55\n",
      "best fitness pop: 10309856121.22\n",
      "ml fitting...\n",
      "current ml validation score: 0\n"
     ]
    },
    {
     "name": "stderr",
     "output_type": "stream",
     "text": [
      "\n",
      "\n",
      "\n",
      "\n",
      "\n",
      "\n",
      "Internal CV: -0.157:  63%|████████████▌       | 63/100 [00:18<00:10,  3.49it/s]\n",
      "\n",
      "\n",
      "\n",
      "\n",
      "\n",
      "Internal CV: -0.157:  64%|████████████▊       | 64/100 [00:18<00:10,  3.50it/s]"
     ]
    },
    {
     "name": "stdout",
     "output_type": "stream",
     "text": [
      "generation 64\n",
      "median fitness pop: 38324332245.55\n",
      "best fitness pop: 10309856121.22\n",
      "ml fitting...\n",
      "current ml validation score: 0\n"
     ]
    },
    {
     "name": "stderr",
     "output_type": "stream",
     "text": [
      "\n",
      "\n",
      "\n",
      "\n",
      "\n",
      "\n",
      "Internal CV: -0.157:  64%|████████████▊       | 64/100 [00:18<00:10,  3.50it/s]\n",
      "\n",
      "\n",
      "\n",
      "\n",
      "\n",
      "Internal CV: -0.157:  65%|█████████████       | 65/100 [00:18<00:09,  3.52it/s]"
     ]
    },
    {
     "name": "stdout",
     "output_type": "stream",
     "text": [
      "generation 65\n",
      "median fitness pop: 38335121523.42\n",
      "best fitness pop: 10309856121.22\n",
      "ml fitting...\n",
      "current ml validation score: 0\n"
     ]
    },
    {
     "name": "stderr",
     "output_type": "stream",
     "text": [
      "\n",
      "\n",
      "\n",
      "\n",
      "\n",
      "\n",
      "Internal CV: -0.157:  65%|█████████████       | 65/100 [00:19<00:09,  3.52it/s]\n",
      "\n",
      "\n",
      "\n",
      "\n",
      "\n",
      "Internal CV: -0.157:  66%|█████████████▏      | 66/100 [00:19<00:09,  3.50it/s]"
     ]
    },
    {
     "name": "stdout",
     "output_type": "stream",
     "text": [
      "generation 66\n",
      "median fitness pop: 38344351102.62\n",
      "best fitness pop: 10309856121.22\n",
      "ml fitting...\n",
      "current ml validation score: 0\n"
     ]
    },
    {
     "name": "stderr",
     "output_type": "stream",
     "text": [
      "\n",
      "\n",
      "\n",
      "\n",
      "\n",
      "\n",
      "Internal CV: -0.157:  66%|█████████████▏      | 66/100 [00:19<00:09,  3.50it/s]\n",
      "\n",
      "\n",
      "\n",
      "\n",
      "\n",
      "Internal CV: -0.157:  67%|█████████████▍      | 67/100 [00:19<00:10,  3.22it/s]"
     ]
    },
    {
     "name": "stdout",
     "output_type": "stream",
     "text": [
      "generation 67\n",
      "median fitness pop: 38324810150.74\n",
      "best fitness pop: 10309856121.22\n",
      "ml fitting...\n",
      "current ml validation score: 0\n"
     ]
    },
    {
     "name": "stderr",
     "output_type": "stream",
     "text": [
      "\n",
      "\n",
      "\n",
      "\n",
      "\n",
      "\n",
      "Internal CV: -0.157:  67%|█████████████▍      | 67/100 [00:19<00:10,  3.22it/s]\n",
      "\n",
      "\n",
      "\n",
      "\n",
      "\n",
      "Internal CV: -0.157:  68%|█████████████▌      | 68/100 [00:19<00:09,  3.31it/s]"
     ]
    },
    {
     "name": "stdout",
     "output_type": "stream",
     "text": [
      "generation 68\n",
      "median fitness pop: 38317861882.01\n",
      "best fitness pop: 10309856121.22\n",
      "ml fitting...\n",
      "current ml validation score: 0\n"
     ]
    },
    {
     "name": "stderr",
     "output_type": "stream",
     "text": [
      "\n",
      "\n",
      "\n",
      "\n",
      "\n",
      "\n",
      "Internal CV: -0.157:  68%|█████████████▌      | 68/100 [00:19<00:09,  3.31it/s]\n",
      "\n",
      "\n",
      "\n",
      "\n",
      "\n",
      "Internal CV: -0.157:  69%|█████████████▊      | 69/100 [00:19<00:09,  3.37it/s]"
     ]
    },
    {
     "name": "stdout",
     "output_type": "stream",
     "text": [
      "generation 69\n",
      "median fitness pop: 38316791516.52\n",
      "best fitness pop: 10309856121.22\n",
      "ml fitting...\n",
      "current ml validation score: 0\n"
     ]
    },
    {
     "name": "stderr",
     "output_type": "stream",
     "text": [
      "\n",
      "\n",
      "\n",
      "\n",
      "\n",
      "\n",
      "Internal CV: -0.157:  69%|█████████████▊      | 69/100 [00:20<00:09,  3.37it/s]\n",
      "\n",
      "\n",
      "\n",
      "\n",
      "\n",
      "Internal CV: -0.157:  70%|██████████████      | 70/100 [00:20<00:08,  3.43it/s]"
     ]
    },
    {
     "name": "stdout",
     "output_type": "stream",
     "text": [
      "generation 70\n",
      "median fitness pop: 38316790094.43\n",
      "best fitness pop: 10309856121.22\n",
      "ml fitting...\n",
      "current ml validation score: 0\n"
     ]
    },
    {
     "name": "stderr",
     "output_type": "stream",
     "text": [
      "\n",
      "\n",
      "\n",
      "\n",
      "\n",
      "\n",
      "Internal CV: -0.157:  70%|██████████████      | 70/100 [00:20<00:08,  3.43it/s]\n",
      "\n",
      "\n",
      "\n",
      "\n",
      "\n",
      "Internal CV: -0.157:  71%|██████████████▏     | 71/100 [00:20<00:08,  3.47it/s]"
     ]
    },
    {
     "name": "stdout",
     "output_type": "stream",
     "text": [
      "generation 71\n",
      "median fitness pop: 38316790887.96\n",
      "best fitness pop: 10309856121.22\n",
      "ml fitting...\n",
      "current ml validation score: 0\n"
     ]
    },
    {
     "name": "stderr",
     "output_type": "stream",
     "text": [
      "\n",
      "\n",
      "\n",
      "\n",
      "\n",
      "\n",
      "Internal CV: -0.157:  71%|██████████████▏     | 71/100 [00:20<00:08,  3.47it/s]\n",
      "\n",
      "\n",
      "\n",
      "\n",
      "\n",
      "Internal CV: -0.157:  72%|██████████████▍     | 72/100 [00:20<00:08,  3.46it/s]"
     ]
    },
    {
     "name": "stdout",
     "output_type": "stream",
     "text": [
      "generation 72\n",
      "median fitness pop: 38316788696.55\n",
      "best fitness pop: 10309856121.22\n",
      "ml fitting...\n",
      "current ml validation score: 0\n"
     ]
    },
    {
     "name": "stderr",
     "output_type": "stream",
     "text": [
      "\n",
      "\n",
      "\n",
      "\n",
      "\n",
      "\n",
      "Internal CV: -0.157:  72%|██████████████▍     | 72/100 [00:21<00:08,  3.46it/s]\n",
      "\n",
      "\n",
      "\n",
      "\n",
      "\n",
      "Internal CV: -0.157:  73%|██████████████▌     | 73/100 [00:21<00:07,  3.47it/s]"
     ]
    },
    {
     "name": "stdout",
     "output_type": "stream",
     "text": [
      "generation 73\n",
      "median fitness pop: 38317861882.01\n",
      "best fitness pop: 10309856121.22\n",
      "ml fitting...\n",
      "current ml validation score: 0\n"
     ]
    },
    {
     "name": "stderr",
     "output_type": "stream",
     "text": [
      "\n",
      "\n",
      "\n",
      "\n",
      "\n",
      "\n",
      "Internal CV: -0.157:  73%|██████████████▌     | 73/100 [00:21<00:07,  3.47it/s]\n",
      "\n",
      "\n",
      "\n",
      "\n",
      "\n",
      "Internal CV: -0.157:  74%|██████████████▊     | 74/100 [00:21<00:07,  3.50it/s]"
     ]
    },
    {
     "name": "stdout",
     "output_type": "stream",
     "text": [
      "generation 74\n",
      "median fitness pop: 38380377647.89\n",
      "best fitness pop: 10309856121.22\n",
      "ml fitting...\n",
      "current ml validation score: 0\n"
     ]
    },
    {
     "name": "stderr",
     "output_type": "stream",
     "text": [
      "\n",
      "\n",
      "\n",
      "\n",
      "\n",
      "\n",
      "Internal CV: -0.157:  74%|██████████████▊     | 74/100 [00:21<00:07,  3.50it/s]\n",
      "\n",
      "\n",
      "\n",
      "\n",
      "\n",
      "Internal CV: -0.157:  75%|███████████████     | 75/100 [00:21<00:07,  3.49it/s]"
     ]
    },
    {
     "name": "stdout",
     "output_type": "stream",
     "text": [
      "generation 75\n",
      "median fitness pop: 38317861882.01\n",
      "best fitness pop: 10309856121.22\n",
      "ml fitting...\n",
      "current ml validation score: 0\n"
     ]
    },
    {
     "name": "stderr",
     "output_type": "stream",
     "text": [
      "\n",
      "\n",
      "\n",
      "\n",
      "\n",
      "\n",
      "Internal CV: -0.157:  75%|███████████████     | 75/100 [00:21<00:07,  3.49it/s]\n",
      "\n",
      "\n",
      "\n",
      "\n",
      "\n",
      "Internal CV: -0.157:  76%|███████████████▏    | 76/100 [00:21<00:06,  3.48it/s]"
     ]
    },
    {
     "name": "stdout",
     "output_type": "stream",
     "text": [
      "generation 76\n",
      "median fitness pop: 38321771994.94\n",
      "best fitness pop: 7345932691.91\n",
      "ml fitting...\n",
      "current ml validation score: 0\n"
     ]
    },
    {
     "name": "stderr",
     "output_type": "stream",
     "text": [
      "\n",
      "\n",
      "\n",
      "\n",
      "\n",
      "\n",
      "Internal CV: -0.157:  76%|███████████████▏    | 76/100 [00:22<00:06,  3.48it/s]\n",
      "\n",
      "\n",
      "\n",
      "\n",
      "\n",
      "Internal CV: -0.157:  77%|███████████████▍    | 77/100 [00:22<00:06,  3.48it/s]"
     ]
    },
    {
     "name": "stdout",
     "output_type": "stream",
     "text": [
      "generation 77\n",
      "median fitness pop: 38316619718.59\n",
      "best fitness pop: 7345932691.91\n",
      "ml fitting...\n",
      "current ml validation score: 0\n"
     ]
    },
    {
     "name": "stderr",
     "output_type": "stream",
     "text": [
      "\n",
      "\n",
      "\n",
      "\n",
      "\n",
      "\n",
      "Internal CV: -0.157:  77%|███████████████▍    | 77/100 [00:22<00:06,  3.48it/s]\n",
      "\n",
      "\n",
      "\n",
      "\n",
      "\n",
      "Internal CV: -0.157:  78%|███████████████▌    | 78/100 [00:22<00:06,  3.45it/s]"
     ]
    },
    {
     "name": "stdout",
     "output_type": "stream",
     "text": [
      "generation 78\n",
      "median fitness pop: 38316270706.41\n",
      "best fitness pop: 7345932691.91\n",
      "ml fitting...\n",
      "current ml validation score: 0\n"
     ]
    },
    {
     "name": "stderr",
     "output_type": "stream",
     "text": [
      "\n",
      "\n",
      "\n",
      "\n",
      "\n",
      "\n",
      "Internal CV: -0.157:  78%|███████████████▌    | 78/100 [00:22<00:06,  3.45it/s]\n",
      "\n",
      "\n",
      "\n",
      "\n",
      "\n",
      "Internal CV: -0.157:  79%|███████████████▊    | 79/100 [00:22<00:06,  3.46it/s]"
     ]
    },
    {
     "name": "stdout",
     "output_type": "stream",
     "text": [
      "generation 79\n",
      "median fitness pop: 38314446641.48\n",
      "best fitness pop: 7345932691.91\n",
      "ml fitting...\n",
      "current ml validation score: 0\n"
     ]
    },
    {
     "name": "stderr",
     "output_type": "stream",
     "text": [
      "\n",
      "\n",
      "\n",
      "\n",
      "\n",
      "\n",
      "Internal CV: -0.157:  79%|███████████████▊    | 79/100 [00:23<00:06,  3.46it/s]\n",
      "\n",
      "\n",
      "\n",
      "\n",
      "\n",
      "Internal CV: -0.157:  80%|████████████████    | 80/100 [00:23<00:05,  3.45it/s]"
     ]
    },
    {
     "name": "stdout",
     "output_type": "stream",
     "text": [
      "generation 80\n",
      "median fitness pop: 38312250995.69\n",
      "best fitness pop: 7345932691.91\n",
      "ml fitting...\n",
      "current ml validation score: 0\n"
     ]
    },
    {
     "name": "stderr",
     "output_type": "stream",
     "text": [
      "\n",
      "\n",
      "\n",
      "\n",
      "\n",
      "\n",
      "Internal CV: -0.157:  80%|████████████████    | 80/100 [00:23<00:05,  3.45it/s]\n",
      "\n",
      "\n",
      "\n",
      "\n",
      "\n",
      "Internal CV: -0.157:  81%|████████████████▏   | 81/100 [00:23<00:05,  3.47it/s]"
     ]
    },
    {
     "name": "stdout",
     "output_type": "stream",
     "text": [
      "generation 81\n",
      "median fitness pop: 38302515917.94\n",
      "best fitness pop: 7345932691.91\n",
      "ml fitting...\n",
      "current ml validation score: 0\n"
     ]
    },
    {
     "name": "stderr",
     "output_type": "stream",
     "text": [
      "\n",
      "\n",
      "\n",
      "\n",
      "\n",
      "\n",
      "Internal CV: -0.157:  81%|████████████████▏   | 81/100 [00:23<00:05,  3.47it/s]\n",
      "\n",
      "\n",
      "\n",
      "\n",
      "\n",
      "Internal CV: -0.157:  82%|████████████████▍   | 82/100 [00:23<00:05,  3.48it/s]"
     ]
    },
    {
     "name": "stdout",
     "output_type": "stream",
     "text": [
      "generation 82\n",
      "median fitness pop: 38293949201.33\n",
      "best fitness pop: 7345932691.91\n",
      "ml fitting...\n",
      "current ml validation score: 0\n"
     ]
    },
    {
     "name": "stderr",
     "output_type": "stream",
     "text": [
      "\n",
      "\n",
      "\n",
      "\n",
      "\n",
      "\n",
      "Internal CV: -0.157:  82%|████████████████▍   | 82/100 [00:24<00:05,  3.48it/s]\n",
      "\n",
      "\n",
      "\n",
      "\n",
      "\n",
      "Internal CV: -0.157:  83%|████████████████▌   | 83/100 [00:24<00:04,  3.48it/s]"
     ]
    },
    {
     "name": "stdout",
     "output_type": "stream",
     "text": [
      "generation 83\n",
      "median fitness pop: 38301070984.29\n",
      "best fitness pop: 7345932691.91\n",
      "ml fitting...\n",
      "current ml validation score: 0\n"
     ]
    },
    {
     "name": "stderr",
     "output_type": "stream",
     "text": [
      "\n",
      "\n",
      "\n",
      "\n",
      "\n",
      "\n",
      "Internal CV: -0.157:  83%|████████████████▌   | 83/100 [00:24<00:04,  3.48it/s]\n",
      "\n",
      "\n",
      "\n",
      "\n",
      "\n",
      "Internal CV: -0.157:  84%|████████████████▊   | 84/100 [00:24<00:04,  3.48it/s]"
     ]
    },
    {
     "name": "stdout",
     "output_type": "stream",
     "text": [
      "generation 84\n",
      "median fitness pop: 38293949201.33\n",
      "best fitness pop: 7345932691.91\n",
      "ml fitting...\n",
      "current ml validation score: 0\n"
     ]
    },
    {
     "name": "stderr",
     "output_type": "stream",
     "text": [
      "\n",
      "\n",
      "\n",
      "\n",
      "\n",
      "\n",
      "Internal CV: -0.157:  84%|████████████████▊   | 84/100 [00:24<00:04,  3.48it/s]\n",
      "\n",
      "\n",
      "\n",
      "\n",
      "\n",
      "Internal CV: -0.157:  85%|█████████████████   | 85/100 [00:24<00:04,  3.48it/s]"
     ]
    },
    {
     "name": "stdout",
     "output_type": "stream",
     "text": [
      "generation 85\n",
      "median fitness pop: 38293949201.33\n",
      "best fitness pop: 7345932691.91\n",
      "ml fitting...\n",
      "current ml validation score: 0\n"
     ]
    },
    {
     "name": "stderr",
     "output_type": "stream",
     "text": [
      "\n",
      "\n",
      "\n",
      "\n",
      "\n",
      "\n",
      "Internal CV: -0.157:  85%|█████████████████   | 85/100 [00:24<00:04,  3.48it/s]\n",
      "\n",
      "\n",
      "\n",
      "\n",
      "\n",
      "Internal CV: -0.157:  86%|█████████████████▏  | 86/100 [00:24<00:04,  3.47it/s]"
     ]
    },
    {
     "name": "stdout",
     "output_type": "stream",
     "text": [
      "generation 86\n",
      "median fitness pop: 38269646057.37\n",
      "best fitness pop: 7345932691.91\n",
      "ml fitting...\n",
      "current ml validation score: 0\n"
     ]
    },
    {
     "name": "stderr",
     "output_type": "stream",
     "text": [
      "\n",
      "\n",
      "\n",
      "\n",
      "\n",
      "\n",
      "Internal CV: -0.157:  86%|█████████████████▏  | 86/100 [00:25<00:04,  3.47it/s]\n",
      "\n",
      "\n",
      "\n",
      "\n",
      "\n",
      "Internal CV: -0.157:  87%|█████████████████▍  | 87/100 [00:25<00:03,  3.46it/s]"
     ]
    },
    {
     "name": "stdout",
     "output_type": "stream",
     "text": [
      "generation 87\n",
      "median fitness pop: 38222607525.16\n",
      "best fitness pop: 7345932691.91\n",
      "ml fitting...\n",
      "current ml validation score: 0\n"
     ]
    },
    {
     "name": "stderr",
     "output_type": "stream",
     "text": [
      "\n",
      "\n",
      "\n",
      "\n",
      "\n",
      "\n",
      "Internal CV: -0.157:  87%|█████████████████▍  | 87/100 [00:25<00:03,  3.46it/s]\n",
      "\n",
      "\n",
      "\n",
      "\n",
      "\n",
      "Internal CV: -0.157:  88%|█████████████████▌  | 88/100 [00:25<00:03,  3.47it/s]"
     ]
    },
    {
     "name": "stdout",
     "output_type": "stream",
     "text": [
      "generation 88\n",
      "median fitness pop: 38206594137.70\n",
      "best fitness pop: 7345932691.91\n",
      "ml fitting...\n",
      "current ml validation score: 0\n"
     ]
    },
    {
     "name": "stderr",
     "output_type": "stream",
     "text": [
      "\n",
      "\n",
      "\n",
      "\n",
      "\n",
      "\n",
      "Internal CV: -0.157:  88%|█████████████████▌  | 88/100 [00:25<00:03,  3.47it/s]\n",
      "\n",
      "\n",
      "\n",
      "\n",
      "\n",
      "Internal CV: -0.157:  89%|█████████████████▊  | 89/100 [00:25<00:03,  3.46it/s]"
     ]
    },
    {
     "name": "stdout",
     "output_type": "stream",
     "text": [
      "generation 89\n",
      "median fitness pop: 38139807821.79\n",
      "best fitness pop: 7345932691.91\n",
      "ml fitting...\n",
      "current ml validation score: 0\n"
     ]
    },
    {
     "name": "stderr",
     "output_type": "stream",
     "text": [
      "\n",
      "\n",
      "\n",
      "\n",
      "\n",
      "\n",
      "Internal CV: -0.157:  89%|█████████████████▊  | 89/100 [00:26<00:03,  3.46it/s]\n",
      "\n",
      "\n",
      "\n",
      "\n",
      "\n",
      "Internal CV: -0.157:  90%|██████████████████  | 90/100 [00:26<00:02,  3.47it/s]"
     ]
    },
    {
     "name": "stdout",
     "output_type": "stream",
     "text": [
      "generation 90\n",
      "median fitness pop: 38118843893.11\n",
      "best fitness pop: 7345932691.91\n",
      "ml fitting...\n",
      "current ml validation score: 0\n"
     ]
    },
    {
     "name": "stderr",
     "output_type": "stream",
     "text": [
      "\n",
      "\n",
      "\n",
      "\n",
      "\n",
      "\n",
      "Internal CV: -0.157:  90%|██████████████████  | 90/100 [00:26<00:02,  3.47it/s]\n",
      "\n",
      "\n",
      "\n",
      "\n",
      "\n",
      "Internal CV: -0.157:  91%|██████████████████▏ | 91/100 [00:26<00:02,  3.47it/s]"
     ]
    },
    {
     "name": "stdout",
     "output_type": "stream",
     "text": [
      "generation 91\n",
      "median fitness pop: 38038413214.98\n",
      "best fitness pop: 7345932691.91\n",
      "ml fitting...\n",
      "current ml validation score: 0\n"
     ]
    },
    {
     "name": "stderr",
     "output_type": "stream",
     "text": [
      "\n",
      "\n",
      "\n",
      "\n",
      "\n",
      "\n",
      "Internal CV: -0.157:  91%|██████████████████▏ | 91/100 [00:26<00:02,  3.47it/s]\n",
      "\n",
      "\n",
      "\n",
      "\n",
      "\n",
      "Internal CV: -0.157:  92%|██████████████████▍ | 92/100 [00:26<00:02,  3.47it/s]"
     ]
    },
    {
     "name": "stdout",
     "output_type": "stream",
     "text": [
      "generation 92\n",
      "median fitness pop: 38088089593.70\n",
      "best fitness pop: 7345932691.91\n",
      "ml fitting...\n",
      "current ml validation score: 0\n"
     ]
    },
    {
     "name": "stderr",
     "output_type": "stream",
     "text": [
      "\n",
      "\n",
      "\n",
      "\n",
      "\n",
      "\n",
      "Internal CV: -0.157:  92%|██████████████████▍ | 92/100 [00:26<00:02,  3.47it/s]\n",
      "\n",
      "\n",
      "\n",
      "\n",
      "\n",
      "Internal CV: -0.157:  93%|██████████████████▌ | 93/100 [00:26<00:02,  3.46it/s]"
     ]
    },
    {
     "name": "stdout",
     "output_type": "stream",
     "text": [
      "generation 93\n",
      "median fitness pop: 38120142072.20\n",
      "best fitness pop: 7345932691.91\n",
      "ml fitting...\n",
      "current ml validation score: 0\n"
     ]
    },
    {
     "name": "stderr",
     "output_type": "stream",
     "text": [
      "\n",
      "\n",
      "\n",
      "\n",
      "\n",
      "\n",
      "Internal CV: -0.157:  93%|██████████████████▌ | 93/100 [00:27<00:02,  3.46it/s]\n",
      "\n",
      "\n",
      "\n",
      "\n",
      "\n",
      "Internal CV: -0.157:  94%|██████████████████▊ | 94/100 [00:27<00:01,  3.45it/s]"
     ]
    },
    {
     "name": "stdout",
     "output_type": "stream",
     "text": [
      "generation 94\n",
      "median fitness pop: 38108518697.82\n",
      "best fitness pop: 7345932691.91\n",
      "ml fitting...\n",
      "current ml validation score: 0\n"
     ]
    },
    {
     "name": "stderr",
     "output_type": "stream",
     "text": [
      "\n",
      "\n",
      "\n",
      "\n",
      "\n",
      "\n",
      "Internal CV: -0.157:  94%|██████████████████▊ | 94/100 [00:27<00:01,  3.45it/s]\n",
      "\n",
      "\n",
      "\n",
      "\n",
      "\n",
      "Internal CV: -0.157:  95%|███████████████████ | 95/100 [00:27<00:01,  3.45it/s]"
     ]
    },
    {
     "name": "stdout",
     "output_type": "stream",
     "text": [
      "generation 95\n",
      "median fitness pop: 37980922093.32\n",
      "best fitness pop: 7345932691.91\n",
      "ml fitting...\n",
      "current ml validation score: 0\n"
     ]
    },
    {
     "name": "stderr",
     "output_type": "stream",
     "text": [
      "\n",
      "\n",
      "\n",
      "\n",
      "\n",
      "\n",
      "Internal CV: -0.157:  95%|███████████████████ | 95/100 [00:27<00:01,  3.45it/s]\n",
      "\n",
      "\n",
      "\n",
      "\n",
      "\n",
      "Internal CV: -0.157:  96%|███████████████████▏| 96/100 [00:27<00:01,  3.46it/s]"
     ]
    },
    {
     "name": "stdout",
     "output_type": "stream",
     "text": [
      "generation 96\n",
      "median fitness pop: 38108518697.82\n",
      "best fitness pop: 7345932691.91\n",
      "ml fitting...\n",
      "current ml validation score: 0\n"
     ]
    },
    {
     "name": "stderr",
     "output_type": "stream",
     "text": [
      "\n",
      "\n",
      "\n",
      "\n",
      "\n",
      "\n",
      "Internal CV: -0.157:  96%|███████████████████▏| 96/100 [00:28<00:01,  3.46it/s]\n",
      "\n",
      "\n",
      "\n",
      "\n",
      "\n",
      "Internal CV: -0.157:  97%|███████████████████▍| 97/100 [00:28<00:00,  3.45it/s]"
     ]
    },
    {
     "name": "stdout",
     "output_type": "stream",
     "text": [
      "generation 97\n",
      "median fitness pop: 38038413214.98\n",
      "best fitness pop: 7345932691.91\n",
      "ml fitting...\n",
      "current ml validation score: 0\n"
     ]
    },
    {
     "name": "stderr",
     "output_type": "stream",
     "text": [
      "\n",
      "\n",
      "\n",
      "\n",
      "\n",
      "\n",
      "Internal CV: -0.157:  97%|███████████████████▍| 97/100 [00:28<00:00,  3.45it/s]\n",
      "\n",
      "\n",
      "\n",
      "\n",
      "\n",
      "Internal CV: -0.157:  98%|███████████████████▌| 98/100 [00:28<00:00,  3.45it/s]"
     ]
    },
    {
     "name": "stdout",
     "output_type": "stream",
     "text": [
      "generation 98\n",
      "median fitness pop: 38153342234.25\n",
      "best fitness pop: 7345932691.91\n",
      "ml fitting...\n",
      "current ml validation score: 0\n"
     ]
    },
    {
     "name": "stderr",
     "output_type": "stream",
     "text": [
      "\n",
      "\n",
      "\n",
      "\n",
      "\n",
      "\n",
      "Internal CV: -0.157:  98%|███████████████████▌| 98/100 [00:28<00:00,  3.45it/s]\n",
      "\n",
      "\n",
      "\n",
      "\n",
      "\n",
      "Internal CV: -0.157:  99%|███████████████████▊| 99/100 [00:28<00:00,  3.45it/s]"
     ]
    },
    {
     "name": "stdout",
     "output_type": "stream",
     "text": [
      "generation 99\n",
      "median fitness pop: 38260517220.96\n",
      "best fitness pop: 7345932691.91\n",
      "ml fitting...\n",
      "current ml validation score: 0\n"
     ]
    },
    {
     "name": "stderr",
     "output_type": "stream",
     "text": [
      "\n",
      "\n",
      "\n",
      "\n",
      "\n",
      "\n",
      "Internal CV: -0.157:  99%|███████████████████▊| 99/100 [00:28<00:00,  3.45it/s]\n",
      "\n",
      "\n",
      "\n",
      "\n",
      "\n",
      "Internal CV: -0.157: 100%|███████████████████| 100/100 [00:28<00:00,  3.45it/s]"
     ]
    },
    {
     "name": "stdout",
     "output_type": "stream",
     "text": [
      "finished. best internal val score: -0.157\n",
      "final model:\n",
      " original features\n"
     ]
    },
    {
     "data": {
      "text/plain": [
       "FEW(boolean=False, c=True, classification=False, clean=False,\n",
       "  crossover_rate=0.5, disable_update_check=False, dtypes=None,\n",
       "  elitism=True, erc=False, fit_choice=None, generations=100,\n",
       "  lex_size=False, max_depth=2, max_depth_init=2, max_stall=100, mdr=False,\n",
       "  min_depth=1,\n",
       "  ml=RandomForestRegressor(bootstrap=True, criterion='mse', max_depth=None,\n",
       "           max_features='auto', max_leaf_nodes=None,\n",
       "           min_impurity_decrease=0.0, min_impurity_split=None,\n",
       "           min_samples_leaf=1, min_samples_split=2,\n",
       "           min_weight_fraction_leaf=0.0, n_estimators=10, n_jobs=None,\n",
       "           oob_score=False, random_state=None, verbose=0, warm_start=False),\n",
       "  mutation_rate=0.5, names=None, normalize=True, op_weight=False,\n",
       "  operators=None, otype='f', population_size=500, random_state=None,\n",
       "  scoring_function=<function rmsle_cv at 0x000000E35891FEA0>,\n",
       "  seed_with_ml=True, sel='epsilon_lexicase', tourn_size=2,\n",
       "  track_diversity=False, verbosity=2, weight_parents=True)"
      ]
     },
     "execution_count": 12,
     "metadata": {},
     "output_type": "execute_result"
    }
   ],
   "source": [
    "from few import FEW\n",
    "from sklearn.ensemble import RandomForestRegressor,GradientBoostingRegressor\n",
    "from sklearn.linear_model import LassoLarsCV\n",
    "\n",
    "def rmsle_cv(y_true, y_pred) : \n",
    "    assert len(y_true) == len(y_pred)\n",
    "    if not (y_true >= 0).all() and not (y_pred >= 0).all():\n",
    "        raise ValueError(\"Mean Squared Logarithmic Error cannot be used when \"\n",
    "                         \"targets contain negative values.\")\n",
    "    return -(np.sqrt(np.mean((np.log(1+y_pred) - np.log(1+y_true))**2)))\n",
    "\n",
    "learner = FEW(generations=100,population_size=500,ml=RandomForestRegressor(),scoring_function=rmsle_cv, verbosity=2)\n",
    "X = X_train.values\n",
    "y = y_train.values\n",
    "learner.fit(X,y)\n",
    "\n",
    "  \n"
   ]
  },
  {
   "cell_type": "code",
   "execution_count": null,
   "metadata": {},
   "outputs": [],
   "source": []
  }
 ],
 "metadata": {
  "kernelspec": {
   "display_name": "Python 3",
   "language": "python",
   "name": "python3"
  },
  "language_info": {
   "codemirror_mode": {
    "name": "ipython",
    "version": 3
   },
   "file_extension": ".py",
   "mimetype": "text/x-python",
   "name": "python",
   "nbconvert_exporter": "python",
   "pygments_lexer": "ipython3",
   "version": "3.6.5"
  }
 },
 "nbformat": 4,
 "nbformat_minor": 2
}
